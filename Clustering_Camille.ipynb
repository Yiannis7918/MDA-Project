{
 "cells": [
  {
   "cell_type": "markdown",
   "metadata": {},
   "source": [
    "We have dataset containing coordinate information of the location of Cardiac Arrest, and vectors such as AED, MUG, PIT and AMB. Beyond that, we also have information about how long does it take for vectors to response and arrive at the intervention for rescure.\n",
    "We have plotted the locations on the same map and identified an uneven distribution of Cardiac Arrest and vectors across Belgium. We want to understand how the distribution of cardiac arrest and vectors changes in different region in Belgium. To understand this variation, we want to cluster Cardiac Arrest, and vectors and generate a heat map. \n",
    "\n",
    "1. Cluster Belgium by Density of Cardiac Arrest, show the heat map\n",
    "\n",
    "2. Cluster Belgium by Density of # AED + # MUG + #PIT + # AMB, , show the heat map\n",
    "\n",
    "3. Cluster Belgium by urgency score, , show the heat map\n",
    "Urgency Score: # Cardiac Arrest / (# AED + # MUG + #PIT + # AMB + 1)\n",
    "\n",
    "4. Cluster Belgium by intervention time\n",
    "\n",
    "5. what other information I can obtain from google map?\n",
    " tranffic?\n",
    " area for resident / work / commercial / entertain / others"
   ]
  }
 ],
 "metadata": {
  "kernelspec": {
   "display_name": "waffle",
   "language": "python",
   "name": "python3"
  },
  "language_info": {
   "name": "python",
   "version": "3.11.5"
  }
 },
 "nbformat": 4,
 "nbformat_minor": 2
}
