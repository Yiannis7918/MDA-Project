{
 "cells": [
  {
   "cell_type": "markdown",
   "metadata": {},
   "source": [
    "We have dataset containing coordinate information of the location of Cardiac Arrest, and vectors such as AED, MUG, PIT and AMB. Beyond that, we also have information about how long does it take for vectors to response and arrive at the intervention for rescure.\n",
    "We have plotted the locations on the same map and identified an uneven distribution of Cardiac Arrest and vectors across Belgium. We want to understand how the distribution of cardiac arrest and vectors changes in different region in Belgium. To understand this variation, we want to cluster Cardiac Arrest, and vectors and generate a choropleth map. \n",
    "\n",
    "1. Cluster Belgium by Density of Cardiac Arrest, show the choropleth map\n",
    "\n",
    "2. Cluster Belgium by Density of # AED + # MUG + #PIT + # AMB, , show the choropleth map\n",
    "\n",
    "3. Cluster Belgium by urgency score, , show the choropleth map\n",
    "Urgency Score: # Cardiac Arrest / (# AED + # MUG + #PIT + # AMB + 1)\n",
    "\n",
    "4. distribution of intervention based on distance from vectors and AED\n",
    "\n",
    "5. Cluster Belgium by intervention time\n",
    "\n",
    "6. Population / age / wealth density in Belgium?\n",
    "\n",
    "7. what other information I can obtain from google map?\n",
    " tranffic?\n",
    " area for resident / work / commercial / entertain / others\n"
   ]
  },
  {
   "cell_type": "markdown",
   "metadata": {},
   "source": [
    "### Create choropleth map of vectors in Belgium based on different postal code"
   ]
  },
  {
   "cell_type": "code",
   "execution_count": 1,
   "metadata": {},
   "outputs": [],
   "source": [
    "import geopandas as gpd\n",
    "import pandas as pd\n",
    "import matplotlib.pyplot as plt"
   ]
  },
  {
   "cell_type": "code",
   "execution_count": 3,
   "metadata": {},
   "outputs": [],
   "source": [
    "# access to OpenStreetMap to gather shapefile data of Belgium\n",
    "url = 'https://download.geofabrik.de/europe/belgium-latest-free.shp.zip'\n",
    "gdf = gpd.read_file(url)\n"
   ]
  },
  {
   "cell_type": "code",
   "execution_count": 5,
   "metadata": {},
   "outputs": [
    {
     "name": "stdout",
     "output_type": "stream",
     "text": [
      "    osm_id  code    fclass                                      name  \\\n",
      "0  4414121  1500  building                                      None   \n",
      "1  5051109  1500  building  Les Tritons - Piscine communale couverte   \n",
      "2  8103697  1500  building                                 Belle-Île   \n",
      "3  8109340  1500  building                                      None   \n",
      "4  8113202  1500  building                                La Boverie   \n",
      "\n",
      "            type                                           geometry  \n",
      "0           None  POLYGON ((4.45072 51.18915, 4.45072 51.18916, ...  \n",
      "1  sports_centre  POLYGON ((3.82437 50.71359, 3.82440 50.71370, ...  \n",
      "2     commercial  POLYGON ((5.59103 50.61679, 5.59132 50.61705, ...  \n",
      "3           None  POLYGON ((4.71432 50.88237, 4.71434 50.88237, ...  \n",
      "4           None  POLYGON ((5.57711 50.62777, 5.57711 50.62777, ...  \n"
     ]
    }
   ],
   "source": [
    "# show the first 5 rows of the data\n",
    "gdf"
   ]
  },
  {
   "cell_type": "markdown",
   "metadata": {},
   "source": [
    "### clustering method\n",
    "- K-means\n",
    "- hierarchial\n",
    "- DBSCAN\n",
    "- Gaussian "
   ]
  },
  {
   "cell_type": "markdown",
   "metadata": {},
   "source": []
  }
 ],
 "metadata": {
  "kernelspec": {
   "display_name": "waffle",
   "language": "python",
   "name": "python3"
  },
  "language_info": {
   "codemirror_mode": {
    "name": "ipython",
    "version": 3
   },
   "file_extension": ".py",
   "mimetype": "text/x-python",
   "name": "python",
   "nbconvert_exporter": "python",
   "pygments_lexer": "ipython3",
   "version": "3.11.5"
  }
 },
 "nbformat": 4,
 "nbformat_minor": 2
}
