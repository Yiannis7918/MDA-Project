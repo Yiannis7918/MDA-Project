{
 "cells": [
  {
   "cell_type": "markdown",
   "metadata": {},
   "source": [
    "# Packages"
   ]
  },
  {
   "cell_type": "code",
   "execution_count": 1,
   "metadata": {},
   "outputs": [],
   "source": [
    "import pandas as pd\n",
    "import numpy as np\n",
    "import geopandas as gpd \n",
    "import matplotlib as plt\n",
    "# import googlemaps\n",
    "# import re\n",
    "import plotly.express as px\n",
    "import plotly.io as pio\n",
    "import plotly.graph_objects as go\n",
    "import folium\n",
    "from sklearn.preprocessing import StandardScaler\n",
    "from sklearn.preprocessing import MinMaxScaler"
   ]
  },
  {
   "cell_type": "code",
   "execution_count": 2,
   "metadata": {},
   "outputs": [],
   "source": [
    "area_provinces = gpd.read_file(\"C:\\KU Leuven\\Modern Data Analytics - MDA\\MDA Project\\MDA\\Created GeoJSON Files\\AREA_PROVINCES_NEW.geojson\") "
   ]
  },
  {
   "cell_type": "code",
   "execution_count": 4,
   "metadata": {},
   "outputs": [
    {
     "data": {
      "text/html": [
       "<div>\n",
       "<style scoped>\n",
       "    .dataframe tbody tr th:only-of-type {\n",
       "        vertical-align: middle;\n",
       "    }\n",
       "\n",
       "    .dataframe tbody tr th {\n",
       "        vertical-align: top;\n",
       "    }\n",
       "\n",
       "    .dataframe thead th {\n",
       "        text-align: right;\n",
       "    }\n",
       "</style>\n",
       "<table border=\"1\" class=\"dataframe\">\n",
       "  <thead>\n",
       "    <tr style=\"text-align: right;\">\n",
       "      <th></th>\n",
       "      <th>province</th>\n",
       "      <th>area_klm2</th>\n",
       "      <th>center</th>\n",
       "      <th>geometry</th>\n",
       "    </tr>\n",
       "  </thead>\n",
       "  <tbody>\n",
       "    <tr>\n",
       "      <th>0</th>\n",
       "      <td>antwerpen</td>\n",
       "      <td>7323.997641</td>\n",
       "      <td>(51.229679165931266, 4.719820314416564)</td>\n",
       "      <td>MULTIPOLYGON (((4.94209 51.45524, 4.94062 51.4...</td>\n",
       "    </tr>\n",
       "    <tr>\n",
       "      <th>1</th>\n",
       "      <td>bruxelles-brussel</td>\n",
       "      <td>406.990727</td>\n",
       "      <td>(50.836032848225344, 4.3706868102113186)</td>\n",
       "      <td>POLYGON ((4.40633 50.91309, 4.40722 50.91295, ...</td>\n",
       "    </tr>\n",
       "    <tr>\n",
       "      <th>2</th>\n",
       "      <td>vlaams-brabant</td>\n",
       "      <td>5312.588509</td>\n",
       "      <td>(50.87273172382932, 4.590610254578612)</td>\n",
       "      <td>POLYGON ((3.98787 50.68749, 3.98772 50.68749, ...</td>\n",
       "    </tr>\n",
       "    <tr>\n",
       "      <th>3</th>\n",
       "      <td>brabant wallon</td>\n",
       "      <td>2728.216099</td>\n",
       "      <td>(50.66933278511629, 4.583786485041254)</td>\n",
       "      <td>POLYGON ((4.75386 50.80639, 4.75387 50.80639, ...</td>\n",
       "    </tr>\n",
       "    <tr>\n",
       "      <th>4</th>\n",
       "      <td>west-vlaanderen</td>\n",
       "      <td>7987.315544</td>\n",
       "      <td>(51.01142287974023, 3.057645147430322)</td>\n",
       "      <td>MULTIPOLYGON (((2.65679 51.12932, 2.65663 51.1...</td>\n",
       "    </tr>\n",
       "    <tr>\n",
       "      <th>5</th>\n",
       "      <td>oost-vlaanderen</td>\n",
       "      <td>7595.941079</td>\n",
       "      <td>(51.036508957319626, 3.816361792799826)</td>\n",
       "      <td>POLYGON ((4.31166 51.29250, 4.31431 51.29112, ...</td>\n",
       "    </tr>\n",
       "    <tr>\n",
       "      <th>6</th>\n",
       "      <td>hainaut</td>\n",
       "      <td>9401.428447</td>\n",
       "      <td>(50.46969476722217, 3.959399551550251)</td>\n",
       "      <td>MULTIPOLYGON (((3.71031 50.78190, 3.71065 50.7...</td>\n",
       "    </tr>\n",
       "    <tr>\n",
       "      <th>7</th>\n",
       "      <td>liège</td>\n",
       "      <td>9531.529485</td>\n",
       "      <td>(50.520548064389395, 5.736605195342704)</td>\n",
       "      <td>POLYGON ((6.13338 50.12956, 6.13309 50.12968, ...</td>\n",
       "    </tr>\n",
       "    <tr>\n",
       "      <th>8</th>\n",
       "      <td>limburg</td>\n",
       "      <td>6119.002346</td>\n",
       "      <td>(50.9914931483222, 5.4291859343176005)</td>\n",
       "      <td>MULTIPOLYGON (((5.77703 50.78285, 5.77662 50.7...</td>\n",
       "    </tr>\n",
       "    <tr>\n",
       "      <th>9</th>\n",
       "      <td>luxembourg</td>\n",
       "      <td>10763.967091</td>\n",
       "      <td>(49.96172789168535, 5.513349067860746)</td>\n",
       "      <td>POLYGON ((5.43891 50.42170, 5.43908 50.42165, ...</td>\n",
       "    </tr>\n",
       "    <tr>\n",
       "      <th>10</th>\n",
       "      <td>namur</td>\n",
       "      <td>8980.230372</td>\n",
       "      <td>(50.255711368155666, 4.852274083064385)</td>\n",
       "      <td>POLYGON ((4.97055 50.64532, 4.97142 50.64479, ...</td>\n",
       "    </tr>\n",
       "  </tbody>\n",
       "</table>\n",
       "</div>"
      ],
      "text/plain": [
       "             province     area_klm2                                    center  \\\n",
       "0           antwerpen   7323.997641   (51.229679165931266, 4.719820314416564)   \n",
       "1   bruxelles-brussel    406.990727  (50.836032848225344, 4.3706868102113186)   \n",
       "2      vlaams-brabant   5312.588509    (50.87273172382932, 4.590610254578612)   \n",
       "3      brabant wallon   2728.216099    (50.66933278511629, 4.583786485041254)   \n",
       "4     west-vlaanderen   7987.315544    (51.01142287974023, 3.057645147430322)   \n",
       "5     oost-vlaanderen   7595.941079   (51.036508957319626, 3.816361792799826)   \n",
       "6             hainaut   9401.428447    (50.46969476722217, 3.959399551550251)   \n",
       "7               liège   9531.529485   (50.520548064389395, 5.736605195342704)   \n",
       "8             limburg   6119.002346    (50.9914931483222, 5.4291859343176005)   \n",
       "9          luxembourg  10763.967091    (49.96172789168535, 5.513349067860746)   \n",
       "10              namur   8980.230372   (50.255711368155666, 4.852274083064385)   \n",
       "\n",
       "                                             geometry  \n",
       "0   MULTIPOLYGON (((4.94209 51.45524, 4.94062 51.4...  \n",
       "1   POLYGON ((4.40633 50.91309, 4.40722 50.91295, ...  \n",
       "2   POLYGON ((3.98787 50.68749, 3.98772 50.68749, ...  \n",
       "3   POLYGON ((4.75386 50.80639, 4.75387 50.80639, ...  \n",
       "4   MULTIPOLYGON (((2.65679 51.12932, 2.65663 51.1...  \n",
       "5   POLYGON ((4.31166 51.29250, 4.31431 51.29112, ...  \n",
       "6   MULTIPOLYGON (((3.71031 50.78190, 3.71065 50.7...  \n",
       "7   POLYGON ((6.13338 50.12956, 6.13309 50.12968, ...  \n",
       "8   MULTIPOLYGON (((5.77703 50.78285, 5.77662 50.7...  \n",
       "9   POLYGON ((5.43891 50.42170, 5.43908 50.42165, ...  \n",
       "10  POLYGON ((4.97055 50.64532, 4.97142 50.64479, ...  "
      ]
     },
     "execution_count": 4,
     "metadata": {},
     "output_type": "execute_result"
    }
   ],
   "source": [
    "area_provinces"
   ]
  },
  {
   "cell_type": "markdown",
   "metadata": {},
   "source": [
    "# Bubble Plot"
   ]
  },
  {
   "cell_type": "code",
   "execution_count": 3,
   "metadata": {},
   "outputs": [],
   "source": [
    "area_provinces = gpd.read_file(\"C:\\KU Leuven\\Modern Data Analytics - MDA\\MDA Project\\MDA\\Created GeoJSON Files\\AREA_PROVINCES_NEW.geojson\") \n",
    "\n",
    "aed_per_municipality_ant = pd.read_csv(r\"C:\\KU Leuven\\Modern Data Analytics - MDA\\MDA Project BackUp\\AED_per_municipality_antwerpen.csv\", index_col=False)\n",
    "aed_per_municipality_brx = pd.read_csv(r\"C:\\KU Leuven\\Modern Data Analytics - MDA\\MDA Project BackUp\\AED_per_municipality_bruxelles-brussel.csv\", index_col=False)\n",
    "aed_per_municipality_liege = pd.read_csv(r\"C:\\KU Leuven\\Modern Data Analytics - MDA\\MDA Project BackUp\\AED_per_municipality_liège.csv\", index_col=False)\n",
    "aed_per_municipality_namur = pd.read_csv(r\"C:\\KU Leuven\\Modern Data Analytics - MDA\\MDA Project BackUp\\AED_per_municipality_namur.csv\", index_col=False)\n",
    "aed_per_municipality_hainaut = pd.read_csv(r\"C:\\KU Leuven\\Modern Data Analytics - MDA\\MDA Project BackUp\\AED_per_municipality_hainaut.csv\", index_col=False)\n",
    "aed_per_municipality_limburg = pd.read_csv(r\"C:\\KU Leuven\\Modern Data Analytics - MDA\\MDA Project BackUp\\AED_per_municipality_limburg.csv\", index_col=False)\n",
    "aed_per_municipality_luxembourg = pd.read_csv(r\"C:\\KU Leuven\\Modern Data Analytics - MDA\\MDA Project BackUp\\AED_per_municipality_luxembourg.csv\", index_col=False)\n",
    "aed_per_municipality_vlaams_braband = pd.read_csv(r\"C:\\KU Leuven\\Modern Data Analytics - MDA\\MDA Project BackUp\\AED_per_municipality_vlaams-brabant.csv\", index_col=False)\n",
    "aed_per_municipality_west_flanders = pd.read_csv(r\"C:\\KU Leuven\\Modern Data Analytics - MDA\\MDA Project BackUp\\AED_per_municipality_west-vlaanderen.csv\", index_col=False)\n",
    "aed_per_municipality_oost_flanders = pd.read_csv(r\"C:\\KU Leuven\\Modern Data Analytics - MDA\\MDA Project BackUp\\AED_per_municipality_oost-vlaanderen.csv\", index_col=False)\n",
    "aed_per_municipality_brabant_wallon = pd.read_csv(r\"C:\\KU Leuven\\Modern Data Analytics - MDA\\MDA Project BackUp\\AED_per_municipality_brabant wallon.csv\", index_col=False)\n",
    "\n",
    "cardiac_municipality_anterpen = pd.read_csv(r\"C:\\KU Leuven\\Modern Data Analytics - MDA\\MDA Project BackUp\\CARDIAC_per_municipality_antwerpen.csv\", index_col=False)\n",
    "cardiac_municipality_brabant_wall = pd.read_csv(r\"C:\\KU Leuven\\Modern Data Analytics - MDA\\MDA Project BackUp\\CARDIAC_per_municipality_brabant_wall.csv\", index_col=False)\n",
    "cardiac_municipality_hainaut = pd.read_csv(r\"C:\\KU Leuven\\Modern Data Analytics - MDA\\MDA Project BackUp\\CARDIAC_per_municipality_hainaut.csv\", index_col=False)\n",
    "cardiac_municipality_liege = pd.read_csv(r\"C:\\KU Leuven\\Modern Data Analytics - MDA\\MDA Project BackUp\\CARDIAC_per_municipality_liege.csv\", index_col=False)\n",
    "cardiac_municipality_limburg = pd.read_csv(r\"C:\\KU Leuven\\Modern Data Analytics - MDA\\MDA Project BackUp\\CARDIAC_per_municipality_limburg.csv\", index_col=False)\n",
    "cardiac_municipality_namur = pd.read_csv(r\"C:\\KU Leuven\\Modern Data Analytics - MDA\\MDA Project BackUp\\CARDIAC_per_municipality_namur.csv\", index_col=False)\n",
    "cardiac_municipality_luxem = pd.read_csv(r\"C:\\KU Leuven\\Modern Data Analytics - MDA\\MDA Project BackUp\\CARDIAC_per_municipality_luxem.csv\", index_col=False)\n",
    "cardiac_municipality_west_vlaand = pd.read_csv(r\"C:\\KU Leuven\\Modern Data Analytics - MDA\\MDA Project BackUp\\CARDIAC_per_municipality_west_vlaand.csv\", index_col=False)\n",
    "cardiac_municipality_oost_vlaand = pd.read_csv(r\"C:\\KU Leuven\\Modern Data Analytics - MDA\\MDA Project BackUp\\CARDIAC_per_municipality_oost_vlaand.csv\", index_col=False)\n",
    "cardiac_municipality_vlaams_braband = pd.read_csv(r\"C:\\KU Leuven\\Modern Data Analytics - MDA\\MDA Project BackUp\\CARDIAC_per_municipality_vlaams_brabant.csv\", index_col=False)\n",
    "cardiac_municipality_brussels = pd.read_csv(r\"C:\\KU Leuven\\Modern Data Analytics - MDA\\MDA Project BackUp\\CARDIAC_per_municipality_brussels.csv\", index_col=False)\n",
    "\n",
    "# list_cardiac_municipality = [cardiac_municipality_anterpen, cardiac_municipality_brabant_wall, cardiac_municipality_hainaut, cardiac_municipality_liege,\n",
    "#                              cardiac_municipality_limburg,cardiac_municipality_namur,cardiac_municipality_luxem,cardiac_municipality_west_vlaand,\n",
    "#                              cardiac_municipality_oost_vlaand,cardiac_municipality_vlaams_braband,cardiac_municipality_brussels]\n",
    "\n",
    "def lat_split(text):\n",
    "    lat = float(text.split(',')[1].strip('()'))\n",
    "    return lat\n",
    "\n",
    "def lng_split(text):\n",
    "    lat = float(text.split(',')[0].strip('()'))\n",
    "    return lat\n",
    "\n",
    "list_aed_municipality = [aed_per_municipality_ant,aed_per_municipality_brabant_wallon,aed_per_municipality_hainaut,\n",
    "                         aed_per_municipality_liege,aed_per_municipality_limburg,aed_per_municipality_namur,\n",
    "                         aed_per_municipality_luxembourg,aed_per_municipality_west_flanders, aed_per_municipality_oost_flanders,\n",
    "                         aed_per_municipality_vlaams_braband,aed_per_municipality_brx]\n",
    "\n",
    "\n",
    "list_cardiac_municipality = [cardiac_municipality_anterpen, cardiac_municipality_brabant_wall, cardiac_municipality_hainaut, cardiac_municipality_liege,\n",
    "                             cardiac_municipality_limburg,cardiac_municipality_namur,cardiac_municipality_luxem,cardiac_municipality_west_vlaand,\n",
    "                             cardiac_municipality_oost_vlaand,cardiac_municipality_vlaams_braband,cardiac_municipality_brussels]\n",
    "\n",
    "\n",
    "list_province_name =['antwerpen','brabant wallon','hainaut', 'liège','limburg','namur'\n",
    "                     ,'luxembourg','west-vlaanderen','oost-vlaanderen','vlaams-brabant','bruxelles-brussel']\n",
    "\n",
    "list_aed_cardiac_name = list(zip(list_aed_municipality,list_cardiac_municipality,list_province_name))\n",
    "\n",
    "def bubble_across_be(aed_df, cardiac_df, province_name):\n",
    "    \n",
    "   aed_cardiac_per_municipality_ant = cardiac_df.merge(aed_df, on=\"points_coordinates\")\n",
    "   aed_cardiac_per_municipality_ant[\"lat\"] = aed_cardiac_per_municipality_ant[\"points_coordinates\"].apply(lat_split)\n",
    "   aed_cardiac_per_municipality_ant[\"lng\"] = aed_cardiac_per_municipality_ant[\"points_coordinates\"].apply(lng_split)\n",
    "   aed_cardiac_per_municipality_ant['geometry'] = gpd.points_from_xy(aed_cardiac_per_municipality_ant[\"lng\"], aed_cardiac_per_municipality_ant[\"lat\"])\n",
    "   aed_cardiac_per_municipality_ant_geo = gpd.GeoDataFrame(aed_cardiac_per_municipality_ant, \n",
    "                           crs = area_provinces.crs, \n",
    "                           geometry = aed_cardiac_per_municipality_ant[\"geometry\"])\n",
    "   province_co = area_provinces.loc[area_provinces['province'] == province_name]\n",
    "   aed_cardiac_per_municipality_ant_geo_merged = gpd.sjoin(aed_cardiac_per_municipality_ant_geo, province_co, predicate = 'within')\n",
    "   aed_cardiac_per_municipality_ant_geo_merged[\"cardiac_to_aed\"] = aed_cardiac_per_municipality_ant_geo_merged[\"cardiac_arrests_number\"] / aed_cardiac_per_municipality_ant_geo_merged[\"AED_number\"]\n",
    "   aed_cardiac_per_municipality_ant_geo_merged[\"municipality_name\"] = aed_cardiac_per_municipality_ant_geo_merged[\"new_municipality_x\"].apply(lambda x: x.split()[0].strip(\",\").capitalize())\n",
    "\n",
    "   return aed_cardiac_per_municipality_ant_geo_merged  \n",
    "\n",
    "aed_cardiac_to_combine = []\n",
    "\n",
    "for i, name in enumerate(list_aed_cardiac_name):\n",
    "    aed_cardiac= bubble_across_be(name[0], name[1], name[2])\n",
    "    aed_cardiac_to_combine.append(aed_cardiac)\n",
    "\n",
    "    combined_df = pd.concat(aed_cardiac_to_combine, ignore_index=True)\n",
    "\n",
    "labels ={\"cardiac_to_aed\":\"Cardiac/AED (Ratio)\",\"municipality_name\": \"Municipality\", \"lat\":\"Latitude\", \"lng\": \"Longitude\", \"AED_number\":\"AED Number\"\n",
    "         ,\"cardiac_arrests_number\":\"Cardiac Arrests\"}\n",
    "hover_data = {\"cardiac_arrests_number\":True, \"AED_number\":True, \"lat\":False, \"lng\":False}\n",
    "\n",
    "fig = px.scatter_mapbox(combined_df, lat=\"lat\", lon=\"lng\", color=\"cardiac_to_aed\", size=\"AED_number\",\n",
    "                  color_continuous_scale=px.colors.sequential.matter, size_max=80, zoom=10, text=\"municipality_name\", labels=labels, \n",
    "                  title=f\"AED and Cardiac Arrests Distribution Per Municipality - Belgium\", opacity=0.8, \n",
    "                   hover_name=\"municipality_name\",\n",
    "                   hover_data=hover_data,\n",
    "                  mapbox_style=\"carto-positron\")\n",
    "\n",
    "# fig.show()\n",
    "\n",
    "# pio.write_html(fig, \"bubble_plot_Belgium.html\")"
   ]
  },
  {
   "cell_type": "code",
   "execution_count": 32,
   "metadata": {},
   "outputs": [
    {
     "data": {
      "text/html": [
       "<div>\n",
       "<style scoped>\n",
       "    .dataframe tbody tr th:only-of-type {\n",
       "        vertical-align: middle;\n",
       "    }\n",
       "\n",
       "    .dataframe tbody tr th {\n",
       "        vertical-align: top;\n",
       "    }\n",
       "\n",
       "    .dataframe thead th {\n",
       "        text-align: right;\n",
       "    }\n",
       "</style>\n",
       "<table border=\"1\" class=\"dataframe\">\n",
       "  <thead>\n",
       "    <tr style=\"text-align: right;\">\n",
       "      <th></th>\n",
       "      <th>municipality_name</th>\n",
       "      <th>cardiac_arrests_number</th>\n",
       "      <th>AED_number</th>\n",
       "      <th>cardiac_to_aed</th>\n",
       "    </tr>\n",
       "  </thead>\n",
       "  <tbody>\n",
       "    <tr>\n",
       "      <th>0</th>\n",
       "      <td>Antwerpen</td>\n",
       "      <td>318</td>\n",
       "      <td>323</td>\n",
       "      <td>0.984520</td>\n",
       "    </tr>\n",
       "    <tr>\n",
       "      <th>1</th>\n",
       "      <td>Deurne</td>\n",
       "      <td>155</td>\n",
       "      <td>15</td>\n",
       "      <td>10.333333</td>\n",
       "    </tr>\n",
       "    <tr>\n",
       "      <th>2</th>\n",
       "      <td>Mechelen</td>\n",
       "      <td>124</td>\n",
       "      <td>86</td>\n",
       "      <td>1.441860</td>\n",
       "    </tr>\n",
       "    <tr>\n",
       "      <th>3</th>\n",
       "      <td>Merksem</td>\n",
       "      <td>74</td>\n",
       "      <td>16</td>\n",
       "      <td>4.625000</td>\n",
       "    </tr>\n",
       "    <tr>\n",
       "      <th>4</th>\n",
       "      <td>Wilrijk</td>\n",
       "      <td>73</td>\n",
       "      <td>35</td>\n",
       "      <td>2.085714</td>\n",
       "    </tr>\n",
       "  </tbody>\n",
       "</table>\n",
       "</div>"
      ],
      "text/plain": [
       "  municipality_name  cardiac_arrests_number  AED_number  cardiac_to_aed\n",
       "0         Antwerpen                     318         323        0.984520\n",
       "1            Deurne                     155          15       10.333333\n",
       "2          Mechelen                     124          86        1.441860\n",
       "3           Merksem                      74          16        4.625000\n",
       "4           Wilrijk                      73          35        2.085714"
      ]
     },
     "execution_count": 32,
     "metadata": {},
     "output_type": "execute_result"
    }
   ],
   "source": [
    "combined_df[[\"municipality_name\",\"cardiac_arrests_number\",\"AED_number\",\"cardiac_to_aed\"]].head()"
   ]
  },
  {
   "cell_type": "code",
   "execution_count": 34,
   "metadata": {},
   "outputs": [],
   "source": [
    "# combined_df[[\"municipality_name\",\"cardiac_arrests_number\",\"AED_number\",\"cardiac_to_aed\"]].to_dict('records')"
   ]
  },
  {
   "cell_type": "code",
   "execution_count": 4,
   "metadata": {},
   "outputs": [],
   "source": [
    "def plot_bubble(aed_df, cardiac_df, province_name):\n",
    "\n",
    "   aed_cardiac_per_municipality_ant = cardiac_df.merge(aed_df, on=\"points_coordinates\")\n",
    "   aed_cardiac_per_municipality_ant[\"lat\"] = aed_cardiac_per_municipality_ant[\"points_coordinates\"].apply(lat_split)\n",
    "   aed_cardiac_per_municipality_ant[\"lng\"] = aed_cardiac_per_municipality_ant[\"points_coordinates\"].apply(lng_split)\n",
    "   aed_cardiac_per_municipality_ant['geometry'] = gpd.points_from_xy(aed_cardiac_per_municipality_ant[\"lng\"], aed_cardiac_per_municipality_ant[\"lat\"])\n",
    "   aed_cardiac_per_municipality_ant_geo = gpd.GeoDataFrame(aed_cardiac_per_municipality_ant, \n",
    "                           crs = area_provinces.crs, \n",
    "                           geometry = aed_cardiac_per_municipality_ant[\"geometry\"])\n",
    "   province_co = area_provinces.loc[area_provinces['province'] == province_name]\n",
    "   aed_cardiac_per_municipality_ant_geo_merged = gpd.sjoin(aed_cardiac_per_municipality_ant_geo, province_co, predicate = 'within')\n",
    "   aed_cardiac_per_municipality_ant_geo_merged[\"cardiac_to_aed\"] = aed_cardiac_per_municipality_ant_geo_merged[\"cardiac_arrests_number\"] / aed_cardiac_per_municipality_ant_geo_merged[\"AED_number\"]\n",
    "   aed_cardiac_per_municipality_ant_geo_merged[\"municipality_name\"] = aed_cardiac_per_municipality_ant_geo_merged[\"new_municipality_x\"].apply(lambda x: x.split()[0].strip(\",\").capitalize())\n",
    "\n",
    "   labels ={\"cardiac_to_aed\":\"Cardiac/AED (Ratio)\",\"municipality_name\": \"Municipality\", \"lat\":\"Latitude\", \"lng\": \"Longitude\", \"AED_number\":\"AED Number\"\n",
    "         ,\"cardiac_arrests_number\":\"Cardiac Arrests\"}\n",
    "   hover_data = {\"cardiac_arrests_number\":True, \"AED_number\":True, \"lat\":False, \"lng\":False}\n",
    "\n",
    "\n",
    "   fig = px.scatter_mapbox(aed_cardiac_per_municipality_ant_geo_merged, lat=\"lat\", lon=\"lng\", color=\"cardiac_to_aed\", size=\"AED_number\",\n",
    "                  color_continuous_scale=px.colors.sequential.matter, size_max=80, zoom=10, text=\"municipality_name\", labels=labels, \n",
    "                  title=f\"AED and Cardiac Arrests Distribution Per Municipality - {province_name.capitalize()}\", opacity=0.8, \n",
    "                   hover_name=\"municipality_name\",\n",
    "                   hover_data=hover_data,\n",
    "                  mapbox_style=\"carto-positron\")\n",
    "   return (fig, aed_cardiac_per_municipality_ant_geo_merged[[\"municipality_name\",\"cardiac_arrests_number\",\"AED_number\",\"cardiac_to_aed\"]])"
   ]
  },
  {
   "cell_type": "code",
   "execution_count": 5,
   "metadata": {},
   "outputs": [],
   "source": [
    "antwerp_bubble, antwerp_dataset = plot_bubble(aed_per_municipality_ant, cardiac_municipality_anterpen, 'antwerpen')\n"
   ]
  },
  {
   "cell_type": "code",
   "execution_count": 29,
   "metadata": {},
   "outputs": [
    {
     "data": {
      "text/html": [
       "<div>\n",
       "<style scoped>\n",
       "    .dataframe tbody tr th:only-of-type {\n",
       "        vertical-align: middle;\n",
       "    }\n",
       "\n",
       "    .dataframe tbody tr th {\n",
       "        vertical-align: top;\n",
       "    }\n",
       "\n",
       "    .dataframe thead th {\n",
       "        text-align: right;\n",
       "    }\n",
       "</style>\n",
       "<table border=\"1\" class=\"dataframe\">\n",
       "  <thead>\n",
       "    <tr style=\"text-align: right;\">\n",
       "      <th></th>\n",
       "      <th>municipality_name</th>\n",
       "      <th>cardiac_arrests_number</th>\n",
       "      <th>AED_number</th>\n",
       "      <th>cardiac_to_aed</th>\n",
       "    </tr>\n",
       "  </thead>\n",
       "  <tbody>\n",
       "    <tr>\n",
       "      <th>0</th>\n",
       "      <td>Antwerpen</td>\n",
       "      <td>318</td>\n",
       "      <td>323</td>\n",
       "      <td>0.984520</td>\n",
       "    </tr>\n",
       "    <tr>\n",
       "      <th>1</th>\n",
       "      <td>Deurne</td>\n",
       "      <td>155</td>\n",
       "      <td>15</td>\n",
       "      <td>10.333333</td>\n",
       "    </tr>\n",
       "    <tr>\n",
       "      <th>2</th>\n",
       "      <td>Mechelen</td>\n",
       "      <td>124</td>\n",
       "      <td>86</td>\n",
       "      <td>1.441860</td>\n",
       "    </tr>\n",
       "    <tr>\n",
       "      <th>3</th>\n",
       "      <td>Merksem</td>\n",
       "      <td>74</td>\n",
       "      <td>16</td>\n",
       "      <td>4.625000</td>\n",
       "    </tr>\n",
       "    <tr>\n",
       "      <th>4</th>\n",
       "      <td>Wilrijk</td>\n",
       "      <td>73</td>\n",
       "      <td>35</td>\n",
       "      <td>2.085714</td>\n",
       "    </tr>\n",
       "    <tr>\n",
       "      <th>...</th>\n",
       "      <td>...</td>\n",
       "      <td>...</td>\n",
       "      <td>...</td>\n",
       "      <td>...</td>\n",
       "    </tr>\n",
       "    <tr>\n",
       "      <th>113</th>\n",
       "      <td>Poederlee</td>\n",
       "      <td>2</td>\n",
       "      <td>1</td>\n",
       "      <td>2.000000</td>\n",
       "    </tr>\n",
       "    <tr>\n",
       "      <th>114</th>\n",
       "      <td>Tisselt</td>\n",
       "      <td>2</td>\n",
       "      <td>2</td>\n",
       "      <td>1.000000</td>\n",
       "    </tr>\n",
       "    <tr>\n",
       "      <th>115</th>\n",
       "      <td>Emblem</td>\n",
       "      <td>2</td>\n",
       "      <td>1</td>\n",
       "      <td>2.000000</td>\n",
       "    </tr>\n",
       "    <tr>\n",
       "      <th>116</th>\n",
       "      <td>Koningshooikt</td>\n",
       "      <td>2</td>\n",
       "      <td>2</td>\n",
       "      <td>1.000000</td>\n",
       "    </tr>\n",
       "    <tr>\n",
       "      <th>117</th>\n",
       "      <td>Lille</td>\n",
       "      <td>1</td>\n",
       "      <td>6</td>\n",
       "      <td>0.166667</td>\n",
       "    </tr>\n",
       "  </tbody>\n",
       "</table>\n",
       "<p>117 rows × 4 columns</p>\n",
       "</div>"
      ],
      "text/plain": [
       "    municipality_name  cardiac_arrests_number  AED_number  cardiac_to_aed\n",
       "0           Antwerpen                     318         323        0.984520\n",
       "1              Deurne                     155          15       10.333333\n",
       "2            Mechelen                     124          86        1.441860\n",
       "3             Merksem                      74          16        4.625000\n",
       "4             Wilrijk                      73          35        2.085714\n",
       "..                ...                     ...         ...             ...\n",
       "113         Poederlee                       2           1        2.000000\n",
       "114           Tisselt                       2           2        1.000000\n",
       "115            Emblem                       2           1        2.000000\n",
       "116     Koningshooikt                       2           2        1.000000\n",
       "117             Lille                       1           6        0.166667\n",
       "\n",
       "[117 rows x 4 columns]"
      ]
     },
     "execution_count": 29,
     "metadata": {},
     "output_type": "execute_result"
    }
   ],
   "source": [
    "antwerp_dataset"
   ]
  },
  {
   "cell_type": "code",
   "execution_count": 12,
   "metadata": {},
   "outputs": [],
   "source": [
    "# plot_bubble(aed_per_municipality_brabant_wallon, cardiac_municipality_brabant_wall,'brabant wallon')"
   ]
  },
  {
   "cell_type": "code",
   "execution_count": 11,
   "metadata": {},
   "outputs": [],
   "source": [
    "# plot_bubble(aed_per_municipality_hainaut, cardiac_municipality_hainaut, 'hainaut')"
   ]
  },
  {
   "cell_type": "code",
   "execution_count": 10,
   "metadata": {},
   "outputs": [],
   "source": [
    "# plot_bubble(aed_per_municipality_liege, cardiac_municipality_liege, 'liège')"
   ]
  },
  {
   "cell_type": "code",
   "execution_count": 9,
   "metadata": {},
   "outputs": [],
   "source": [
    "# plot_bubble(aed_per_municipality_limburg, cardiac_municipality_limburg, 'limburg')"
   ]
  },
  {
   "cell_type": "code",
   "execution_count": 8,
   "metadata": {},
   "outputs": [],
   "source": [
    "# plot_bubble(aed_per_municipality_namur, cardiac_municipality_namur, 'namur')"
   ]
  },
  {
   "cell_type": "code",
   "execution_count": 7,
   "metadata": {},
   "outputs": [],
   "source": [
    "# plot_bubble(aed_per_municipality_luxembourg, cardiac_municipality_luxem, 'luxembourg')"
   ]
  },
  {
   "cell_type": "code",
   "execution_count": 6,
   "metadata": {},
   "outputs": [],
   "source": [
    "# plot_bubble(aed_per_municipality_west_flanders, cardiac_municipality_west_vlaand, 'west-vlaanderen')"
   ]
  },
  {
   "cell_type": "code",
   "execution_count": 13,
   "metadata": {},
   "outputs": [],
   "source": [
    "# plot_bubble(aed_per_municipality_oost_flanders, cardiac_municipality_oost_vlaand, 'oost-vlaanderen')"
   ]
  },
  {
   "cell_type": "code",
   "execution_count": 14,
   "metadata": {},
   "outputs": [],
   "source": [
    "# plot_bubble(aed_per_municipality_vlaams_braband, cardiac_municipality_vlaams_braband, 'vlaams-brabant')"
   ]
  },
  {
   "cell_type": "code",
   "execution_count": 15,
   "metadata": {},
   "outputs": [],
   "source": [
    "# plot_bubble(aed_per_municipality_brx, cardiac_municipality_brussels, 'bruxelles-brussel')"
   ]
  },
  {
   "cell_type": "markdown",
   "metadata": {},
   "source": [
    "# AED Locations"
   ]
  },
  {
   "cell_type": "code",
   "execution_count": 16,
   "metadata": {},
   "outputs": [],
   "source": [
    "aed_within_provinces = gpd.read_file(\"C:\\KU Leuven\\Modern Data Analytics - MDA\\MDA Project\\MDA\\Created GeoJSON Files\\AED_WITHIN_PROVINCES.geojson\")\n",
    "\n",
    "aed_within_provinces[\"cap_address\"] = aed_within_provinces[\"address\"].apply(lambda x: x.title())\n",
    "# aed_within_provinces[\"cap_address\"] = aed_within_provinces[\"cap_address\"] + str(aed_within_provinces[\"number\"])\n",
    "aed_within_provinces[\"cap_address\"]  = aed_within_provinces[\"cap_address\"] + \" \" + aed_within_provinces[\"number\"].astype(str)\n",
    "aed_within_provinces[\"cap_municipality\"] = aed_within_provinces[\"municipality\"].apply(lambda x: x.title())\n",
    "\n",
    "aed_within_provinces[\"cap_province\"] = aed_within_provinces[\"province_right\"].apply(lambda x: x.title())\n",
    "\n",
    "labels ={\"cap_province\":\"Province Name\", \"lat\":\"Latitude\", \"lng\": \"Longitude\",\n",
    "         \"cap_address\":\"Address\", \"cap_municipality\":\"Municipality\"}\n",
    "hover_data = {\"cap_province\":True, \"cap_address\":False, \"lat\":False, \"lng\":False, \"cap_municipality\":True}\n",
    "\n",
    "fig = px.scatter_mapbox(aed_within_provinces, lat=\"lat\", lon=\"lng\", color=\"cap_province\",\n",
    "                        # size = 0.8,\n",
    "                #   color_continuous_scale=px.colors.sequential.matter, \n",
    "                \n",
    "                   size_max=40, zoom=6.7, \n",
    "                     # text=\"cap_province\", \n",
    "                     opacity = 1,\n",
    "                    labels=labels, \n",
    "                    title=f\"AED Locations Per Province - Belgium\", \n",
    "                    hover_name=\"cap_address\",\n",
    "                    hover_data=hover_data,\n",
    "                  mapbox_style=\"carto-positron\")\n",
    "\n",
    "# pio.write_html(fig, f\"aed_locations_across_provinces.html\")\n",
    "# fig.show()"
   ]
  },
  {
   "cell_type": "code",
   "execution_count": 87,
   "metadata": {},
   "outputs": [
    {
     "data": {
      "text/plain": [
       "array(['hainaut', 'liège', 'bruxelles-brussel', 'vlaams-brabant',\n",
       "       'luxembourg', 'antwerpen', 'limburg', 'west-vlaanderen',\n",
       "       'oost-vlaanderen', 'brabant wallon', 'namur'], dtype=object)"
      ]
     },
     "execution_count": 87,
     "metadata": {},
     "output_type": "execute_result"
    }
   ],
   "source": [
    "aed_within_provinces[\"province_right\"].unique()"
   ]
  },
  {
   "cell_type": "code",
   "execution_count": 17,
   "metadata": {},
   "outputs": [],
   "source": [
    "def aed_locations_per_province(province_name):\n",
    "\n",
    "    labels ={\"cap_province\":\"Province Name\", \"lat\":\"Latitude\", \"lng\": \"Longitude\",\n",
    "            \"cap_address\":\"Address\", \"cap_municipality\":\"Municipality\"}\n",
    "    hover_data = {\"cap_province\":True, \"cap_address\":False, \"lat\":False, \"lng\":False,\"cap_municipality\":True}\n",
    "\n",
    "    fig = px.scatter_mapbox(aed_within_provinces[aed_within_provinces[\"province_right\"]==province_name], lat=\"lat\", lon=\"lng\", \n",
    "                        # color=color_series,\n",
    "                #   color_continuous_scale=px.colors.sequential.matter, \n",
    "                    size_max=40, zoom=10, \n",
    "                        # text=\"cap_province\", \n",
    "                        # color =\"red\",\n",
    "                        opacity = 1,\n",
    "                    labels=labels, \n",
    "                    title=f\"AED Locations in {province_name.capitalize()} - Belgium\", \n",
    "                    hover_name=\"cap_address\",\n",
    "                    hover_data=hover_data,\n",
    "                    mapbox_style=\"carto-positron\")\n",
    "    # fig.show()"
   ]
  },
  {
   "cell_type": "code",
   "execution_count": 18,
   "metadata": {},
   "outputs": [],
   "source": [
    "# aed_locations_per_province(\"hainaut\")"
   ]
  },
  {
   "cell_type": "code",
   "execution_count": null,
   "metadata": {},
   "outputs": [],
   "source": []
  },
  {
   "cell_type": "code",
   "execution_count": null,
   "metadata": {},
   "outputs": [],
   "source": []
  },
  {
   "cell_type": "code",
   "execution_count": null,
   "metadata": {},
   "outputs": [],
   "source": []
  },
  {
   "cell_type": "code",
   "execution_count": null,
   "metadata": {},
   "outputs": [],
   "source": []
  },
  {
   "cell_type": "code",
   "execution_count": null,
   "metadata": {},
   "outputs": [],
   "source": []
  },
  {
   "cell_type": "markdown",
   "metadata": {},
   "source": [
    "# Folium - Cholorpleth"
   ]
  },
  {
   "cell_type": "code",
   "execution_count": 19,
   "metadata": {},
   "outputs": [
    {
     "data": {
      "text/plain": [
       "<folium.map.LayerControl at 0x28fbe00dd10>"
      ]
     },
     "execution_count": 19,
     "metadata": {},
     "output_type": "execute_result"
    }
   ],
   "source": [
    "aed_and_popul_density_within_provinces= gpd.read_file(\"C:\\KU Leuven\\Modern Data Analytics - MDA\\MDA Project\\MDA\\Created GeoJSON Files\\AED_DENS_POPUL_WITHIN_PROVINCES.geojson\")\n",
    "\n",
    "def string_to_tuple(text):\n",
    "    x = float(text.split(\",\")[0].strip(\"(\"))\n",
    "    y = float(text.split(\",\")[1].strip().strip(\")\"))\n",
    "    return (x,y)\n",
    "\n",
    "brussels_center = string_to_tuple(aed_and_popul_density_within_provinces[aed_and_popul_density_within_provinces[\"province\"]==\"bruxelles-brussel\"][\"center\"][1])\n",
    "\n",
    "aed_and_popul_density_within_provinces[\"center\"] = aed_and_popul_density_within_provinces[\"center\"].apply(string_to_tuple)\n",
    "\n",
    "# aed_and_popul_density_within_provinces= gpd.read_file(\"C:\\KU Leuven\\Modern Data Analytics - MDA\\MDA Project\\MDA\\Created GeoJSON Files\\AED_DENS_POPUL_WITHIN_PROVINCES.geojson\")\n",
    "# Define the threshold scale using the range of densities\n",
    "threshold_scale = [aed_and_popul_density_within_provinces['AED_density'].min(), 0.07, 0.12, 0.14, 0.16, 0.18, 0.21, 1, 1.5, 2, 2.9, aed_and_popul_density_within_provinces['AED_density'].max()]\n",
    "# threshold_scale = [aed_density_within_provinces['AED_density'].min(), 0.07, 0.10, 0.14, 0.16, 0.18, 0.21, 2.9, aed_density_within_provinces['AED_density'].max()]\n",
    "\n",
    "m = folium.Map(location=brussels_center, zoom_start=8)\n",
    "\n",
    "folium.Choropleth(\n",
    "    geo_data=aed_and_popul_density_within_provinces,\n",
    "    name='geometry',\n",
    "    data=aed_and_popul_density_within_provinces,\n",
    "    columns=['province', 'AED_density'],\n",
    "    key_on='feature.properties.province',\n",
    "    fill_color='Reds',\n",
    "    fill_opacity=0.8,\n",
    "    line_opacity=1.0,\n",
    "    legend_name='Number of AED per km squared',\n",
    "    threshold_scale=threshold_scale\n",
    ").add_to(m)\n",
    "\n",
    "for row in aed_and_popul_density_within_provinces.iterrows():\n",
    "    row_values = row[1] \n",
    "    popup = ('<b>' + str(row_values['province']).upper() + '</b><br><br>'+ \n",
    "             '<b>AED_number:<b> ' + '<br>' + str(row_values['AED_number'])  + '<br><br>' + '<b>AED per km squared:<b> ' + '<br>' + str(round(row_values['AED_density'],2))\n",
    "             + '<br><br>'+ '<b>AED_per_1000_people:<b>'  + '<br>' +  str((round(row_values['AED_per_thousand'],2))))\n",
    "    marker = folium.Marker(location = row_values[\"center\"], popup = popup)\n",
    "    marker.add_to(m)\n",
    "\n",
    "# m.get_root().header.add_child(folium.Element(\"<style>.leaflet-popup-content-wrapper { width: auto !important; }</style>\"))\n",
    "# Create LayerControl and add it to the map            \n",
    "folium.LayerControl().add_to(m)\n",
    "\n",
    "# m.save(\"cholorpleth_provinces.html\")\n",
    "# # Display the map\n",
    "# display(m)   "
   ]
  },
  {
   "cell_type": "markdown",
   "metadata": {},
   "source": [
    "# Plotly - Cholorpleth"
   ]
  },
  {
   "cell_type": "code",
   "execution_count": 20,
   "metadata": {},
   "outputs": [],
   "source": [
    "aed_and_popul_density_within_provinces= gpd.read_file(\"C:\\KU Leuven\\Modern Data Analytics - MDA\\MDA Project\\MDA\\Created GeoJSON Files\\AED_DENS_POPUL_WITHIN_PROVINCES.geojson\")"
   ]
  },
  {
   "cell_type": "code",
   "execution_count": 92,
   "metadata": {},
   "outputs": [
    {
     "data": {
      "text/html": [
       "<div>\n",
       "<style scoped>\n",
       "    .dataframe tbody tr th:only-of-type {\n",
       "        vertical-align: middle;\n",
       "    }\n",
       "\n",
       "    .dataframe tbody tr th {\n",
       "        vertical-align: top;\n",
       "    }\n",
       "\n",
       "    .dataframe thead th {\n",
       "        text-align: right;\n",
       "    }\n",
       "</style>\n",
       "<table border=\"1\" class=\"dataframe\">\n",
       "  <thead>\n",
       "    <tr style=\"text-align: right;\">\n",
       "      <th></th>\n",
       "      <th>province</th>\n",
       "      <th>area_klm2</th>\n",
       "      <th>center</th>\n",
       "      <th>AED_number</th>\n",
       "      <th>AED_density</th>\n",
       "      <th>population</th>\n",
       "      <th>AED_per_thousand</th>\n",
       "      <th>geometry</th>\n",
       "    </tr>\n",
       "  </thead>\n",
       "  <tbody>\n",
       "    <tr>\n",
       "      <th>0</th>\n",
       "      <td>antwerpen</td>\n",
       "      <td>7323.997641</td>\n",
       "      <td>(51.229679165931266, 4.719820314416564)</td>\n",
       "      <td>1558</td>\n",
       "      <td>0.212725</td>\n",
       "      <td>1764773</td>\n",
       "      <td>0.882833</td>\n",
       "      <td>MULTIPOLYGON (((4.94209 51.45524, 4.94062 51.4...</td>\n",
       "    </tr>\n",
       "    <tr>\n",
       "      <th>1</th>\n",
       "      <td>bruxelles-brussel</td>\n",
       "      <td>406.990727</td>\n",
       "      <td>(50.836032848225344, 4.3706868102113186)</td>\n",
       "      <td>1185</td>\n",
       "      <td>2.911614</td>\n",
       "      <td>1119088</td>\n",
       "      <td>1.058898</td>\n",
       "      <td>POLYGON ((4.40633 50.91309, 4.40722 50.91295, ...</td>\n",
       "    </tr>\n",
       "    <tr>\n",
       "      <th>2</th>\n",
       "      <td>vlaams-brabant</td>\n",
       "      <td>5312.588509</td>\n",
       "      <td>(50.87273172382932, 4.590610254578612)</td>\n",
       "      <td>883</td>\n",
       "      <td>0.166209</td>\n",
       "      <td>1086446</td>\n",
       "      <td>0.812742</td>\n",
       "      <td>POLYGON ((3.98787 50.68749, 3.98772 50.68749, ...</td>\n",
       "    </tr>\n",
       "    <tr>\n",
       "      <th>3</th>\n",
       "      <td>brabant wallon</td>\n",
       "      <td>2728.216099</td>\n",
       "      <td>(50.66933278511629, 4.583786485041254)</td>\n",
       "      <td>488</td>\n",
       "      <td>0.178871</td>\n",
       "      <td>382866</td>\n",
       "      <td>1.274597</td>\n",
       "      <td>POLYGON ((4.75386 50.80639, 4.75387 50.80639, ...</td>\n",
       "    </tr>\n",
       "    <tr>\n",
       "      <th>4</th>\n",
       "      <td>west-vlaanderen</td>\n",
       "      <td>7987.315544</td>\n",
       "      <td>(51.01142287974023, 3.057645147430322)</td>\n",
       "      <td>995</td>\n",
       "      <td>0.124573</td>\n",
       "      <td>1238022</td>\n",
       "      <td>0.803701</td>\n",
       "      <td>MULTIPOLYGON (((2.65679 51.12932, 2.65663 51.1...</td>\n",
       "    </tr>\n",
       "    <tr>\n",
       "      <th>5</th>\n",
       "      <td>oost-vlaanderen</td>\n",
       "      <td>7595.941079</td>\n",
       "      <td>(51.036508957319626, 3.816361792799826)</td>\n",
       "      <td>1169</td>\n",
       "      <td>0.153898</td>\n",
       "      <td>1469002</td>\n",
       "      <td>0.795778</td>\n",
       "      <td>POLYGON ((4.31166 51.29250, 4.31431 51.29112, ...</td>\n",
       "    </tr>\n",
       "    <tr>\n",
       "      <th>6</th>\n",
       "      <td>hainaut</td>\n",
       "      <td>9401.428447</td>\n",
       "      <td>(50.46969476722217, 3.959399551550251)</td>\n",
       "      <td>1286</td>\n",
       "      <td>0.136788</td>\n",
       "      <td>1318229</td>\n",
       "      <td>0.975551</td>\n",
       "      <td>MULTIPOLYGON (((3.71031 50.78190, 3.71065 50.7...</td>\n",
       "    </tr>\n",
       "    <tr>\n",
       "      <th>7</th>\n",
       "      <td>liège</td>\n",
       "      <td>9531.529485</td>\n",
       "      <td>(50.520548064389395, 5.736605195342704)</td>\n",
       "      <td>1265</td>\n",
       "      <td>0.132717</td>\n",
       "      <td>1149569</td>\n",
       "      <td>1.100412</td>\n",
       "      <td>POLYGON ((6.13338 50.12956, 6.13309 50.12968, ...</td>\n",
       "    </tr>\n",
       "    <tr>\n",
       "      <th>8</th>\n",
       "      <td>limburg</td>\n",
       "      <td>6119.002346</td>\n",
       "      <td>(50.9914931483222, 5.4291859343176005)</td>\n",
       "      <td>754</td>\n",
       "      <td>0.123223</td>\n",
       "      <td>844621</td>\n",
       "      <td>0.892708</td>\n",
       "      <td>MULTIPOLYGON (((5.77703 50.78285, 5.77662 50.7...</td>\n",
       "    </tr>\n",
       "    <tr>\n",
       "      <th>9</th>\n",
       "      <td>luxembourg</td>\n",
       "      <td>10763.967091</td>\n",
       "      <td>(49.96172789168535, 5.513349067860746)</td>\n",
       "      <td>455</td>\n",
       "      <td>0.042271</td>\n",
       "      <td>271352</td>\n",
       "      <td>1.676789</td>\n",
       "      <td>POLYGON ((5.43891 50.42170, 5.43908 50.42165, ...</td>\n",
       "    </tr>\n",
       "    <tr>\n",
       "      <th>10</th>\n",
       "      <td>namur</td>\n",
       "      <td>8980.230372</td>\n",
       "      <td>(50.255711368155666, 4.852274083064385)</td>\n",
       "      <td>580</td>\n",
       "      <td>0.064586</td>\n",
       "      <td>476835</td>\n",
       "      <td>1.216354</td>\n",
       "      <td>POLYGON ((4.97055 50.64532, 4.97142 50.64479, ...</td>\n",
       "    </tr>\n",
       "  </tbody>\n",
       "</table>\n",
       "</div>"
      ],
      "text/plain": [
       "             province     area_klm2                                    center  \\\n",
       "0           antwerpen   7323.997641   (51.229679165931266, 4.719820314416564)   \n",
       "1   bruxelles-brussel    406.990727  (50.836032848225344, 4.3706868102113186)   \n",
       "2      vlaams-brabant   5312.588509    (50.87273172382932, 4.590610254578612)   \n",
       "3      brabant wallon   2728.216099    (50.66933278511629, 4.583786485041254)   \n",
       "4     west-vlaanderen   7987.315544    (51.01142287974023, 3.057645147430322)   \n",
       "5     oost-vlaanderen   7595.941079   (51.036508957319626, 3.816361792799826)   \n",
       "6             hainaut   9401.428447    (50.46969476722217, 3.959399551550251)   \n",
       "7               liège   9531.529485   (50.520548064389395, 5.736605195342704)   \n",
       "8             limburg   6119.002346    (50.9914931483222, 5.4291859343176005)   \n",
       "9          luxembourg  10763.967091    (49.96172789168535, 5.513349067860746)   \n",
       "10              namur   8980.230372   (50.255711368155666, 4.852274083064385)   \n",
       "\n",
       "    AED_number  AED_density  population  AED_per_thousand  \\\n",
       "0         1558     0.212725     1764773          0.882833   \n",
       "1         1185     2.911614     1119088          1.058898   \n",
       "2          883     0.166209     1086446          0.812742   \n",
       "3          488     0.178871      382866          1.274597   \n",
       "4          995     0.124573     1238022          0.803701   \n",
       "5         1169     0.153898     1469002          0.795778   \n",
       "6         1286     0.136788     1318229          0.975551   \n",
       "7         1265     0.132717     1149569          1.100412   \n",
       "8          754     0.123223      844621          0.892708   \n",
       "9          455     0.042271      271352          1.676789   \n",
       "10         580     0.064586      476835          1.216354   \n",
       "\n",
       "                                             geometry  \n",
       "0   MULTIPOLYGON (((4.94209 51.45524, 4.94062 51.4...  \n",
       "1   POLYGON ((4.40633 50.91309, 4.40722 50.91295, ...  \n",
       "2   POLYGON ((3.98787 50.68749, 3.98772 50.68749, ...  \n",
       "3   POLYGON ((4.75386 50.80639, 4.75387 50.80639, ...  \n",
       "4   MULTIPOLYGON (((2.65679 51.12932, 2.65663 51.1...  \n",
       "5   POLYGON ((4.31166 51.29250, 4.31431 51.29112, ...  \n",
       "6   MULTIPOLYGON (((3.71031 50.78190, 3.71065 50.7...  \n",
       "7   POLYGON ((6.13338 50.12956, 6.13309 50.12968, ...  \n",
       "8   MULTIPOLYGON (((5.77703 50.78285, 5.77662 50.7...  \n",
       "9   POLYGON ((5.43891 50.42170, 5.43908 50.42165, ...  \n",
       "10  POLYGON ((4.97055 50.64532, 4.97142 50.64479, ...  "
      ]
     },
     "execution_count": 92,
     "metadata": {},
     "output_type": "execute_result"
    }
   ],
   "source": [
    "aed_and_popul_density_within_provinces"
   ]
  },
  {
   "cell_type": "code",
   "execution_count": 22,
   "metadata": {},
   "outputs": [],
   "source": [
    "aed_and_popul_density_within_provinces[\"new_province\"] = aed_and_popul_density_within_provinces[\"province\"].apply(lambda x: x.capitalize())"
   ]
  },
  {
   "cell_type": "code",
   "execution_count": 23,
   "metadata": {},
   "outputs": [],
   "source": [
    "df = px.data.election()\n",
    "geo_df = gpd.GeoDataFrame.from_features(\n",
    "    px.data.election_geojson()[\"features\"]\n",
    ").merge(df, on=\"district\").set_index(\"district\")\n",
    "\n",
    "fig = px.choropleth_mapbox(aed_and_popul_density_within_provinces,\n",
    "                           geojson=aed_and_popul_density_within_provinces.geometry,\n",
    "                           locations=aed_and_popul_density_within_provinces.index,\n",
    "                           hover_name=\"new_province\",\n",
    "                           color=\"AED_number\",\n",
    "                           center={\"lat\":50.836032848225344 , \"lon\": 4.3706868102113186},\n",
    "                           mapbox_style=\"open-street-map\",\n",
    "                           title = \"Number of AED per Province\",\n",
    "                           zoom=5.8)\n",
    "# fig.show()"
   ]
  },
  {
   "cell_type": "markdown",
   "metadata": {},
   "source": [
    "# Intervention Risk Probability - Cholorpleth"
   ]
  },
  {
   "cell_type": "code",
   "execution_count": 24,
   "metadata": {},
   "outputs": [],
   "source": [
    "interventions_risk = pd.read_csv(r\"C:\\KU Leuven\\Modern Data Analytics - MDA\\MDA Project\\MDA\\Interventions_risky_probability.csv\", index_col=False)\n",
    "\n",
    "percentile_75 = interventions_risk['Intervention duration'].quantile(0.75)\n",
    "\n",
    "# provinces_risk = interventions_risk.groupby(\"Province intervention\")[\"Probability_Risk\"].mean().to_frame().reset_index()\n",
    "provinces_risk = interventions_risk.groupby(\"Province intervention\")[[\"Probability_Risk\", \"Calculated Distance destination\",\"distance_to_intervention\",\"Intervention duration\"]].mean().reset_index()\n",
    "\n",
    "provinces_risk= provinces_risk.rename(columns={'Province intervention': 'province'})\n",
    "\n",
    "old_to_new_name = {\"ANT\":\"antwerpen\",\"BRW\":\"brabant wallon\",\"BXL\":\"bruxelles-brussel\",\"HAI\":\"hainaut\",\"LIE\":\"liège\",\"LIM\":\"limburg\",\"LUX\":\"luxembourg\",\"NAM\":\"namur\"}\n",
    "provinces_risk['province'] = provinces_risk['province'].replace(old_to_new_name)\n",
    "\n",
    "area_provinces_risk = area_provinces.merge(provinces_risk, on=\"province\",how=\"left\")\n",
    "\n",
    "def convert_str_tuple(text):\n",
    "    lat = float(text.split(\",\")[0].strip('('))\n",
    "    long = float(text.split(\",\")[1].strip().strip(')'))\n",
    "    return (lat,long)\n",
    "\n",
    "# area_provinces_risk[\"center\"] = area_provinces_risk[\"center\"].apply(convert_str_tuple)\n",
    "\n",
    "# brussels_center = area_provinces_risk[\"center\"][1]\n",
    "\n",
    "area_provinces_risk[\"province_cap\"] = area_provinces_risk[\"province\"].apply(lambda x: x.capitalize())\n",
    "                \n",
    "df = px.data.election()\n",
    "geo_df = gpd.GeoDataFrame.from_features(\n",
    "    px.data.election_geojson()[\"features\"]\n",
    ").merge(df, on=\"district\").set_index(\"district\")\n",
    "\n",
    "labels = {\"Probability_Risk\":\"Average Predicted Probability\"}\n",
    "# hover_data = {\"area_provinces_risk.index\":False}\n",
    "\n",
    "fig = px.choropleth_mapbox(area_provinces_risk,\n",
    "                           geojson=area_provinces_risk.geometry,\n",
    "                           locations=area_provinces_risk.index,\n",
    "                           hover_name = \"province_cap\",\n",
    "                           color=\"Probability_Risk\",\n",
    "                           center={\"lat\":50.87273172382932 , \"lon\": 4.590610254578612},\n",
    "                           mapbox_style=\"carto-positron\",\n",
    "                           title=\"Average Predicted Probability of Intervention Duration > 68.0 (75th Percentile)\",\n",
    "                           labels=labels,\n",
    "                        #    hover_data = hover_data,\n",
    "                           zoom=6.5)\n",
    "# fig.show()"
   ]
  },
  {
   "cell_type": "code",
   "execution_count": 10,
   "metadata": {},
   "outputs": [
    {
     "data": {
      "text/html": [
       "<div>\n",
       "<style scoped>\n",
       "    .dataframe tbody tr th:only-of-type {\n",
       "        vertical-align: middle;\n",
       "    }\n",
       "\n",
       "    .dataframe tbody tr th {\n",
       "        vertical-align: top;\n",
       "    }\n",
       "\n",
       "    .dataframe thead th {\n",
       "        text-align: right;\n",
       "    }\n",
       "</style>\n",
       "<table border=\"1\" class=\"dataframe\">\n",
       "  <thead>\n",
       "    <tr style=\"text-align: right;\">\n",
       "      <th></th>\n",
       "      <th>Province intervention</th>\n",
       "      <th>Probability_Risk</th>\n",
       "      <th>Calculated Distance destination</th>\n",
       "      <th>distance_to_intervention</th>\n",
       "      <th>Intervention duration</th>\n",
       "    </tr>\n",
       "  </thead>\n",
       "  <tbody>\n",
       "    <tr>\n",
       "      <th>0</th>\n",
       "      <td>ANT</td>\n",
       "      <td>0.231059</td>\n",
       "      <td>7152.612682</td>\n",
       "      <td>6.633850e+03</td>\n",
       "      <td>57.456587</td>\n",
       "    </tr>\n",
       "    <tr>\n",
       "      <th>1</th>\n",
       "      <td>BRW</td>\n",
       "      <td>0.271696</td>\n",
       "      <td>9190.107188</td>\n",
       "      <td>7.051673e+03</td>\n",
       "      <td>60.474490</td>\n",
       "    </tr>\n",
       "    <tr>\n",
       "      <th>2</th>\n",
       "      <td>BXL</td>\n",
       "      <td>0.170976</td>\n",
       "      <td>2653.396699</td>\n",
       "      <td>4.929415e+09</td>\n",
       "      <td>51.423148</td>\n",
       "    </tr>\n",
       "    <tr>\n",
       "      <th>3</th>\n",
       "      <td>HAI</td>\n",
       "      <td>0.244601</td>\n",
       "      <td>7645.389344</td>\n",
       "      <td>8.024464e+03</td>\n",
       "      <td>57.200118</td>\n",
       "    </tr>\n",
       "    <tr>\n",
       "      <th>4</th>\n",
       "      <td>LIE</td>\n",
       "      <td>0.238845</td>\n",
       "      <td>7582.281672</td>\n",
       "      <td>6.904114e+03</td>\n",
       "      <td>55.168743</td>\n",
       "    </tr>\n",
       "    <tr>\n",
       "      <th>5</th>\n",
       "      <td>LIM</td>\n",
       "      <td>0.304816</td>\n",
       "      <td>9759.325397</td>\n",
       "      <td>8.331373e+03</td>\n",
       "      <td>60.596048</td>\n",
       "    </tr>\n",
       "    <tr>\n",
       "      <th>6</th>\n",
       "      <td>LUX</td>\n",
       "      <td>0.415180</td>\n",
       "      <td>15990.365760</td>\n",
       "      <td>8.934386e+03</td>\n",
       "      <td>65.588597</td>\n",
       "    </tr>\n",
       "    <tr>\n",
       "      <th>7</th>\n",
       "      <td>NAM</td>\n",
       "      <td>0.333611</td>\n",
       "      <td>12230.340030</td>\n",
       "      <td>8.451938e+03</td>\n",
       "      <td>59.008929</td>\n",
       "    </tr>\n",
       "  </tbody>\n",
       "</table>\n",
       "</div>"
      ],
      "text/plain": [
       "  Province intervention  Probability_Risk  Calculated Distance destination  \\\n",
       "0                   ANT          0.231059                      7152.612682   \n",
       "1                   BRW          0.271696                      9190.107188   \n",
       "2                   BXL          0.170976                      2653.396699   \n",
       "3                   HAI          0.244601                      7645.389344   \n",
       "4                   LIE          0.238845                      7582.281672   \n",
       "5                   LIM          0.304816                      9759.325397   \n",
       "6                   LUX          0.415180                     15990.365760   \n",
       "7                   NAM          0.333611                     12230.340030   \n",
       "\n",
       "   distance_to_intervention  Intervention duration  \n",
       "0              6.633850e+03              57.456587  \n",
       "1              7.051673e+03              60.474490  \n",
       "2              4.929415e+09              51.423148  \n",
       "3              8.024464e+03              57.200118  \n",
       "4              6.904114e+03              55.168743  \n",
       "5              8.331373e+03              60.596048  \n",
       "6              8.934386e+03              65.588597  \n",
       "7              8.451938e+03              59.008929  "
      ]
     },
     "execution_count": 10,
     "metadata": {},
     "output_type": "execute_result"
    }
   ],
   "source": [
    "\n",
    "interventions_risk.groupby(\"Province intervention\")[[\"Probability_Risk\", \"Calculated Distance destination\",\"distance_to_intervention\",\"Intervention duration\"]].mean().reset_index()"
   ]
  },
  {
   "cell_type": "code",
   "execution_count": 25,
   "metadata": {},
   "outputs": [
    {
     "data": {
      "text/html": [
       "<div>\n",
       "<style scoped>\n",
       "    .dataframe tbody tr th:only-of-type {\n",
       "        vertical-align: middle;\n",
       "    }\n",
       "\n",
       "    .dataframe tbody tr th {\n",
       "        vertical-align: top;\n",
       "    }\n",
       "\n",
       "    .dataframe thead th {\n",
       "        text-align: right;\n",
       "    }\n",
       "</style>\n",
       "<table border=\"1\" class=\"dataframe\">\n",
       "  <thead>\n",
       "    <tr style=\"text-align: right;\">\n",
       "      <th></th>\n",
       "      <th>province</th>\n",
       "      <th>area_klm2</th>\n",
       "      <th>center</th>\n",
       "      <th>geometry</th>\n",
       "      <th>Probability_Risk</th>\n",
       "      <th>Calculated Distance destination</th>\n",
       "      <th>distance_to_intervention</th>\n",
       "      <th>Intervention duration</th>\n",
       "      <th>province_cap</th>\n",
       "    </tr>\n",
       "  </thead>\n",
       "  <tbody>\n",
       "    <tr>\n",
       "      <th>0</th>\n",
       "      <td>antwerpen</td>\n",
       "      <td>7323.997641</td>\n",
       "      <td>(51.229679165931266, 4.719820314416564)</td>\n",
       "      <td>MULTIPOLYGON (((4.94209 51.45524, 4.94062 51.4...</td>\n",
       "      <td>0.231059</td>\n",
       "      <td>7152.612682</td>\n",
       "      <td>6.633850e+03</td>\n",
       "      <td>57.456587</td>\n",
       "      <td>Antwerpen</td>\n",
       "    </tr>\n",
       "    <tr>\n",
       "      <th>1</th>\n",
       "      <td>bruxelles-brussel</td>\n",
       "      <td>406.990727</td>\n",
       "      <td>(50.836032848225344, 4.3706868102113186)</td>\n",
       "      <td>POLYGON ((4.40633 50.91309, 4.40722 50.91295, ...</td>\n",
       "      <td>0.170976</td>\n",
       "      <td>2653.396699</td>\n",
       "      <td>4.929415e+09</td>\n",
       "      <td>51.423148</td>\n",
       "      <td>Bruxelles-brussel</td>\n",
       "    </tr>\n",
       "    <tr>\n",
       "      <th>2</th>\n",
       "      <td>brabant wallon</td>\n",
       "      <td>2728.216099</td>\n",
       "      <td>(50.66933278511629, 4.583786485041254)</td>\n",
       "      <td>POLYGON ((4.75386 50.80639, 4.75387 50.80639, ...</td>\n",
       "      <td>0.271696</td>\n",
       "      <td>9190.107188</td>\n",
       "      <td>7.051673e+03</td>\n",
       "      <td>60.474490</td>\n",
       "      <td>Brabant wallon</td>\n",
       "    </tr>\n",
       "    <tr>\n",
       "      <th>3</th>\n",
       "      <td>hainaut</td>\n",
       "      <td>9401.428447</td>\n",
       "      <td>(50.46969476722217, 3.959399551550251)</td>\n",
       "      <td>MULTIPOLYGON (((3.71031 50.78190, 3.71065 50.7...</td>\n",
       "      <td>0.244601</td>\n",
       "      <td>7645.389344</td>\n",
       "      <td>8.024464e+03</td>\n",
       "      <td>57.200118</td>\n",
       "      <td>Hainaut</td>\n",
       "    </tr>\n",
       "    <tr>\n",
       "      <th>4</th>\n",
       "      <td>liège</td>\n",
       "      <td>9531.529485</td>\n",
       "      <td>(50.520548064389395, 5.736605195342704)</td>\n",
       "      <td>POLYGON ((6.13338 50.12956, 6.13309 50.12968, ...</td>\n",
       "      <td>0.238845</td>\n",
       "      <td>7582.281672</td>\n",
       "      <td>6.904114e+03</td>\n",
       "      <td>55.168743</td>\n",
       "      <td>Liège</td>\n",
       "    </tr>\n",
       "    <tr>\n",
       "      <th>5</th>\n",
       "      <td>limburg</td>\n",
       "      <td>6119.002346</td>\n",
       "      <td>(50.9914931483222, 5.4291859343176005)</td>\n",
       "      <td>MULTIPOLYGON (((5.77703 50.78285, 5.77662 50.7...</td>\n",
       "      <td>0.304816</td>\n",
       "      <td>9759.325397</td>\n",
       "      <td>8.331373e+03</td>\n",
       "      <td>60.596048</td>\n",
       "      <td>Limburg</td>\n",
       "    </tr>\n",
       "    <tr>\n",
       "      <th>6</th>\n",
       "      <td>luxembourg</td>\n",
       "      <td>10763.967091</td>\n",
       "      <td>(49.96172789168535, 5.513349067860746)</td>\n",
       "      <td>POLYGON ((5.43891 50.42170, 5.43908 50.42165, ...</td>\n",
       "      <td>0.415180</td>\n",
       "      <td>15990.365760</td>\n",
       "      <td>8.934386e+03</td>\n",
       "      <td>65.588597</td>\n",
       "      <td>Luxembourg</td>\n",
       "    </tr>\n",
       "    <tr>\n",
       "      <th>7</th>\n",
       "      <td>namur</td>\n",
       "      <td>8980.230372</td>\n",
       "      <td>(50.255711368155666, 4.852274083064385)</td>\n",
       "      <td>POLYGON ((4.97055 50.64532, 4.97142 50.64479, ...</td>\n",
       "      <td>0.333611</td>\n",
       "      <td>12230.340030</td>\n",
       "      <td>8.451938e+03</td>\n",
       "      <td>59.008929</td>\n",
       "      <td>Namur</td>\n",
       "    </tr>\n",
       "  </tbody>\n",
       "</table>\n",
       "</div>"
      ],
      "text/plain": [
       "            province     area_klm2                                    center  \\\n",
       "0          antwerpen   7323.997641   (51.229679165931266, 4.719820314416564)   \n",
       "1  bruxelles-brussel    406.990727  (50.836032848225344, 4.3706868102113186)   \n",
       "2     brabant wallon   2728.216099    (50.66933278511629, 4.583786485041254)   \n",
       "3            hainaut   9401.428447    (50.46969476722217, 3.959399551550251)   \n",
       "4              liège   9531.529485   (50.520548064389395, 5.736605195342704)   \n",
       "5            limburg   6119.002346    (50.9914931483222, 5.4291859343176005)   \n",
       "6         luxembourg  10763.967091    (49.96172789168535, 5.513349067860746)   \n",
       "7              namur   8980.230372   (50.255711368155666, 4.852274083064385)   \n",
       "\n",
       "                                            geometry  Probability_Risk  \\\n",
       "0  MULTIPOLYGON (((4.94209 51.45524, 4.94062 51.4...          0.231059   \n",
       "1  POLYGON ((4.40633 50.91309, 4.40722 50.91295, ...          0.170976   \n",
       "2  POLYGON ((4.75386 50.80639, 4.75387 50.80639, ...          0.271696   \n",
       "3  MULTIPOLYGON (((3.71031 50.78190, 3.71065 50.7...          0.244601   \n",
       "4  POLYGON ((6.13338 50.12956, 6.13309 50.12968, ...          0.238845   \n",
       "5  MULTIPOLYGON (((5.77703 50.78285, 5.77662 50.7...          0.304816   \n",
       "6  POLYGON ((5.43891 50.42170, 5.43908 50.42165, ...          0.415180   \n",
       "7  POLYGON ((4.97055 50.64532, 4.97142 50.64479, ...          0.333611   \n",
       "\n",
       "   Calculated Distance destination  distance_to_intervention  \\\n",
       "0                      7152.612682              6.633850e+03   \n",
       "1                      2653.396699              4.929415e+09   \n",
       "2                      9190.107188              7.051673e+03   \n",
       "3                      7645.389344              8.024464e+03   \n",
       "4                      7582.281672              6.904114e+03   \n",
       "5                      9759.325397              8.331373e+03   \n",
       "6                     15990.365760              8.934386e+03   \n",
       "7                     12230.340030              8.451938e+03   \n",
       "\n",
       "   Intervention duration       province_cap  \n",
       "0              57.456587          Antwerpen  \n",
       "1              51.423148  Bruxelles-brussel  \n",
       "2              60.474490     Brabant wallon  \n",
       "3              57.200118            Hainaut  \n",
       "4              55.168743              Liège  \n",
       "5              60.596048            Limburg  \n",
       "6              65.588597         Luxembourg  \n",
       "7              59.008929              Namur  "
      ]
     },
     "execution_count": 25,
     "metadata": {},
     "output_type": "execute_result"
    }
   ],
   "source": [
    "area_provinces_risk = area_provinces.merge(provinces_risk, on=\"province\")\n",
    "area_provinces_risk[\"province_cap\"] = area_provinces_risk[\"province\"].apply(lambda x: x.capitalize())\n",
    "area_provinces_risk"
   ]
  },
  {
   "cell_type": "code",
   "execution_count": 101,
   "metadata": {},
   "outputs": [
    {
     "data": {
      "text/html": [
       "<div>\n",
       "<style scoped>\n",
       "    .dataframe tbody tr th:only-of-type {\n",
       "        vertical-align: middle;\n",
       "    }\n",
       "\n",
       "    .dataframe tbody tr th {\n",
       "        vertical-align: top;\n",
       "    }\n",
       "\n",
       "    .dataframe thead th {\n",
       "        text-align: right;\n",
       "    }\n",
       "</style>\n",
       "<table border=\"1\" class=\"dataframe\">\n",
       "  <thead>\n",
       "    <tr style=\"text-align: right;\">\n",
       "      <th></th>\n",
       "      <th>Mission ID</th>\n",
       "      <th>Service Name</th>\n",
       "      <th>Vector type</th>\n",
       "      <th>EventLevel Trip</th>\n",
       "      <th>Province intervention</th>\n",
       "      <th>T0</th>\n",
       "      <th>Intervention duration</th>\n",
       "      <th>Calculated Distance destination</th>\n",
       "      <th>distance_to_intervention</th>\n",
       "      <th>Abandoned</th>\n",
       "      <th>time_period</th>\n",
       "      <th>rush_hour</th>\n",
       "      <th>Region</th>\n",
       "      <th>total_intervention_distance</th>\n",
       "      <th>Risky</th>\n",
       "      <th>Probability_Risk</th>\n",
       "    </tr>\n",
       "  </thead>\n",
       "  <tbody>\n",
       "    <tr>\n",
       "      <th>0</th>\n",
       "      <td>20223420107</td>\n",
       "      <td>HB UR BRUX Iris Sud Etterbeek (PIT)</td>\n",
       "      <td>PIT</td>\n",
       "      <td>N5</td>\n",
       "      <td>BXL</td>\n",
       "      <td>10</td>\n",
       "      <td>84.0</td>\n",
       "      <td>1418.0</td>\n",
       "      <td>5540.210104</td>\n",
       "      <td>0</td>\n",
       "      <td>morning</td>\n",
       "      <td>True</td>\n",
       "      <td>Brussel</td>\n",
       "      <td>6958.210104</td>\n",
       "      <td>1</td>\n",
       "      <td>0.109268</td>\n",
       "    </tr>\n",
       "    <tr>\n",
       "      <th>1</th>\n",
       "      <td>20223390102</td>\n",
       "      <td>HB UR BRUX CHU ST-PIERRE (PIT)</td>\n",
       "      <td>PIT</td>\n",
       "      <td>N5</td>\n",
       "      <td>BXL</td>\n",
       "      <td>9</td>\n",
       "      <td>43.0</td>\n",
       "      <td>1945.0</td>\n",
       "      <td>1338.543238</td>\n",
       "      <td>0</td>\n",
       "      <td>morning</td>\n",
       "      <td>True</td>\n",
       "      <td>Brussel</td>\n",
       "      <td>3283.543238</td>\n",
       "      <td>0</td>\n",
       "      <td>0.102999</td>\n",
       "    </tr>\n",
       "    <tr>\n",
       "      <th>2</th>\n",
       "      <td>20230880237</td>\n",
       "      <td>HB UR BRUX Iris Sud Etterbeek (PIT)</td>\n",
       "      <td>PIT</td>\n",
       "      <td>Other</td>\n",
       "      <td>BXL</td>\n",
       "      <td>18</td>\n",
       "      <td>32.0</td>\n",
       "      <td>2249.0</td>\n",
       "      <td>5102.633242</td>\n",
       "      <td>0</td>\n",
       "      <td>evening</td>\n",
       "      <td>True</td>\n",
       "      <td>Brussel</td>\n",
       "      <td>7351.633242</td>\n",
       "      <td>0</td>\n",
       "      <td>0.173590</td>\n",
       "    </tr>\n",
       "    <tr>\n",
       "      <th>3</th>\n",
       "      <td>60222810138</td>\n",
       "      <td>HG UR LIEG CHR Citadelle | PIT</td>\n",
       "      <td>PIT</td>\n",
       "      <td>Other</td>\n",
       "      <td>LIE</td>\n",
       "      <td>11</td>\n",
       "      <td>71.0</td>\n",
       "      <td>4514.0</td>\n",
       "      <td>3762.203850</td>\n",
       "      <td>0</td>\n",
       "      <td>noon</td>\n",
       "      <td>False</td>\n",
       "      <td>Waals Gewest</td>\n",
       "      <td>8276.203850</td>\n",
       "      <td>1</td>\n",
       "      <td>0.204706</td>\n",
       "    </tr>\n",
       "    <tr>\n",
       "      <th>4</th>\n",
       "      <td>90222950115</td>\n",
       "      <td>HN UR NAMU CHR | PIT</td>\n",
       "      <td>PIT</td>\n",
       "      <td>Other</td>\n",
       "      <td>NAM</td>\n",
       "      <td>15</td>\n",
       "      <td>66.0</td>\n",
       "      <td>9288.0</td>\n",
       "      <td>8277.993468</td>\n",
       "      <td>0</td>\n",
       "      <td>afternoon</td>\n",
       "      <td>False</td>\n",
       "      <td>Waals Gewest</td>\n",
       "      <td>17565.993468</td>\n",
       "      <td>0</td>\n",
       "      <td>0.328559</td>\n",
       "    </tr>\n",
       "  </tbody>\n",
       "</table>\n",
       "</div>"
      ],
      "text/plain": [
       "    Mission ID                         Service Name Vector type  \\\n",
       "0  20223420107  HB UR BRUX Iris Sud Etterbeek (PIT)         PIT   \n",
       "1  20223390102       HB UR BRUX CHU ST-PIERRE (PIT)         PIT   \n",
       "2  20230880237  HB UR BRUX Iris Sud Etterbeek (PIT)         PIT   \n",
       "3  60222810138       HG UR LIEG CHR Citadelle | PIT         PIT   \n",
       "4  90222950115                 HN UR NAMU CHR | PIT         PIT   \n",
       "\n",
       "  EventLevel Trip Province intervention  T0  Intervention duration  \\\n",
       "0              N5                   BXL  10                   84.0   \n",
       "1              N5                   BXL   9                   43.0   \n",
       "2           Other                   BXL  18                   32.0   \n",
       "3           Other                   LIE  11                   71.0   \n",
       "4           Other                   NAM  15                   66.0   \n",
       "\n",
       "   Calculated Distance destination  distance_to_intervention  Abandoned  \\\n",
       "0                           1418.0               5540.210104          0   \n",
       "1                           1945.0               1338.543238          0   \n",
       "2                           2249.0               5102.633242          0   \n",
       "3                           4514.0               3762.203850          0   \n",
       "4                           9288.0               8277.993468          0   \n",
       "\n",
       "  time_period  rush_hour        Region  total_intervention_distance  Risky  \\\n",
       "0     morning       True       Brussel                  6958.210104      1   \n",
       "1     morning       True       Brussel                  3283.543238      0   \n",
       "2     evening       True       Brussel                  7351.633242      0   \n",
       "3        noon      False  Waals Gewest                  8276.203850      1   \n",
       "4   afternoon      False  Waals Gewest                 17565.993468      0   \n",
       "\n",
       "   Probability_Risk  \n",
       "0          0.109268  \n",
       "1          0.102999  \n",
       "2          0.173590  \n",
       "3          0.204706  \n",
       "4          0.328559  "
      ]
     },
     "execution_count": 101,
     "metadata": {},
     "output_type": "execute_result"
    }
   ],
   "source": [
    "interventions_risk.head()"
   ]
  },
  {
   "cell_type": "code",
   "execution_count": 26,
   "metadata": {},
   "outputs": [
    {
     "data": {
      "text/html": [
       "<div>\n",
       "<style scoped>\n",
       "    .dataframe tbody tr th:only-of-type {\n",
       "        vertical-align: middle;\n",
       "    }\n",
       "\n",
       "    .dataframe tbody tr th {\n",
       "        vertical-align: top;\n",
       "    }\n",
       "\n",
       "    .dataframe thead th {\n",
       "        text-align: right;\n",
       "    }\n",
       "</style>\n",
       "<table border=\"1\" class=\"dataframe\">\n",
       "  <thead>\n",
       "    <tr style=\"text-align: right;\">\n",
       "      <th></th>\n",
       "      <th>Province intervention</th>\n",
       "      <th>time_period</th>\n",
       "      <th>Probability_Risk</th>\n",
       "    </tr>\n",
       "  </thead>\n",
       "  <tbody>\n",
       "    <tr>\n",
       "      <th>0</th>\n",
       "      <td>Antwerpen</td>\n",
       "      <td>Morning</td>\n",
       "      <td>0.235126</td>\n",
       "    </tr>\n",
       "    <tr>\n",
       "      <th>1</th>\n",
       "      <td>Antwerpen</td>\n",
       "      <td>Noon</td>\n",
       "      <td>0.232875</td>\n",
       "    </tr>\n",
       "    <tr>\n",
       "      <th>2</th>\n",
       "      <td>Antwerpen</td>\n",
       "      <td>Afternoon</td>\n",
       "      <td>0.236127</td>\n",
       "    </tr>\n",
       "    <tr>\n",
       "      <th>3</th>\n",
       "      <td>Antwerpen</td>\n",
       "      <td>Evening</td>\n",
       "      <td>0.232072</td>\n",
       "    </tr>\n",
       "    <tr>\n",
       "      <th>4</th>\n",
       "      <td>Antwerpen</td>\n",
       "      <td>Night</td>\n",
       "      <td>0.225298</td>\n",
       "    </tr>\n",
       "    <tr>\n",
       "      <th>5</th>\n",
       "      <td>Antwerpen</td>\n",
       "      <td>Midnight</td>\n",
       "      <td>0.224477</td>\n",
       "    </tr>\n",
       "    <tr>\n",
       "      <th>6</th>\n",
       "      <td>Brabant Wallon</td>\n",
       "      <td>Morning</td>\n",
       "      <td>0.267679</td>\n",
       "    </tr>\n",
       "    <tr>\n",
       "      <th>7</th>\n",
       "      <td>Brabant Wallon</td>\n",
       "      <td>Noon</td>\n",
       "      <td>0.275069</td>\n",
       "    </tr>\n",
       "    <tr>\n",
       "      <th>8</th>\n",
       "      <td>Brabant Wallon</td>\n",
       "      <td>Afternoon</td>\n",
       "      <td>0.271646</td>\n",
       "    </tr>\n",
       "    <tr>\n",
       "      <th>9</th>\n",
       "      <td>Brabant Wallon</td>\n",
       "      <td>Evening</td>\n",
       "      <td>0.279089</td>\n",
       "    </tr>\n",
       "    <tr>\n",
       "      <th>10</th>\n",
       "      <td>Brabant Wallon</td>\n",
       "      <td>Night</td>\n",
       "      <td>0.279525</td>\n",
       "    </tr>\n",
       "    <tr>\n",
       "      <th>11</th>\n",
       "      <td>Brabant Wallon</td>\n",
       "      <td>Midnight</td>\n",
       "      <td>0.259624</td>\n",
       "    </tr>\n",
       "    <tr>\n",
       "      <th>12</th>\n",
       "      <td>Bruxelles-Brussel</td>\n",
       "      <td>Morning</td>\n",
       "      <td>0.172196</td>\n",
       "    </tr>\n",
       "    <tr>\n",
       "      <th>13</th>\n",
       "      <td>Bruxelles-Brussel</td>\n",
       "      <td>Noon</td>\n",
       "      <td>0.172648</td>\n",
       "    </tr>\n",
       "    <tr>\n",
       "      <th>14</th>\n",
       "      <td>Bruxelles-Brussel</td>\n",
       "      <td>Afternoon</td>\n",
       "      <td>0.171774</td>\n",
       "    </tr>\n",
       "    <tr>\n",
       "      <th>15</th>\n",
       "      <td>Bruxelles-Brussel</td>\n",
       "      <td>Evening</td>\n",
       "      <td>0.172636</td>\n",
       "    </tr>\n",
       "    <tr>\n",
       "      <th>16</th>\n",
       "      <td>Bruxelles-Brussel</td>\n",
       "      <td>Night</td>\n",
       "      <td>0.169702</td>\n",
       "    </tr>\n",
       "    <tr>\n",
       "      <th>17</th>\n",
       "      <td>Bruxelles-Brussel</td>\n",
       "      <td>Midnight</td>\n",
       "      <td>0.166202</td>\n",
       "    </tr>\n",
       "    <tr>\n",
       "      <th>18</th>\n",
       "      <td>Hainaut</td>\n",
       "      <td>Morning</td>\n",
       "      <td>0.246817</td>\n",
       "    </tr>\n",
       "    <tr>\n",
       "      <th>19</th>\n",
       "      <td>Hainaut</td>\n",
       "      <td>Noon</td>\n",
       "      <td>0.247982</td>\n",
       "    </tr>\n",
       "    <tr>\n",
       "      <th>20</th>\n",
       "      <td>Hainaut</td>\n",
       "      <td>Afternoon</td>\n",
       "      <td>0.245421</td>\n",
       "    </tr>\n",
       "    <tr>\n",
       "      <th>21</th>\n",
       "      <td>Hainaut</td>\n",
       "      <td>Evening</td>\n",
       "      <td>0.248191</td>\n",
       "    </tr>\n",
       "    <tr>\n",
       "      <th>22</th>\n",
       "      <td>Hainaut</td>\n",
       "      <td>Night</td>\n",
       "      <td>0.241854</td>\n",
       "    </tr>\n",
       "    <tr>\n",
       "      <th>23</th>\n",
       "      <td>Hainaut</td>\n",
       "      <td>Midnight</td>\n",
       "      <td>0.237428</td>\n",
       "    </tr>\n",
       "    <tr>\n",
       "      <th>24</th>\n",
       "      <td>Limburg</td>\n",
       "      <td>Morning</td>\n",
       "      <td>0.301625</td>\n",
       "    </tr>\n",
       "    <tr>\n",
       "      <th>25</th>\n",
       "      <td>Limburg</td>\n",
       "      <td>Noon</td>\n",
       "      <td>0.304440</td>\n",
       "    </tr>\n",
       "    <tr>\n",
       "      <th>26</th>\n",
       "      <td>Limburg</td>\n",
       "      <td>Afternoon</td>\n",
       "      <td>0.305347</td>\n",
       "    </tr>\n",
       "    <tr>\n",
       "      <th>27</th>\n",
       "      <td>Limburg</td>\n",
       "      <td>Evening</td>\n",
       "      <td>0.302685</td>\n",
       "    </tr>\n",
       "    <tr>\n",
       "      <th>28</th>\n",
       "      <td>Limburg</td>\n",
       "      <td>Night</td>\n",
       "      <td>0.315306</td>\n",
       "    </tr>\n",
       "    <tr>\n",
       "      <th>29</th>\n",
       "      <td>Limburg</td>\n",
       "      <td>Midnight</td>\n",
       "      <td>0.301435</td>\n",
       "    </tr>\n",
       "    <tr>\n",
       "      <th>30</th>\n",
       "      <td>Liège</td>\n",
       "      <td>Morning</td>\n",
       "      <td>0.241418</td>\n",
       "    </tr>\n",
       "    <tr>\n",
       "      <th>31</th>\n",
       "      <td>Liège</td>\n",
       "      <td>Noon</td>\n",
       "      <td>0.247397</td>\n",
       "    </tr>\n",
       "    <tr>\n",
       "      <th>32</th>\n",
       "      <td>Liège</td>\n",
       "      <td>Afternoon</td>\n",
       "      <td>0.241431</td>\n",
       "    </tr>\n",
       "    <tr>\n",
       "      <th>33</th>\n",
       "      <td>Liège</td>\n",
       "      <td>Evening</td>\n",
       "      <td>0.245067</td>\n",
       "    </tr>\n",
       "    <tr>\n",
       "      <th>34</th>\n",
       "      <td>Liège</td>\n",
       "      <td>Night</td>\n",
       "      <td>0.238929</td>\n",
       "    </tr>\n",
       "    <tr>\n",
       "      <th>35</th>\n",
       "      <td>Liège</td>\n",
       "      <td>Midnight</td>\n",
       "      <td>0.219328</td>\n",
       "    </tr>\n",
       "    <tr>\n",
       "      <th>36</th>\n",
       "      <td>Luxembourg</td>\n",
       "      <td>Morning</td>\n",
       "      <td>0.413605</td>\n",
       "    </tr>\n",
       "    <tr>\n",
       "      <th>37</th>\n",
       "      <td>Luxembourg</td>\n",
       "      <td>Noon</td>\n",
       "      <td>0.406372</td>\n",
       "    </tr>\n",
       "    <tr>\n",
       "      <th>38</th>\n",
       "      <td>Luxembourg</td>\n",
       "      <td>Afternoon</td>\n",
       "      <td>0.415027</td>\n",
       "    </tr>\n",
       "    <tr>\n",
       "      <th>39</th>\n",
       "      <td>Luxembourg</td>\n",
       "      <td>Evening</td>\n",
       "      <td>0.406186</td>\n",
       "    </tr>\n",
       "    <tr>\n",
       "      <th>40</th>\n",
       "      <td>Luxembourg</td>\n",
       "      <td>Night</td>\n",
       "      <td>0.426486</td>\n",
       "    </tr>\n",
       "    <tr>\n",
       "      <th>41</th>\n",
       "      <td>Luxembourg</td>\n",
       "      <td>Midnight</td>\n",
       "      <td>0.425496</td>\n",
       "    </tr>\n",
       "    <tr>\n",
       "      <th>42</th>\n",
       "      <td>Namur</td>\n",
       "      <td>Morning</td>\n",
       "      <td>0.343184</td>\n",
       "    </tr>\n",
       "    <tr>\n",
       "      <th>43</th>\n",
       "      <td>Namur</td>\n",
       "      <td>Noon</td>\n",
       "      <td>0.333460</td>\n",
       "    </tr>\n",
       "    <tr>\n",
       "      <th>44</th>\n",
       "      <td>Namur</td>\n",
       "      <td>Afternoon</td>\n",
       "      <td>0.337187</td>\n",
       "    </tr>\n",
       "    <tr>\n",
       "      <th>45</th>\n",
       "      <td>Namur</td>\n",
       "      <td>Evening</td>\n",
       "      <td>0.331879</td>\n",
       "    </tr>\n",
       "    <tr>\n",
       "      <th>46</th>\n",
       "      <td>Namur</td>\n",
       "      <td>Night</td>\n",
       "      <td>0.323531</td>\n",
       "    </tr>\n",
       "    <tr>\n",
       "      <th>47</th>\n",
       "      <td>Namur</td>\n",
       "      <td>Midnight</td>\n",
       "      <td>0.331640</td>\n",
       "    </tr>\n",
       "  </tbody>\n",
       "</table>\n",
       "</div>"
      ],
      "text/plain": [
       "   Province intervention time_period  Probability_Risk\n",
       "0              Antwerpen     Morning          0.235126\n",
       "1              Antwerpen        Noon          0.232875\n",
       "2              Antwerpen   Afternoon          0.236127\n",
       "3              Antwerpen     Evening          0.232072\n",
       "4              Antwerpen       Night          0.225298\n",
       "5              Antwerpen    Midnight          0.224477\n",
       "6         Brabant Wallon     Morning          0.267679\n",
       "7         Brabant Wallon        Noon          0.275069\n",
       "8         Brabant Wallon   Afternoon          0.271646\n",
       "9         Brabant Wallon     Evening          0.279089\n",
       "10        Brabant Wallon       Night          0.279525\n",
       "11        Brabant Wallon    Midnight          0.259624\n",
       "12     Bruxelles-Brussel     Morning          0.172196\n",
       "13     Bruxelles-Brussel        Noon          0.172648\n",
       "14     Bruxelles-Brussel   Afternoon          0.171774\n",
       "15     Bruxelles-Brussel     Evening          0.172636\n",
       "16     Bruxelles-Brussel       Night          0.169702\n",
       "17     Bruxelles-Brussel    Midnight          0.166202\n",
       "18               Hainaut     Morning          0.246817\n",
       "19               Hainaut        Noon          0.247982\n",
       "20               Hainaut   Afternoon          0.245421\n",
       "21               Hainaut     Evening          0.248191\n",
       "22               Hainaut       Night          0.241854\n",
       "23               Hainaut    Midnight          0.237428\n",
       "24               Limburg     Morning          0.301625\n",
       "25               Limburg        Noon          0.304440\n",
       "26               Limburg   Afternoon          0.305347\n",
       "27               Limburg     Evening          0.302685\n",
       "28               Limburg       Night          0.315306\n",
       "29               Limburg    Midnight          0.301435\n",
       "30                 Liège     Morning          0.241418\n",
       "31                 Liège        Noon          0.247397\n",
       "32                 Liège   Afternoon          0.241431\n",
       "33                 Liège     Evening          0.245067\n",
       "34                 Liège       Night          0.238929\n",
       "35                 Liège    Midnight          0.219328\n",
       "36            Luxembourg     Morning          0.413605\n",
       "37            Luxembourg        Noon          0.406372\n",
       "38            Luxembourg   Afternoon          0.415027\n",
       "39            Luxembourg     Evening          0.406186\n",
       "40            Luxembourg       Night          0.426486\n",
       "41            Luxembourg    Midnight          0.425496\n",
       "42                 Namur     Morning          0.343184\n",
       "43                 Namur        Noon          0.333460\n",
       "44                 Namur   Afternoon          0.337187\n",
       "45                 Namur     Evening          0.331879\n",
       "46                 Namur       Night          0.323531\n",
       "47                 Namur    Midnight          0.331640"
      ]
     },
     "execution_count": 26,
     "metadata": {},
     "output_type": "execute_result"
    }
   ],
   "source": [
    "interventions_risk_line = interventions_risk.groupby([\"Province intervention\",\"time_period\"])[\"Probability_Risk\"].mean().to_frame().reset_index()\n",
    "old_to_new_name = {\"ANT\":\"Antwerpen\",\"BRW\":\"Brabant Wallon\",\"BXL\":\"Bruxelles-Brussel\",\"HAI\":\"Hainaut\",\"LIE\":\"Liège\",\"LIM\":\"Limburg\",\"LUX\":\"Luxembourg\",\"NAM\":\"Namur\"}\n",
    "interventions_risk_line['Province intervention'] = interventions_risk_line['Province intervention'].replace(old_to_new_name)\n",
    "\n",
    "\n",
    "order = ['morning', 'noon', 'afternoon', 'evening', 'night', 'midnight']\n",
    "interventions_risk_line['time_period'] = pd.Categorical(interventions_risk_line['time_period'], categories=order, ordered=True)\n",
    "interventions_risk_line = interventions_risk_line.sort_values(['Province intervention', 'time_period']).reset_index(drop=True)\n",
    "interventions_risk_line[\"time_period\"] = interventions_risk_line[\"time_period\"].apply(lambda x: x.capitalize())\n",
    "interventions_risk_line\n"
   ]
  },
  {
   "cell_type": "code",
   "execution_count": 27,
   "metadata": {},
   "outputs": [],
   "source": [
    "labels = {\"time_period\":\"Time of Day\", \"Probability_Risk\":\"Average Predicted Probability\",\"Province intervention\":\"Province\"}\n",
    "\n",
    "fig = px.line(interventions_risk_line, x=\"time_period\", y=\"Probability_Risk\", color='Province intervention', labels=labels, title=\"Average Predicted Probabilty of Intervention Time Above 68 Minutes\")\n",
    "# fig.show()"
   ]
  },
  {
   "cell_type": "code",
   "execution_count": 8,
   "metadata": {},
   "outputs": [
    {
     "data": {
      "text/html": [
       "<div>\n",
       "<style scoped>\n",
       "    .dataframe tbody tr th:only-of-type {\n",
       "        vertical-align: middle;\n",
       "    }\n",
       "\n",
       "    .dataframe tbody tr th {\n",
       "        vertical-align: top;\n",
       "    }\n",
       "\n",
       "    .dataframe thead th {\n",
       "        text-align: right;\n",
       "    }\n",
       "</style>\n",
       "<table border=\"1\" class=\"dataframe\">\n",
       "  <thead>\n",
       "    <tr style=\"text-align: right;\">\n",
       "      <th></th>\n",
       "      <th>province</th>\n",
       "      <th>area_klm2</th>\n",
       "      <th>center</th>\n",
       "      <th>geometry</th>\n",
       "      <th>Probability_Risk</th>\n",
       "      <th>Calculated Distance destination</th>\n",
       "      <th>distance_to_intervention</th>\n",
       "      <th>Intervention duration</th>\n",
       "      <th>province_cap</th>\n",
       "    </tr>\n",
       "  </thead>\n",
       "  <tbody>\n",
       "    <tr>\n",
       "      <th>0</th>\n",
       "      <td>antwerpen</td>\n",
       "      <td>7323.997641</td>\n",
       "      <td>(51.229679165931266, 4.719820314416564)</td>\n",
       "      <td>MULTIPOLYGON (((4.94209 51.45524, 4.94062 51.4...</td>\n",
       "      <td>0.231059</td>\n",
       "      <td>7152.612682</td>\n",
       "      <td>6.633850e+03</td>\n",
       "      <td>57.456587</td>\n",
       "      <td>Antwerpen</td>\n",
       "    </tr>\n",
       "    <tr>\n",
       "      <th>1</th>\n",
       "      <td>bruxelles-brussel</td>\n",
       "      <td>406.990727</td>\n",
       "      <td>(50.836032848225344, 4.3706868102113186)</td>\n",
       "      <td>POLYGON ((4.40633 50.91309, 4.40722 50.91295, ...</td>\n",
       "      <td>0.170976</td>\n",
       "      <td>2653.396699</td>\n",
       "      <td>4.929415e+09</td>\n",
       "      <td>51.423148</td>\n",
       "      <td>Bruxelles-brussel</td>\n",
       "    </tr>\n",
       "    <tr>\n",
       "      <th>2</th>\n",
       "      <td>vlaams-brabant</td>\n",
       "      <td>5312.588509</td>\n",
       "      <td>(50.87273172382932, 4.590610254578612)</td>\n",
       "      <td>POLYGON ((3.98787 50.68749, 3.98772 50.68749, ...</td>\n",
       "      <td>NaN</td>\n",
       "      <td>NaN</td>\n",
       "      <td>NaN</td>\n",
       "      <td>NaN</td>\n",
       "      <td>Vlaams-brabant</td>\n",
       "    </tr>\n",
       "    <tr>\n",
       "      <th>3</th>\n",
       "      <td>brabant wallon</td>\n",
       "      <td>2728.216099</td>\n",
       "      <td>(50.66933278511629, 4.583786485041254)</td>\n",
       "      <td>POLYGON ((4.75386 50.80639, 4.75387 50.80639, ...</td>\n",
       "      <td>0.271696</td>\n",
       "      <td>9190.107188</td>\n",
       "      <td>7.051673e+03</td>\n",
       "      <td>60.474490</td>\n",
       "      <td>Brabant wallon</td>\n",
       "    </tr>\n",
       "    <tr>\n",
       "      <th>4</th>\n",
       "      <td>west-vlaanderen</td>\n",
       "      <td>7987.315544</td>\n",
       "      <td>(51.01142287974023, 3.057645147430322)</td>\n",
       "      <td>MULTIPOLYGON (((2.65679 51.12932, 2.65663 51.1...</td>\n",
       "      <td>NaN</td>\n",
       "      <td>NaN</td>\n",
       "      <td>NaN</td>\n",
       "      <td>NaN</td>\n",
       "      <td>West-vlaanderen</td>\n",
       "    </tr>\n",
       "    <tr>\n",
       "      <th>5</th>\n",
       "      <td>oost-vlaanderen</td>\n",
       "      <td>7595.941079</td>\n",
       "      <td>(51.036508957319626, 3.816361792799826)</td>\n",
       "      <td>POLYGON ((4.31166 51.29250, 4.31431 51.29112, ...</td>\n",
       "      <td>NaN</td>\n",
       "      <td>NaN</td>\n",
       "      <td>NaN</td>\n",
       "      <td>NaN</td>\n",
       "      <td>Oost-vlaanderen</td>\n",
       "    </tr>\n",
       "    <tr>\n",
       "      <th>6</th>\n",
       "      <td>hainaut</td>\n",
       "      <td>9401.428447</td>\n",
       "      <td>(50.46969476722217, 3.959399551550251)</td>\n",
       "      <td>MULTIPOLYGON (((3.71031 50.78190, 3.71065 50.7...</td>\n",
       "      <td>0.244601</td>\n",
       "      <td>7645.389344</td>\n",
       "      <td>8.024464e+03</td>\n",
       "      <td>57.200118</td>\n",
       "      <td>Hainaut</td>\n",
       "    </tr>\n",
       "    <tr>\n",
       "      <th>7</th>\n",
       "      <td>liège</td>\n",
       "      <td>9531.529485</td>\n",
       "      <td>(50.520548064389395, 5.736605195342704)</td>\n",
       "      <td>POLYGON ((6.13338 50.12956, 6.13309 50.12968, ...</td>\n",
       "      <td>0.238845</td>\n",
       "      <td>7582.281672</td>\n",
       "      <td>6.904114e+03</td>\n",
       "      <td>55.168743</td>\n",
       "      <td>Liège</td>\n",
       "    </tr>\n",
       "    <tr>\n",
       "      <th>8</th>\n",
       "      <td>limburg</td>\n",
       "      <td>6119.002346</td>\n",
       "      <td>(50.9914931483222, 5.4291859343176005)</td>\n",
       "      <td>MULTIPOLYGON (((5.77703 50.78285, 5.77662 50.7...</td>\n",
       "      <td>0.304816</td>\n",
       "      <td>9759.325397</td>\n",
       "      <td>8.331373e+03</td>\n",
       "      <td>60.596048</td>\n",
       "      <td>Limburg</td>\n",
       "    </tr>\n",
       "    <tr>\n",
       "      <th>9</th>\n",
       "      <td>luxembourg</td>\n",
       "      <td>10763.967091</td>\n",
       "      <td>(49.96172789168535, 5.513349067860746)</td>\n",
       "      <td>POLYGON ((5.43891 50.42170, 5.43908 50.42165, ...</td>\n",
       "      <td>0.415180</td>\n",
       "      <td>15990.365760</td>\n",
       "      <td>8.934386e+03</td>\n",
       "      <td>65.588597</td>\n",
       "      <td>Luxembourg</td>\n",
       "    </tr>\n",
       "    <tr>\n",
       "      <th>10</th>\n",
       "      <td>namur</td>\n",
       "      <td>8980.230372</td>\n",
       "      <td>(50.255711368155666, 4.852274083064385)</td>\n",
       "      <td>POLYGON ((4.97055 50.64532, 4.97142 50.64479, ...</td>\n",
       "      <td>0.333611</td>\n",
       "      <td>12230.340030</td>\n",
       "      <td>8.451938e+03</td>\n",
       "      <td>59.008929</td>\n",
       "      <td>Namur</td>\n",
       "    </tr>\n",
       "  </tbody>\n",
       "</table>\n",
       "</div>"
      ],
      "text/plain": [
       "             province     area_klm2                                    center  \\\n",
       "0           antwerpen   7323.997641   (51.229679165931266, 4.719820314416564)   \n",
       "1   bruxelles-brussel    406.990727  (50.836032848225344, 4.3706868102113186)   \n",
       "2      vlaams-brabant   5312.588509    (50.87273172382932, 4.590610254578612)   \n",
       "3      brabant wallon   2728.216099    (50.66933278511629, 4.583786485041254)   \n",
       "4     west-vlaanderen   7987.315544    (51.01142287974023, 3.057645147430322)   \n",
       "5     oost-vlaanderen   7595.941079   (51.036508957319626, 3.816361792799826)   \n",
       "6             hainaut   9401.428447    (50.46969476722217, 3.959399551550251)   \n",
       "7               liège   9531.529485   (50.520548064389395, 5.736605195342704)   \n",
       "8             limburg   6119.002346    (50.9914931483222, 5.4291859343176005)   \n",
       "9          luxembourg  10763.967091    (49.96172789168535, 5.513349067860746)   \n",
       "10              namur   8980.230372   (50.255711368155666, 4.852274083064385)   \n",
       "\n",
       "                                             geometry  Probability_Risk  \\\n",
       "0   MULTIPOLYGON (((4.94209 51.45524, 4.94062 51.4...          0.231059   \n",
       "1   POLYGON ((4.40633 50.91309, 4.40722 50.91295, ...          0.170976   \n",
       "2   POLYGON ((3.98787 50.68749, 3.98772 50.68749, ...               NaN   \n",
       "3   POLYGON ((4.75386 50.80639, 4.75387 50.80639, ...          0.271696   \n",
       "4   MULTIPOLYGON (((2.65679 51.12932, 2.65663 51.1...               NaN   \n",
       "5   POLYGON ((4.31166 51.29250, 4.31431 51.29112, ...               NaN   \n",
       "6   MULTIPOLYGON (((3.71031 50.78190, 3.71065 50.7...          0.244601   \n",
       "7   POLYGON ((6.13338 50.12956, 6.13309 50.12968, ...          0.238845   \n",
       "8   MULTIPOLYGON (((5.77703 50.78285, 5.77662 50.7...          0.304816   \n",
       "9   POLYGON ((5.43891 50.42170, 5.43908 50.42165, ...          0.415180   \n",
       "10  POLYGON ((4.97055 50.64532, 4.97142 50.64479, ...          0.333611   \n",
       "\n",
       "    Calculated Distance destination  distance_to_intervention  \\\n",
       "0                       7152.612682              6.633850e+03   \n",
       "1                       2653.396699              4.929415e+09   \n",
       "2                               NaN                       NaN   \n",
       "3                       9190.107188              7.051673e+03   \n",
       "4                               NaN                       NaN   \n",
       "5                               NaN                       NaN   \n",
       "6                       7645.389344              8.024464e+03   \n",
       "7                       7582.281672              6.904114e+03   \n",
       "8                       9759.325397              8.331373e+03   \n",
       "9                      15990.365760              8.934386e+03   \n",
       "10                     12230.340030              8.451938e+03   \n",
       "\n",
       "    Intervention duration       province_cap  \n",
       "0               57.456587          Antwerpen  \n",
       "1               51.423148  Bruxelles-brussel  \n",
       "2                     NaN     Vlaams-brabant  \n",
       "3               60.474490     Brabant wallon  \n",
       "4                     NaN    West-vlaanderen  \n",
       "5                     NaN    Oost-vlaanderen  \n",
       "6               57.200118            Hainaut  \n",
       "7               55.168743              Liège  \n",
       "8               60.596048            Limburg  \n",
       "9               65.588597         Luxembourg  \n",
       "10              59.008929              Namur  "
      ]
     },
     "execution_count": 8,
     "metadata": {},
     "output_type": "execute_result"
    }
   ],
   "source": [
    "area_provinces_risk "
   ]
  },
  {
   "cell_type": "code",
   "execution_count": 28,
   "metadata": {},
   "outputs": [],
   "source": [
    "labels = {\"Probability_Risk\":\"Average Predicted Probability\", \"province_cap\":\"Province Name\"}\n",
    "\n",
    "fig = px.bar(area_provinces_risk , \n",
    "             x='province_cap', \n",
    "             y='Probability_Risk', \n",
    "             color=\"province_cap\",\n",
    "             title=\"Average Predicted Probability of Intervention Time Above 68 Minutes\",\n",
    "             labels=labels)\n",
    "\n",
    "# fig.show()"
   ]
  },
  {
   "cell_type": "code",
   "execution_count": 31,
   "metadata": {},
   "outputs": [
    {
     "data": {
      "application/vnd.plotly.v1+json": {
       "config": {
        "plotlyServerURL": "https://plot.ly"
       },
       "data": [
        {
         "marker": {
          "color": "paleturquoise"
         },
         "name": "Provinces",
         "type": "bar",
         "x": [
          "Antwerpen",
          "Bruxelles-brussel",
          "Brabant wallon",
          "Hainaut",
          "Liège",
          "Limburg",
          "Luxembourg",
          "Namur"
         ],
         "y": [
          7152.612682107566,
          2653.396699121349,
          9190.10718823136,
          7645.389343969095,
          7582.281672143118,
          9759.325397414947,
          15990.365759950822,
          12230.340030268635
         ]
        },
        {
         "marker": {
          "color": "crimson"
         },
         "name": "Probability_Risk",
         "type": "bar",
         "x": [
          "Antwerpen",
          "Bruxelles-brussel",
          "Brabant wallon",
          "Hainaut",
          "Liège",
          "Limburg",
          "Luxembourg",
          "Namur"
         ],
         "y": [
          0.2310592682463096,
          0.17097580195257042,
          0.2716959285332284,
          0.24460112665781186,
          0.2388447842661893,
          0.30481636382362937,
          0.4151804406752472,
          0.3336110360262904
         ]
        },
        {
         "marker": {
          "color": "crimson"
         },
         "name": "Probability",
         "type": "scatter",
         "x": [
          "Antwerpen",
          "Bruxelles-brussel",
          "Brabant wallon",
          "Hainaut",
          "Liège",
          "Limburg",
          "Luxembourg",
          "Namur"
         ],
         "y": [
          57.45658711869703,
          51.42314770838281,
          60.4744901370779,
          57.20011804263843,
          55.16874315443592,
          60.596048135492495,
          65.58859689565084,
          59.00892924706773
         ],
         "yaxis": "y2"
        }
       ],
       "layout": {
        "legend": {
         "orientation": "h"
        },
        "template": {
         "data": {
          "bar": [
           {
            "error_x": {
             "color": "#2a3f5f"
            },
            "error_y": {
             "color": "#2a3f5f"
            },
            "marker": {
             "line": {
              "color": "#E5ECF6",
              "width": 0.5
             },
             "pattern": {
              "fillmode": "overlay",
              "size": 10,
              "solidity": 0.2
             }
            },
            "type": "bar"
           }
          ],
          "barpolar": [
           {
            "marker": {
             "line": {
              "color": "#E5ECF6",
              "width": 0.5
             },
             "pattern": {
              "fillmode": "overlay",
              "size": 10,
              "solidity": 0.2
             }
            },
            "type": "barpolar"
           }
          ],
          "carpet": [
           {
            "aaxis": {
             "endlinecolor": "#2a3f5f",
             "gridcolor": "white",
             "linecolor": "white",
             "minorgridcolor": "white",
             "startlinecolor": "#2a3f5f"
            },
            "baxis": {
             "endlinecolor": "#2a3f5f",
             "gridcolor": "white",
             "linecolor": "white",
             "minorgridcolor": "white",
             "startlinecolor": "#2a3f5f"
            },
            "type": "carpet"
           }
          ],
          "choropleth": [
           {
            "colorbar": {
             "outlinewidth": 0,
             "ticks": ""
            },
            "type": "choropleth"
           }
          ],
          "contour": [
           {
            "colorbar": {
             "outlinewidth": 0,
             "ticks": ""
            },
            "colorscale": [
             [
              0,
              "#0d0887"
             ],
             [
              0.1111111111111111,
              "#46039f"
             ],
             [
              0.2222222222222222,
              "#7201a8"
             ],
             [
              0.3333333333333333,
              "#9c179e"
             ],
             [
              0.4444444444444444,
              "#bd3786"
             ],
             [
              0.5555555555555556,
              "#d8576b"
             ],
             [
              0.6666666666666666,
              "#ed7953"
             ],
             [
              0.7777777777777778,
              "#fb9f3a"
             ],
             [
              0.8888888888888888,
              "#fdca26"
             ],
             [
              1,
              "#f0f921"
             ]
            ],
            "type": "contour"
           }
          ],
          "contourcarpet": [
           {
            "colorbar": {
             "outlinewidth": 0,
             "ticks": ""
            },
            "type": "contourcarpet"
           }
          ],
          "heatmap": [
           {
            "colorbar": {
             "outlinewidth": 0,
             "ticks": ""
            },
            "colorscale": [
             [
              0,
              "#0d0887"
             ],
             [
              0.1111111111111111,
              "#46039f"
             ],
             [
              0.2222222222222222,
              "#7201a8"
             ],
             [
              0.3333333333333333,
              "#9c179e"
             ],
             [
              0.4444444444444444,
              "#bd3786"
             ],
             [
              0.5555555555555556,
              "#d8576b"
             ],
             [
              0.6666666666666666,
              "#ed7953"
             ],
             [
              0.7777777777777778,
              "#fb9f3a"
             ],
             [
              0.8888888888888888,
              "#fdca26"
             ],
             [
              1,
              "#f0f921"
             ]
            ],
            "type": "heatmap"
           }
          ],
          "heatmapgl": [
           {
            "colorbar": {
             "outlinewidth": 0,
             "ticks": ""
            },
            "colorscale": [
             [
              0,
              "#0d0887"
             ],
             [
              0.1111111111111111,
              "#46039f"
             ],
             [
              0.2222222222222222,
              "#7201a8"
             ],
             [
              0.3333333333333333,
              "#9c179e"
             ],
             [
              0.4444444444444444,
              "#bd3786"
             ],
             [
              0.5555555555555556,
              "#d8576b"
             ],
             [
              0.6666666666666666,
              "#ed7953"
             ],
             [
              0.7777777777777778,
              "#fb9f3a"
             ],
             [
              0.8888888888888888,
              "#fdca26"
             ],
             [
              1,
              "#f0f921"
             ]
            ],
            "type": "heatmapgl"
           }
          ],
          "histogram": [
           {
            "marker": {
             "pattern": {
              "fillmode": "overlay",
              "size": 10,
              "solidity": 0.2
             }
            },
            "type": "histogram"
           }
          ],
          "histogram2d": [
           {
            "colorbar": {
             "outlinewidth": 0,
             "ticks": ""
            },
            "colorscale": [
             [
              0,
              "#0d0887"
             ],
             [
              0.1111111111111111,
              "#46039f"
             ],
             [
              0.2222222222222222,
              "#7201a8"
             ],
             [
              0.3333333333333333,
              "#9c179e"
             ],
             [
              0.4444444444444444,
              "#bd3786"
             ],
             [
              0.5555555555555556,
              "#d8576b"
             ],
             [
              0.6666666666666666,
              "#ed7953"
             ],
             [
              0.7777777777777778,
              "#fb9f3a"
             ],
             [
              0.8888888888888888,
              "#fdca26"
             ],
             [
              1,
              "#f0f921"
             ]
            ],
            "type": "histogram2d"
           }
          ],
          "histogram2dcontour": [
           {
            "colorbar": {
             "outlinewidth": 0,
             "ticks": ""
            },
            "colorscale": [
             [
              0,
              "#0d0887"
             ],
             [
              0.1111111111111111,
              "#46039f"
             ],
             [
              0.2222222222222222,
              "#7201a8"
             ],
             [
              0.3333333333333333,
              "#9c179e"
             ],
             [
              0.4444444444444444,
              "#bd3786"
             ],
             [
              0.5555555555555556,
              "#d8576b"
             ],
             [
              0.6666666666666666,
              "#ed7953"
             ],
             [
              0.7777777777777778,
              "#fb9f3a"
             ],
             [
              0.8888888888888888,
              "#fdca26"
             ],
             [
              1,
              "#f0f921"
             ]
            ],
            "type": "histogram2dcontour"
           }
          ],
          "mesh3d": [
           {
            "colorbar": {
             "outlinewidth": 0,
             "ticks": ""
            },
            "type": "mesh3d"
           }
          ],
          "parcoords": [
           {
            "line": {
             "colorbar": {
              "outlinewidth": 0,
              "ticks": ""
             }
            },
            "type": "parcoords"
           }
          ],
          "pie": [
           {
            "automargin": true,
            "type": "pie"
           }
          ],
          "scatter": [
           {
            "fillpattern": {
             "fillmode": "overlay",
             "size": 10,
             "solidity": 0.2
            },
            "type": "scatter"
           }
          ],
          "scatter3d": [
           {
            "line": {
             "colorbar": {
              "outlinewidth": 0,
              "ticks": ""
             }
            },
            "marker": {
             "colorbar": {
              "outlinewidth": 0,
              "ticks": ""
             }
            },
            "type": "scatter3d"
           }
          ],
          "scattercarpet": [
           {
            "marker": {
             "colorbar": {
              "outlinewidth": 0,
              "ticks": ""
             }
            },
            "type": "scattercarpet"
           }
          ],
          "scattergeo": [
           {
            "marker": {
             "colorbar": {
              "outlinewidth": 0,
              "ticks": ""
             }
            },
            "type": "scattergeo"
           }
          ],
          "scattergl": [
           {
            "marker": {
             "colorbar": {
              "outlinewidth": 0,
              "ticks": ""
             }
            },
            "type": "scattergl"
           }
          ],
          "scattermapbox": [
           {
            "marker": {
             "colorbar": {
              "outlinewidth": 0,
              "ticks": ""
             }
            },
            "type": "scattermapbox"
           }
          ],
          "scatterpolar": [
           {
            "marker": {
             "colorbar": {
              "outlinewidth": 0,
              "ticks": ""
             }
            },
            "type": "scatterpolar"
           }
          ],
          "scatterpolargl": [
           {
            "marker": {
             "colorbar": {
              "outlinewidth": 0,
              "ticks": ""
             }
            },
            "type": "scatterpolargl"
           }
          ],
          "scatterternary": [
           {
            "marker": {
             "colorbar": {
              "outlinewidth": 0,
              "ticks": ""
             }
            },
            "type": "scatterternary"
           }
          ],
          "surface": [
           {
            "colorbar": {
             "outlinewidth": 0,
             "ticks": ""
            },
            "colorscale": [
             [
              0,
              "#0d0887"
             ],
             [
              0.1111111111111111,
              "#46039f"
             ],
             [
              0.2222222222222222,
              "#7201a8"
             ],
             [
              0.3333333333333333,
              "#9c179e"
             ],
             [
              0.4444444444444444,
              "#bd3786"
             ],
             [
              0.5555555555555556,
              "#d8576b"
             ],
             [
              0.6666666666666666,
              "#ed7953"
             ],
             [
              0.7777777777777778,
              "#fb9f3a"
             ],
             [
              0.8888888888888888,
              "#fdca26"
             ],
             [
              1,
              "#f0f921"
             ]
            ],
            "type": "surface"
           }
          ],
          "table": [
           {
            "cells": {
             "fill": {
              "color": "#EBF0F8"
             },
             "line": {
              "color": "white"
             }
            },
            "header": {
             "fill": {
              "color": "#C8D4E3"
             },
             "line": {
              "color": "white"
             }
            },
            "type": "table"
           }
          ]
         },
         "layout": {
          "annotationdefaults": {
           "arrowcolor": "#2a3f5f",
           "arrowhead": 0,
           "arrowwidth": 1
          },
          "autotypenumbers": "strict",
          "coloraxis": {
           "colorbar": {
            "outlinewidth": 0,
            "ticks": ""
           }
          },
          "colorscale": {
           "diverging": [
            [
             0,
             "#8e0152"
            ],
            [
             0.1,
             "#c51b7d"
            ],
            [
             0.2,
             "#de77ae"
            ],
            [
             0.3,
             "#f1b6da"
            ],
            [
             0.4,
             "#fde0ef"
            ],
            [
             0.5,
             "#f7f7f7"
            ],
            [
             0.6,
             "#e6f5d0"
            ],
            [
             0.7,
             "#b8e186"
            ],
            [
             0.8,
             "#7fbc41"
            ],
            [
             0.9,
             "#4d9221"
            ],
            [
             1,
             "#276419"
            ]
           ],
           "sequential": [
            [
             0,
             "#0d0887"
            ],
            [
             0.1111111111111111,
             "#46039f"
            ],
            [
             0.2222222222222222,
             "#7201a8"
            ],
            [
             0.3333333333333333,
             "#9c179e"
            ],
            [
             0.4444444444444444,
             "#bd3786"
            ],
            [
             0.5555555555555556,
             "#d8576b"
            ],
            [
             0.6666666666666666,
             "#ed7953"
            ],
            [
             0.7777777777777778,
             "#fb9f3a"
            ],
            [
             0.8888888888888888,
             "#fdca26"
            ],
            [
             1,
             "#f0f921"
            ]
           ],
           "sequentialminus": [
            [
             0,
             "#0d0887"
            ],
            [
             0.1111111111111111,
             "#46039f"
            ],
            [
             0.2222222222222222,
             "#7201a8"
            ],
            [
             0.3333333333333333,
             "#9c179e"
            ],
            [
             0.4444444444444444,
             "#bd3786"
            ],
            [
             0.5555555555555556,
             "#d8576b"
            ],
            [
             0.6666666666666666,
             "#ed7953"
            ],
            [
             0.7777777777777778,
             "#fb9f3a"
            ],
            [
             0.8888888888888888,
             "#fdca26"
            ],
            [
             1,
             "#f0f921"
            ]
           ]
          },
          "colorway": [
           "#636efa",
           "#EF553B",
           "#00cc96",
           "#ab63fa",
           "#FFA15A",
           "#19d3f3",
           "#FF6692",
           "#B6E880",
           "#FF97FF",
           "#FECB52"
          ],
          "font": {
           "color": "#2a3f5f"
          },
          "geo": {
           "bgcolor": "white",
           "lakecolor": "white",
           "landcolor": "#E5ECF6",
           "showlakes": true,
           "showland": true,
           "subunitcolor": "white"
          },
          "hoverlabel": {
           "align": "left"
          },
          "hovermode": "closest",
          "mapbox": {
           "style": "light"
          },
          "paper_bgcolor": "white",
          "plot_bgcolor": "#E5ECF6",
          "polar": {
           "angularaxis": {
            "gridcolor": "white",
            "linecolor": "white",
            "ticks": ""
           },
           "bgcolor": "#E5ECF6",
           "radialaxis": {
            "gridcolor": "white",
            "linecolor": "white",
            "ticks": ""
           }
          },
          "scene": {
           "xaxis": {
            "backgroundcolor": "#E5ECF6",
            "gridcolor": "white",
            "gridwidth": 2,
            "linecolor": "white",
            "showbackground": true,
            "ticks": "",
            "zerolinecolor": "white"
           },
           "yaxis": {
            "backgroundcolor": "#E5ECF6",
            "gridcolor": "white",
            "gridwidth": 2,
            "linecolor": "white",
            "showbackground": true,
            "ticks": "",
            "zerolinecolor": "white"
           },
           "zaxis": {
            "backgroundcolor": "#E5ECF6",
            "gridcolor": "white",
            "gridwidth": 2,
            "linecolor": "white",
            "showbackground": true,
            "ticks": "",
            "zerolinecolor": "white"
           }
          },
          "shapedefaults": {
           "line": {
            "color": "#2a3f5f"
           }
          },
          "ternary": {
           "aaxis": {
            "gridcolor": "white",
            "linecolor": "white",
            "ticks": ""
           },
           "baxis": {
            "gridcolor": "white",
            "linecolor": "white",
            "ticks": ""
           },
           "bgcolor": "#E5ECF6",
           "caxis": {
            "gridcolor": "white",
            "linecolor": "white",
            "ticks": ""
           }
          },
          "title": {
           "x": 0.05
          },
          "xaxis": {
           "automargin": true,
           "gridcolor": "white",
           "linecolor": "white",
           "ticks": "",
           "title": {
            "standoff": 15
           },
           "zerolinecolor": "white",
           "zerolinewidth": 2
          },
          "yaxis": {
           "automargin": true,
           "gridcolor": "white",
           "linecolor": "white",
           "ticks": "",
           "title": {
            "standoff": 15
           },
           "zerolinecolor": "white",
           "zerolinewidth": 2
          }
         }
        },
        "title": {
         "text": "Distance to Hospital vs Average Intervention Duration"
        },
        "yaxis": {
         "range": [
          0,
          17000
         ],
         "side": "left",
         "title": {
          "text": "Distance to Hospital (Meters)"
         }
        },
        "yaxis2": {
         "overlaying": "y",
         "range": [
          50,
          70
         ],
         "side": "right",
         "tickmode": "sync",
         "title": {
          "text": "Average Intervention Duration"
         }
        }
       }
      }
     },
     "metadata": {},
     "output_type": "display_data"
    }
   ],
   "source": [
    "fig = go.Figure(\n",
    "    data=go.Bar(\n",
    "        x=area_provinces_risk[\"province_cap\"],\n",
    "        y=area_provinces_risk[\"Calculated Distance destination\"],\n",
    "        name=\"Provinces\",\n",
    "        marker=dict(color=\"paleturquoise\"),\n",
    "\n",
    "    )\n",
    ")\n",
    "\n",
    "fig.add_trace(\n",
    "    go.Bar(\n",
    "        x=area_provinces_risk[\"province_cap\"],\n",
    "        y=area_provinces_risk[\"Probability_Risk\"],\n",
    "        name=\"Probability_Risk\",\n",
    "        marker=dict(color=\"crimson\"),\n",
    "    )\n",
    ")\n",
    "\n",
    "\n",
    "# fig.add_trace(\n",
    "#     go.Scatter(\n",
    "#         x=area_provinces_risk[\"province_cap\"],\n",
    "#         y=area_provinces_risk[\"Probability_Risk\"],\n",
    "#         yaxis=\"y2\",\n",
    "#         name=\"Probability\",\n",
    "#         marker=dict(color=\"crimson\"),\n",
    "#     )\n",
    "# )\n",
    "\n",
    "fig.add_trace(\n",
    "    go.Scatter(\n",
    "        x=area_provinces_risk[\"province_cap\"],\n",
    "        y=area_provinces_risk[\"Intervention duration\"],\n",
    "        yaxis=\"y2\",\n",
    "        name=\"Probability\",\n",
    "        marker=dict(color=\"crimson\"),\n",
    "    )\n",
    ")\n",
    "\n",
    "fig.update_layout(\n",
    "    title=\"Distance to Hospital vs Average Intervention Duration\",\n",
    "    legend=dict(orientation=\"h\"),\n",
    "    yaxis=dict(\n",
    "        title=dict(text=\"Distance to Hospital (Meters)\"),\n",
    "        side=\"left\",\n",
    "        range=[0, 17000],\n",
    "    ),\n",
    "    # yaxis2=dict(\n",
    "    #     title=dict(text=\"Avg. Predicted Probabity of Delay\"),\n",
    "    #     side=\"right\",\n",
    "    #     range=[0.1, 0.45],\n",
    "    #     overlaying=\"y\",\n",
    "    #     tickmode=\"sync\",\n",
    "    # ),\n",
    "    yaxis2=dict(\n",
    "    title=dict(text=\"Average Intervention Duration\"),\n",
    "    side=\"right\",\n",
    "    range=[50, 70],\n",
    "    overlaying=\"y\",\n",
    "    tickmode=\"sync\",\n",
    "),\n",
    ")\n",
    "\n",
    "# fig.show()"
   ]
  },
  {
   "cell_type": "code",
   "execution_count": 32,
   "metadata": {},
   "outputs": [
    {
     "data": {
      "application/vnd.plotly.v1+json": {
       "config": {
        "plotlyServerURL": "https://plot.ly"
       },
       "data": [
        {
         "marker": {
          "color": "paleturquoise"
         },
         "name": "Provinces",
         "type": "bar",
         "x": [
          "Antwerpen",
          "Bruxelles-brussel",
          "Brabant wallon",
          "Hainaut",
          "Liège",
          "Limburg",
          "Luxembourg",
          "Namur"
         ],
         "y": [
          7152.612682107566,
          2653.396699121349,
          9190.10718823136,
          7645.389343969095,
          7582.281672143118,
          9759.325397414947,
          15990.365759950822,
          12230.340030268635
         ]
        },
        {
         "marker": {
          "color": "crimson"
         },
         "name": "Probability_Risk",
         "type": "bar",
         "x": [
          "Antwerpen",
          "Bruxelles-brussel",
          "Brabant wallon",
          "Hainaut",
          "Liège",
          "Limburg",
          "Luxembourg",
          "Namur"
         ],
         "y": [
          0.2310592682463096,
          0.17097580195257042,
          0.2716959285332284,
          0.24460112665781186,
          0.2388447842661893,
          0.30481636382362937,
          0.4151804406752472,
          0.3336110360262904
         ]
        },
        {
         "marker": {
          "color": "crimson"
         },
         "name": "Probability",
         "type": "scatter",
         "x": [
          "Antwerpen",
          "Bruxelles-brussel",
          "Brabant wallon",
          "Hainaut",
          "Liège",
          "Limburg",
          "Luxembourg",
          "Namur"
         ],
         "y": [
          0.2310592682463096,
          0.17097580195257042,
          0.2716959285332284,
          0.24460112665781186,
          0.2388447842661893,
          0.30481636382362937,
          0.4151804406752472,
          0.3336110360262904
         ],
         "yaxis": "y2"
        }
       ],
       "layout": {
        "legend": {
         "orientation": "h"
        },
        "template": {
         "data": {
          "bar": [
           {
            "error_x": {
             "color": "#2a3f5f"
            },
            "error_y": {
             "color": "#2a3f5f"
            },
            "marker": {
             "line": {
              "color": "#E5ECF6",
              "width": 0.5
             },
             "pattern": {
              "fillmode": "overlay",
              "size": 10,
              "solidity": 0.2
             }
            },
            "type": "bar"
           }
          ],
          "barpolar": [
           {
            "marker": {
             "line": {
              "color": "#E5ECF6",
              "width": 0.5
             },
             "pattern": {
              "fillmode": "overlay",
              "size": 10,
              "solidity": 0.2
             }
            },
            "type": "barpolar"
           }
          ],
          "carpet": [
           {
            "aaxis": {
             "endlinecolor": "#2a3f5f",
             "gridcolor": "white",
             "linecolor": "white",
             "minorgridcolor": "white",
             "startlinecolor": "#2a3f5f"
            },
            "baxis": {
             "endlinecolor": "#2a3f5f",
             "gridcolor": "white",
             "linecolor": "white",
             "minorgridcolor": "white",
             "startlinecolor": "#2a3f5f"
            },
            "type": "carpet"
           }
          ],
          "choropleth": [
           {
            "colorbar": {
             "outlinewidth": 0,
             "ticks": ""
            },
            "type": "choropleth"
           }
          ],
          "contour": [
           {
            "colorbar": {
             "outlinewidth": 0,
             "ticks": ""
            },
            "colorscale": [
             [
              0,
              "#0d0887"
             ],
             [
              0.1111111111111111,
              "#46039f"
             ],
             [
              0.2222222222222222,
              "#7201a8"
             ],
             [
              0.3333333333333333,
              "#9c179e"
             ],
             [
              0.4444444444444444,
              "#bd3786"
             ],
             [
              0.5555555555555556,
              "#d8576b"
             ],
             [
              0.6666666666666666,
              "#ed7953"
             ],
             [
              0.7777777777777778,
              "#fb9f3a"
             ],
             [
              0.8888888888888888,
              "#fdca26"
             ],
             [
              1,
              "#f0f921"
             ]
            ],
            "type": "contour"
           }
          ],
          "contourcarpet": [
           {
            "colorbar": {
             "outlinewidth": 0,
             "ticks": ""
            },
            "type": "contourcarpet"
           }
          ],
          "heatmap": [
           {
            "colorbar": {
             "outlinewidth": 0,
             "ticks": ""
            },
            "colorscale": [
             [
              0,
              "#0d0887"
             ],
             [
              0.1111111111111111,
              "#46039f"
             ],
             [
              0.2222222222222222,
              "#7201a8"
             ],
             [
              0.3333333333333333,
              "#9c179e"
             ],
             [
              0.4444444444444444,
              "#bd3786"
             ],
             [
              0.5555555555555556,
              "#d8576b"
             ],
             [
              0.6666666666666666,
              "#ed7953"
             ],
             [
              0.7777777777777778,
              "#fb9f3a"
             ],
             [
              0.8888888888888888,
              "#fdca26"
             ],
             [
              1,
              "#f0f921"
             ]
            ],
            "type": "heatmap"
           }
          ],
          "heatmapgl": [
           {
            "colorbar": {
             "outlinewidth": 0,
             "ticks": ""
            },
            "colorscale": [
             [
              0,
              "#0d0887"
             ],
             [
              0.1111111111111111,
              "#46039f"
             ],
             [
              0.2222222222222222,
              "#7201a8"
             ],
             [
              0.3333333333333333,
              "#9c179e"
             ],
             [
              0.4444444444444444,
              "#bd3786"
             ],
             [
              0.5555555555555556,
              "#d8576b"
             ],
             [
              0.6666666666666666,
              "#ed7953"
             ],
             [
              0.7777777777777778,
              "#fb9f3a"
             ],
             [
              0.8888888888888888,
              "#fdca26"
             ],
             [
              1,
              "#f0f921"
             ]
            ],
            "type": "heatmapgl"
           }
          ],
          "histogram": [
           {
            "marker": {
             "pattern": {
              "fillmode": "overlay",
              "size": 10,
              "solidity": 0.2
             }
            },
            "type": "histogram"
           }
          ],
          "histogram2d": [
           {
            "colorbar": {
             "outlinewidth": 0,
             "ticks": ""
            },
            "colorscale": [
             [
              0,
              "#0d0887"
             ],
             [
              0.1111111111111111,
              "#46039f"
             ],
             [
              0.2222222222222222,
              "#7201a8"
             ],
             [
              0.3333333333333333,
              "#9c179e"
             ],
             [
              0.4444444444444444,
              "#bd3786"
             ],
             [
              0.5555555555555556,
              "#d8576b"
             ],
             [
              0.6666666666666666,
              "#ed7953"
             ],
             [
              0.7777777777777778,
              "#fb9f3a"
             ],
             [
              0.8888888888888888,
              "#fdca26"
             ],
             [
              1,
              "#f0f921"
             ]
            ],
            "type": "histogram2d"
           }
          ],
          "histogram2dcontour": [
           {
            "colorbar": {
             "outlinewidth": 0,
             "ticks": ""
            },
            "colorscale": [
             [
              0,
              "#0d0887"
             ],
             [
              0.1111111111111111,
              "#46039f"
             ],
             [
              0.2222222222222222,
              "#7201a8"
             ],
             [
              0.3333333333333333,
              "#9c179e"
             ],
             [
              0.4444444444444444,
              "#bd3786"
             ],
             [
              0.5555555555555556,
              "#d8576b"
             ],
             [
              0.6666666666666666,
              "#ed7953"
             ],
             [
              0.7777777777777778,
              "#fb9f3a"
             ],
             [
              0.8888888888888888,
              "#fdca26"
             ],
             [
              1,
              "#f0f921"
             ]
            ],
            "type": "histogram2dcontour"
           }
          ],
          "mesh3d": [
           {
            "colorbar": {
             "outlinewidth": 0,
             "ticks": ""
            },
            "type": "mesh3d"
           }
          ],
          "parcoords": [
           {
            "line": {
             "colorbar": {
              "outlinewidth": 0,
              "ticks": ""
             }
            },
            "type": "parcoords"
           }
          ],
          "pie": [
           {
            "automargin": true,
            "type": "pie"
           }
          ],
          "scatter": [
           {
            "fillpattern": {
             "fillmode": "overlay",
             "size": 10,
             "solidity": 0.2
            },
            "type": "scatter"
           }
          ],
          "scatter3d": [
           {
            "line": {
             "colorbar": {
              "outlinewidth": 0,
              "ticks": ""
             }
            },
            "marker": {
             "colorbar": {
              "outlinewidth": 0,
              "ticks": ""
             }
            },
            "type": "scatter3d"
           }
          ],
          "scattercarpet": [
           {
            "marker": {
             "colorbar": {
              "outlinewidth": 0,
              "ticks": ""
             }
            },
            "type": "scattercarpet"
           }
          ],
          "scattergeo": [
           {
            "marker": {
             "colorbar": {
              "outlinewidth": 0,
              "ticks": ""
             }
            },
            "type": "scattergeo"
           }
          ],
          "scattergl": [
           {
            "marker": {
             "colorbar": {
              "outlinewidth": 0,
              "ticks": ""
             }
            },
            "type": "scattergl"
           }
          ],
          "scattermapbox": [
           {
            "marker": {
             "colorbar": {
              "outlinewidth": 0,
              "ticks": ""
             }
            },
            "type": "scattermapbox"
           }
          ],
          "scatterpolar": [
           {
            "marker": {
             "colorbar": {
              "outlinewidth": 0,
              "ticks": ""
             }
            },
            "type": "scatterpolar"
           }
          ],
          "scatterpolargl": [
           {
            "marker": {
             "colorbar": {
              "outlinewidth": 0,
              "ticks": ""
             }
            },
            "type": "scatterpolargl"
           }
          ],
          "scatterternary": [
           {
            "marker": {
             "colorbar": {
              "outlinewidth": 0,
              "ticks": ""
             }
            },
            "type": "scatterternary"
           }
          ],
          "surface": [
           {
            "colorbar": {
             "outlinewidth": 0,
             "ticks": ""
            },
            "colorscale": [
             [
              0,
              "#0d0887"
             ],
             [
              0.1111111111111111,
              "#46039f"
             ],
             [
              0.2222222222222222,
              "#7201a8"
             ],
             [
              0.3333333333333333,
              "#9c179e"
             ],
             [
              0.4444444444444444,
              "#bd3786"
             ],
             [
              0.5555555555555556,
              "#d8576b"
             ],
             [
              0.6666666666666666,
              "#ed7953"
             ],
             [
              0.7777777777777778,
              "#fb9f3a"
             ],
             [
              0.8888888888888888,
              "#fdca26"
             ],
             [
              1,
              "#f0f921"
             ]
            ],
            "type": "surface"
           }
          ],
          "table": [
           {
            "cells": {
             "fill": {
              "color": "#EBF0F8"
             },
             "line": {
              "color": "white"
             }
            },
            "header": {
             "fill": {
              "color": "#C8D4E3"
             },
             "line": {
              "color": "white"
             }
            },
            "type": "table"
           }
          ]
         },
         "layout": {
          "annotationdefaults": {
           "arrowcolor": "#2a3f5f",
           "arrowhead": 0,
           "arrowwidth": 1
          },
          "autotypenumbers": "strict",
          "coloraxis": {
           "colorbar": {
            "outlinewidth": 0,
            "ticks": ""
           }
          },
          "colorscale": {
           "diverging": [
            [
             0,
             "#8e0152"
            ],
            [
             0.1,
             "#c51b7d"
            ],
            [
             0.2,
             "#de77ae"
            ],
            [
             0.3,
             "#f1b6da"
            ],
            [
             0.4,
             "#fde0ef"
            ],
            [
             0.5,
             "#f7f7f7"
            ],
            [
             0.6,
             "#e6f5d0"
            ],
            [
             0.7,
             "#b8e186"
            ],
            [
             0.8,
             "#7fbc41"
            ],
            [
             0.9,
             "#4d9221"
            ],
            [
             1,
             "#276419"
            ]
           ],
           "sequential": [
            [
             0,
             "#0d0887"
            ],
            [
             0.1111111111111111,
             "#46039f"
            ],
            [
             0.2222222222222222,
             "#7201a8"
            ],
            [
             0.3333333333333333,
             "#9c179e"
            ],
            [
             0.4444444444444444,
             "#bd3786"
            ],
            [
             0.5555555555555556,
             "#d8576b"
            ],
            [
             0.6666666666666666,
             "#ed7953"
            ],
            [
             0.7777777777777778,
             "#fb9f3a"
            ],
            [
             0.8888888888888888,
             "#fdca26"
            ],
            [
             1,
             "#f0f921"
            ]
           ],
           "sequentialminus": [
            [
             0,
             "#0d0887"
            ],
            [
             0.1111111111111111,
             "#46039f"
            ],
            [
             0.2222222222222222,
             "#7201a8"
            ],
            [
             0.3333333333333333,
             "#9c179e"
            ],
            [
             0.4444444444444444,
             "#bd3786"
            ],
            [
             0.5555555555555556,
             "#d8576b"
            ],
            [
             0.6666666666666666,
             "#ed7953"
            ],
            [
             0.7777777777777778,
             "#fb9f3a"
            ],
            [
             0.8888888888888888,
             "#fdca26"
            ],
            [
             1,
             "#f0f921"
            ]
           ]
          },
          "colorway": [
           "#636efa",
           "#EF553B",
           "#00cc96",
           "#ab63fa",
           "#FFA15A",
           "#19d3f3",
           "#FF6692",
           "#B6E880",
           "#FF97FF",
           "#FECB52"
          ],
          "font": {
           "color": "#2a3f5f"
          },
          "geo": {
           "bgcolor": "white",
           "lakecolor": "white",
           "landcolor": "#E5ECF6",
           "showlakes": true,
           "showland": true,
           "subunitcolor": "white"
          },
          "hoverlabel": {
           "align": "left"
          },
          "hovermode": "closest",
          "mapbox": {
           "style": "light"
          },
          "paper_bgcolor": "white",
          "plot_bgcolor": "#E5ECF6",
          "polar": {
           "angularaxis": {
            "gridcolor": "white",
            "linecolor": "white",
            "ticks": ""
           },
           "bgcolor": "#E5ECF6",
           "radialaxis": {
            "gridcolor": "white",
            "linecolor": "white",
            "ticks": ""
           }
          },
          "scene": {
           "xaxis": {
            "backgroundcolor": "#E5ECF6",
            "gridcolor": "white",
            "gridwidth": 2,
            "linecolor": "white",
            "showbackground": true,
            "ticks": "",
            "zerolinecolor": "white"
           },
           "yaxis": {
            "backgroundcolor": "#E5ECF6",
            "gridcolor": "white",
            "gridwidth": 2,
            "linecolor": "white",
            "showbackground": true,
            "ticks": "",
            "zerolinecolor": "white"
           },
           "zaxis": {
            "backgroundcolor": "#E5ECF6",
            "gridcolor": "white",
            "gridwidth": 2,
            "linecolor": "white",
            "showbackground": true,
            "ticks": "",
            "zerolinecolor": "white"
           }
          },
          "shapedefaults": {
           "line": {
            "color": "#2a3f5f"
           }
          },
          "ternary": {
           "aaxis": {
            "gridcolor": "white",
            "linecolor": "white",
            "ticks": ""
           },
           "baxis": {
            "gridcolor": "white",
            "linecolor": "white",
            "ticks": ""
           },
           "bgcolor": "#E5ECF6",
           "caxis": {
            "gridcolor": "white",
            "linecolor": "white",
            "ticks": ""
           }
          },
          "title": {
           "x": 0.05
          },
          "xaxis": {
           "automargin": true,
           "gridcolor": "white",
           "linecolor": "white",
           "ticks": "",
           "title": {
            "standoff": 15
           },
           "zerolinecolor": "white",
           "zerolinewidth": 2
          },
          "yaxis": {
           "automargin": true,
           "gridcolor": "white",
           "linecolor": "white",
           "ticks": "",
           "title": {
            "standoff": 15
           },
           "zerolinecolor": "white",
           "zerolinewidth": 2
          }
         }
        },
        "title": {
         "text": "Distance to Hospital vs Average Predicted Probality of Intervention Delay"
        },
        "yaxis": {
         "range": [
          0,
          17000
         ],
         "side": "left",
         "title": {
          "text": "Distance to Hospital (Meters)"
         }
        },
        "yaxis2": {
         "overlaying": "y",
         "range": [
          0.1,
          0.45
         ],
         "side": "right",
         "tickmode": "sync",
         "title": {
          "text": "Avg. Predicted Probabity of Delay"
         }
        }
       }
      }
     },
     "metadata": {},
     "output_type": "display_data"
    }
   ],
   "source": [
    "fig = go.Figure(\n",
    "    data=go.Bar(\n",
    "        x=area_provinces_risk[\"province_cap\"],\n",
    "        y=area_provinces_risk[\"Calculated Distance destination\"],\n",
    "        name=\"Provinces\",\n",
    "        marker=dict(color=\"paleturquoise\"),\n",
    "\n",
    "    )\n",
    ")\n",
    "\n",
    "fig.add_trace(\n",
    "    go.Bar(\n",
    "        x=area_provinces_risk[\"province_cap\"],\n",
    "        y=area_provinces_risk[\"Probability_Risk\"],\n",
    "        name=\"Probability_Risk\",\n",
    "        marker=dict(color=\"crimson\"),\n",
    "    )\n",
    ")\n",
    "\n",
    "\n",
    "fig.add_trace(\n",
    "    go.Scatter(\n",
    "        x=area_provinces_risk[\"province_cap\"],\n",
    "        y=area_provinces_risk[\"Probability_Risk\"],\n",
    "        yaxis=\"y2\",\n",
    "        name=\"Probability\",\n",
    "        marker=dict(color=\"crimson\"),\n",
    "    )\n",
    ")\n",
    "\n",
    "# fig.add_trace(\n",
    "#     go.Scatter(\n",
    "#         x=area_provinces_risk[\"province_cap\"],\n",
    "#         y=area_provinces_risk[\"Intervention duration\"],\n",
    "#         yaxis=\"y2\",\n",
    "#         name=\"Probability\",\n",
    "#         marker=dict(color=\"crimson\"),\n",
    "#     )\n",
    "# )\n",
    "\n",
    "fig.update_layout(\n",
    "    title=\"Distance to Hospital vs Average Predicted Probality of Intervention Delay\",\n",
    "    # title=\"Distance to Hospital vs Average Intervention Duration\",\n",
    "    legend=dict(orientation=\"h\"),\n",
    "    yaxis=dict(\n",
    "        title=dict(text=\"Distance to Hospital (Meters)\"),\n",
    "        side=\"left\",\n",
    "        range=[0, 17000],\n",
    "    ),\n",
    "    yaxis2=dict(\n",
    "        title=dict(text=\"Avg. Predicted Probabity of Delay\"),\n",
    "        side=\"right\",\n",
    "        range=[0.1, 0.45],\n",
    "        overlaying=\"y\",\n",
    "        tickmode=\"sync\",\n",
    "    ),\n",
    "#     yaxis2=dict(\n",
    "#     title=dict(text=\"Avg. Predicted Probabity of Delay\"),\n",
    "#     side=\"right\",\n",
    "#     range=[50, 70],\n",
    "#     overlaying=\"y\",\n",
    "#     tickmode=\"sync\",\n",
    "# ),\n",
    ")\n",
    "\n",
    "# fig.show()"
   ]
  },
  {
   "cell_type": "code",
   "execution_count": 118,
   "metadata": {},
   "outputs": [
    {
     "data": {
      "text/plain": [
       "4929414786.825988"
      ]
     },
     "execution_count": 118,
     "metadata": {},
     "output_type": "execute_result"
    }
   ],
   "source": [
    "area_provinces_risk[\"distance_to_intervention\"].max()"
   ]
  },
  {
   "cell_type": "code",
   "execution_count": 33,
   "metadata": {},
   "outputs": [
    {
     "data": {
      "application/vnd.plotly.v1+json": {
       "config": {
        "plotlyServerURL": "https://plot.ly"
       },
       "data": [
        {
         "marker": {
          "color": "paleturquoise"
         },
         "name": "Calculated Distance destination",
         "type": "bar",
         "x": [
          "Antwerpen",
          "Bruxelles-brussel",
          "Brabant wallon",
          "Hainaut",
          "Liège",
          "Limburg",
          "Luxembourg",
          "Namur"
         ],
         "y": [
          7152.612682107566,
          2653.396699121349,
          9190.10718823136,
          7645.389343969095,
          7582.281672143118,
          9759.325397414947,
          15990.365759950822,
          12230.340030268635
         ]
        },
        {
         "marker": {
          "color": "crimson"
         },
         "name": "Probability_Risk",
         "type": "bar",
         "x": [
          "Antwerpen",
          "Bruxelles-brussel",
          "Brabant wallon",
          "Hainaut",
          "Liège",
          "Limburg",
          "Luxembourg",
          "Namur"
         ],
         "y": [
          6633.849517042991,
          4929414786.825988,
          7051.673072077291,
          8024.463599745999,
          6904.114134221508,
          8331.373121509794,
          8934.386057498125,
          8451.938230463391
         ]
        },
        {
         "marker": {
          "color": "crimson"
         },
         "name": "Probability",
         "type": "scatter",
         "x": [
          "Antwerpen",
          "Bruxelles-brussel",
          "Brabant wallon",
          "Hainaut",
          "Liège",
          "Limburg",
          "Luxembourg",
          "Namur"
         ],
         "y": [
          0.2310592682463096,
          0.17097580195257042,
          0.2716959285332284,
          0.24460112665781186,
          0.2388447842661893,
          0.30481636382362937,
          0.4151804406752472,
          0.3336110360262904
         ],
         "yaxis": "y2"
        }
       ],
       "layout": {
        "barmode": "group",
        "legend": {
         "orientation": "h"
        },
        "template": {
         "data": {
          "bar": [
           {
            "error_x": {
             "color": "#2a3f5f"
            },
            "error_y": {
             "color": "#2a3f5f"
            },
            "marker": {
             "line": {
              "color": "#E5ECF6",
              "width": 0.5
             },
             "pattern": {
              "fillmode": "overlay",
              "size": 10,
              "solidity": 0.2
             }
            },
            "type": "bar"
           }
          ],
          "barpolar": [
           {
            "marker": {
             "line": {
              "color": "#E5ECF6",
              "width": 0.5
             },
             "pattern": {
              "fillmode": "overlay",
              "size": 10,
              "solidity": 0.2
             }
            },
            "type": "barpolar"
           }
          ],
          "carpet": [
           {
            "aaxis": {
             "endlinecolor": "#2a3f5f",
             "gridcolor": "white",
             "linecolor": "white",
             "minorgridcolor": "white",
             "startlinecolor": "#2a3f5f"
            },
            "baxis": {
             "endlinecolor": "#2a3f5f",
             "gridcolor": "white",
             "linecolor": "white",
             "minorgridcolor": "white",
             "startlinecolor": "#2a3f5f"
            },
            "type": "carpet"
           }
          ],
          "choropleth": [
           {
            "colorbar": {
             "outlinewidth": 0,
             "ticks": ""
            },
            "type": "choropleth"
           }
          ],
          "contour": [
           {
            "colorbar": {
             "outlinewidth": 0,
             "ticks": ""
            },
            "colorscale": [
             [
              0,
              "#0d0887"
             ],
             [
              0.1111111111111111,
              "#46039f"
             ],
             [
              0.2222222222222222,
              "#7201a8"
             ],
             [
              0.3333333333333333,
              "#9c179e"
             ],
             [
              0.4444444444444444,
              "#bd3786"
             ],
             [
              0.5555555555555556,
              "#d8576b"
             ],
             [
              0.6666666666666666,
              "#ed7953"
             ],
             [
              0.7777777777777778,
              "#fb9f3a"
             ],
             [
              0.8888888888888888,
              "#fdca26"
             ],
             [
              1,
              "#f0f921"
             ]
            ],
            "type": "contour"
           }
          ],
          "contourcarpet": [
           {
            "colorbar": {
             "outlinewidth": 0,
             "ticks": ""
            },
            "type": "contourcarpet"
           }
          ],
          "heatmap": [
           {
            "colorbar": {
             "outlinewidth": 0,
             "ticks": ""
            },
            "colorscale": [
             [
              0,
              "#0d0887"
             ],
             [
              0.1111111111111111,
              "#46039f"
             ],
             [
              0.2222222222222222,
              "#7201a8"
             ],
             [
              0.3333333333333333,
              "#9c179e"
             ],
             [
              0.4444444444444444,
              "#bd3786"
             ],
             [
              0.5555555555555556,
              "#d8576b"
             ],
             [
              0.6666666666666666,
              "#ed7953"
             ],
             [
              0.7777777777777778,
              "#fb9f3a"
             ],
             [
              0.8888888888888888,
              "#fdca26"
             ],
             [
              1,
              "#f0f921"
             ]
            ],
            "type": "heatmap"
           }
          ],
          "heatmapgl": [
           {
            "colorbar": {
             "outlinewidth": 0,
             "ticks": ""
            },
            "colorscale": [
             [
              0,
              "#0d0887"
             ],
             [
              0.1111111111111111,
              "#46039f"
             ],
             [
              0.2222222222222222,
              "#7201a8"
             ],
             [
              0.3333333333333333,
              "#9c179e"
             ],
             [
              0.4444444444444444,
              "#bd3786"
             ],
             [
              0.5555555555555556,
              "#d8576b"
             ],
             [
              0.6666666666666666,
              "#ed7953"
             ],
             [
              0.7777777777777778,
              "#fb9f3a"
             ],
             [
              0.8888888888888888,
              "#fdca26"
             ],
             [
              1,
              "#f0f921"
             ]
            ],
            "type": "heatmapgl"
           }
          ],
          "histogram": [
           {
            "marker": {
             "pattern": {
              "fillmode": "overlay",
              "size": 10,
              "solidity": 0.2
             }
            },
            "type": "histogram"
           }
          ],
          "histogram2d": [
           {
            "colorbar": {
             "outlinewidth": 0,
             "ticks": ""
            },
            "colorscale": [
             [
              0,
              "#0d0887"
             ],
             [
              0.1111111111111111,
              "#46039f"
             ],
             [
              0.2222222222222222,
              "#7201a8"
             ],
             [
              0.3333333333333333,
              "#9c179e"
             ],
             [
              0.4444444444444444,
              "#bd3786"
             ],
             [
              0.5555555555555556,
              "#d8576b"
             ],
             [
              0.6666666666666666,
              "#ed7953"
             ],
             [
              0.7777777777777778,
              "#fb9f3a"
             ],
             [
              0.8888888888888888,
              "#fdca26"
             ],
             [
              1,
              "#f0f921"
             ]
            ],
            "type": "histogram2d"
           }
          ],
          "histogram2dcontour": [
           {
            "colorbar": {
             "outlinewidth": 0,
             "ticks": ""
            },
            "colorscale": [
             [
              0,
              "#0d0887"
             ],
             [
              0.1111111111111111,
              "#46039f"
             ],
             [
              0.2222222222222222,
              "#7201a8"
             ],
             [
              0.3333333333333333,
              "#9c179e"
             ],
             [
              0.4444444444444444,
              "#bd3786"
             ],
             [
              0.5555555555555556,
              "#d8576b"
             ],
             [
              0.6666666666666666,
              "#ed7953"
             ],
             [
              0.7777777777777778,
              "#fb9f3a"
             ],
             [
              0.8888888888888888,
              "#fdca26"
             ],
             [
              1,
              "#f0f921"
             ]
            ],
            "type": "histogram2dcontour"
           }
          ],
          "mesh3d": [
           {
            "colorbar": {
             "outlinewidth": 0,
             "ticks": ""
            },
            "type": "mesh3d"
           }
          ],
          "parcoords": [
           {
            "line": {
             "colorbar": {
              "outlinewidth": 0,
              "ticks": ""
             }
            },
            "type": "parcoords"
           }
          ],
          "pie": [
           {
            "automargin": true,
            "type": "pie"
           }
          ],
          "scatter": [
           {
            "fillpattern": {
             "fillmode": "overlay",
             "size": 10,
             "solidity": 0.2
            },
            "type": "scatter"
           }
          ],
          "scatter3d": [
           {
            "line": {
             "colorbar": {
              "outlinewidth": 0,
              "ticks": ""
             }
            },
            "marker": {
             "colorbar": {
              "outlinewidth": 0,
              "ticks": ""
             }
            },
            "type": "scatter3d"
           }
          ],
          "scattercarpet": [
           {
            "marker": {
             "colorbar": {
              "outlinewidth": 0,
              "ticks": ""
             }
            },
            "type": "scattercarpet"
           }
          ],
          "scattergeo": [
           {
            "marker": {
             "colorbar": {
              "outlinewidth": 0,
              "ticks": ""
             }
            },
            "type": "scattergeo"
           }
          ],
          "scattergl": [
           {
            "marker": {
             "colorbar": {
              "outlinewidth": 0,
              "ticks": ""
             }
            },
            "type": "scattergl"
           }
          ],
          "scattermapbox": [
           {
            "marker": {
             "colorbar": {
              "outlinewidth": 0,
              "ticks": ""
             }
            },
            "type": "scattermapbox"
           }
          ],
          "scatterpolar": [
           {
            "marker": {
             "colorbar": {
              "outlinewidth": 0,
              "ticks": ""
             }
            },
            "type": "scatterpolar"
           }
          ],
          "scatterpolargl": [
           {
            "marker": {
             "colorbar": {
              "outlinewidth": 0,
              "ticks": ""
             }
            },
            "type": "scatterpolargl"
           }
          ],
          "scatterternary": [
           {
            "marker": {
             "colorbar": {
              "outlinewidth": 0,
              "ticks": ""
             }
            },
            "type": "scatterternary"
           }
          ],
          "surface": [
           {
            "colorbar": {
             "outlinewidth": 0,
             "ticks": ""
            },
            "colorscale": [
             [
              0,
              "#0d0887"
             ],
             [
              0.1111111111111111,
              "#46039f"
             ],
             [
              0.2222222222222222,
              "#7201a8"
             ],
             [
              0.3333333333333333,
              "#9c179e"
             ],
             [
              0.4444444444444444,
              "#bd3786"
             ],
             [
              0.5555555555555556,
              "#d8576b"
             ],
             [
              0.6666666666666666,
              "#ed7953"
             ],
             [
              0.7777777777777778,
              "#fb9f3a"
             ],
             [
              0.8888888888888888,
              "#fdca26"
             ],
             [
              1,
              "#f0f921"
             ]
            ],
            "type": "surface"
           }
          ],
          "table": [
           {
            "cells": {
             "fill": {
              "color": "#EBF0F8"
             },
             "line": {
              "color": "white"
             }
            },
            "header": {
             "fill": {
              "color": "#C8D4E3"
             },
             "line": {
              "color": "white"
             }
            },
            "type": "table"
           }
          ]
         },
         "layout": {
          "annotationdefaults": {
           "arrowcolor": "#2a3f5f",
           "arrowhead": 0,
           "arrowwidth": 1
          },
          "autotypenumbers": "strict",
          "coloraxis": {
           "colorbar": {
            "outlinewidth": 0,
            "ticks": ""
           }
          },
          "colorscale": {
           "diverging": [
            [
             0,
             "#8e0152"
            ],
            [
             0.1,
             "#c51b7d"
            ],
            [
             0.2,
             "#de77ae"
            ],
            [
             0.3,
             "#f1b6da"
            ],
            [
             0.4,
             "#fde0ef"
            ],
            [
             0.5,
             "#f7f7f7"
            ],
            [
             0.6,
             "#e6f5d0"
            ],
            [
             0.7,
             "#b8e186"
            ],
            [
             0.8,
             "#7fbc41"
            ],
            [
             0.9,
             "#4d9221"
            ],
            [
             1,
             "#276419"
            ]
           ],
           "sequential": [
            [
             0,
             "#0d0887"
            ],
            [
             0.1111111111111111,
             "#46039f"
            ],
            [
             0.2222222222222222,
             "#7201a8"
            ],
            [
             0.3333333333333333,
             "#9c179e"
            ],
            [
             0.4444444444444444,
             "#bd3786"
            ],
            [
             0.5555555555555556,
             "#d8576b"
            ],
            [
             0.6666666666666666,
             "#ed7953"
            ],
            [
             0.7777777777777778,
             "#fb9f3a"
            ],
            [
             0.8888888888888888,
             "#fdca26"
            ],
            [
             1,
             "#f0f921"
            ]
           ],
           "sequentialminus": [
            [
             0,
             "#0d0887"
            ],
            [
             0.1111111111111111,
             "#46039f"
            ],
            [
             0.2222222222222222,
             "#7201a8"
            ],
            [
             0.3333333333333333,
             "#9c179e"
            ],
            [
             0.4444444444444444,
             "#bd3786"
            ],
            [
             0.5555555555555556,
             "#d8576b"
            ],
            [
             0.6666666666666666,
             "#ed7953"
            ],
            [
             0.7777777777777778,
             "#fb9f3a"
            ],
            [
             0.8888888888888888,
             "#fdca26"
            ],
            [
             1,
             "#f0f921"
            ]
           ]
          },
          "colorway": [
           "#636efa",
           "#EF553B",
           "#00cc96",
           "#ab63fa",
           "#FFA15A",
           "#19d3f3",
           "#FF6692",
           "#B6E880",
           "#FF97FF",
           "#FECB52"
          ],
          "font": {
           "color": "#2a3f5f"
          },
          "geo": {
           "bgcolor": "white",
           "lakecolor": "white",
           "landcolor": "#E5ECF6",
           "showlakes": true,
           "showland": true,
           "subunitcolor": "white"
          },
          "hoverlabel": {
           "align": "left"
          },
          "hovermode": "closest",
          "mapbox": {
           "style": "light"
          },
          "paper_bgcolor": "white",
          "plot_bgcolor": "#E5ECF6",
          "polar": {
           "angularaxis": {
            "gridcolor": "white",
            "linecolor": "white",
            "ticks": ""
           },
           "bgcolor": "#E5ECF6",
           "radialaxis": {
            "gridcolor": "white",
            "linecolor": "white",
            "ticks": ""
           }
          },
          "scene": {
           "xaxis": {
            "backgroundcolor": "#E5ECF6",
            "gridcolor": "white",
            "gridwidth": 2,
            "linecolor": "white",
            "showbackground": true,
            "ticks": "",
            "zerolinecolor": "white"
           },
           "yaxis": {
            "backgroundcolor": "#E5ECF6",
            "gridcolor": "white",
            "gridwidth": 2,
            "linecolor": "white",
            "showbackground": true,
            "ticks": "",
            "zerolinecolor": "white"
           },
           "zaxis": {
            "backgroundcolor": "#E5ECF6",
            "gridcolor": "white",
            "gridwidth": 2,
            "linecolor": "white",
            "showbackground": true,
            "ticks": "",
            "zerolinecolor": "white"
           }
          },
          "shapedefaults": {
           "line": {
            "color": "#2a3f5f"
           }
          },
          "ternary": {
           "aaxis": {
            "gridcolor": "white",
            "linecolor": "white",
            "ticks": ""
           },
           "baxis": {
            "gridcolor": "white",
            "linecolor": "white",
            "ticks": ""
           },
           "bgcolor": "#E5ECF6",
           "caxis": {
            "gridcolor": "white",
            "linecolor": "white",
            "ticks": ""
           }
          },
          "title": {
           "x": 0.05
          },
          "xaxis": {
           "automargin": true,
           "gridcolor": "white",
           "linecolor": "white",
           "ticks": "",
           "title": {
            "standoff": 15
           },
           "zerolinecolor": "white",
           "zerolinewidth": 2
          },
          "yaxis": {
           "automargin": true,
           "gridcolor": "white",
           "linecolor": "white",
           "ticks": "",
           "title": {
            "standoff": 15
           },
           "zerolinecolor": "white",
           "zerolinewidth": 2
          }
         }
        },
        "yaxis": {
         "range": [
          1000,
          20000
         ],
         "side": "left",
         "title": {
          "text": "Total number of diners"
         }
        },
        "yaxis2": {
         "overlaying": "y",
         "range": [
          0.1,
          0.5
         ],
         "side": "right",
         "tickmode": "auto",
         "title": {
          "text": "Total bill amount"
         }
        }
       }
      }
     },
     "metadata": {},
     "output_type": "display_data"
    }
   ],
   "source": [
    "fig = go.Figure()\n",
    "\n",
    "fig.add_trace(\n",
    "    go.Bar(\n",
    "        x=area_provinces_risk[\"province_cap\"],\n",
    "        y=area_provinces_risk[\"Calculated Distance destination\"],\n",
    "        name=\"Calculated Distance destination\",\n",
    "        marker=dict(color=\"paleturquoise\"),\n",
    "    )\n",
    ")\n",
    "\n",
    "fig.add_trace(\n",
    "    go.Bar(\n",
    "        x=area_provinces_risk[\"province_cap\"],\n",
    "        y=area_provinces_risk[\"distance_to_intervention\"],\n",
    "        name=\"Probability_Risk\",\n",
    "        marker=dict(color=\"crimson\"),\n",
    "    )\n",
    ")\n",
    "\n",
    "fig.add_trace(\n",
    "    go.Scatter(\n",
    "        x=area_provinces_risk[\"province_cap\"],\n",
    "        y=area_provinces_risk[\"Probability_Risk\"],\n",
    "        yaxis=\"y2\",\n",
    "        name=\"Probability\",\n",
    "        marker=dict(color=\"crimson\"),\n",
    "    )\n",
    ")\n",
    "\n",
    "fig.update_layout(\n",
    "    barmode='group',\n",
    "    legend=dict(orientation=\"h\"),\n",
    "    yaxis=dict(\n",
    "        title=dict(text=\"Total number of diners\"),\n",
    "        side=\"left\",\n",
    "        range=[1000, 20000],\n",
    "    ),\n",
    "    yaxis2=dict(\n",
    "        title=dict(text=\"Total bill amount\"),\n",
    "        side=\"right\",\n",
    "        range=[0.1, 0.5],\n",
    "        overlaying=\"y\",\n",
    "        tickmode=\"auto\",\n",
    "    ),\n",
    ")\n",
    "\n",
    "# fig.show()"
   ]
  },
  {
   "cell_type": "code",
   "execution_count": null,
   "metadata": {},
   "outputs": [],
   "source": []
  },
  {
   "cell_type": "code",
   "execution_count": null,
   "metadata": {},
   "outputs": [],
   "source": []
  },
  {
   "cell_type": "code",
   "execution_count": 6,
   "metadata": {},
   "outputs": [
    {
     "data": {
      "text/html": [
       "<div>\n",
       "<style scoped>\n",
       "    .dataframe tbody tr th:only-of-type {\n",
       "        vertical-align: middle;\n",
       "    }\n",
       "\n",
       "    .dataframe tbody tr th {\n",
       "        vertical-align: top;\n",
       "    }\n",
       "\n",
       "    .dataframe thead th {\n",
       "        text-align: right;\n",
       "    }\n",
       "</style>\n",
       "<table border=\"1\" class=\"dataframe\">\n",
       "  <thead>\n",
       "    <tr style=\"text-align: right;\">\n",
       "      <th></th>\n",
       "      <th>province</th>\n",
       "      <th>area_klm2</th>\n",
       "      <th>center</th>\n",
       "      <th>geometry</th>\n",
       "      <th>Probability_Risk</th>\n",
       "      <th>province_cap</th>\n",
       "    </tr>\n",
       "  </thead>\n",
       "  <tbody>\n",
       "    <tr>\n",
       "      <th>0</th>\n",
       "      <td>antwerpen</td>\n",
       "      <td>7323.997641</td>\n",
       "      <td>(51.229679165931266, 4.719820314416564)</td>\n",
       "      <td>MULTIPOLYGON (((4.94209 51.45524, 4.94062 51.4...</td>\n",
       "      <td>0.231059</td>\n",
       "      <td>Antwerpen</td>\n",
       "    </tr>\n",
       "    <tr>\n",
       "      <th>1</th>\n",
       "      <td>bruxelles-brussel</td>\n",
       "      <td>406.990727</td>\n",
       "      <td>(50.836032848225344, 4.3706868102113186)</td>\n",
       "      <td>POLYGON ((4.40633 50.91309, 4.40722 50.91295, ...</td>\n",
       "      <td>0.170976</td>\n",
       "      <td>Bruxelles-brussel</td>\n",
       "    </tr>\n",
       "    <tr>\n",
       "      <th>2</th>\n",
       "      <td>vlaams-brabant</td>\n",
       "      <td>5312.588509</td>\n",
       "      <td>(50.87273172382932, 4.590610254578612)</td>\n",
       "      <td>POLYGON ((3.98787 50.68749, 3.98772 50.68749, ...</td>\n",
       "      <td>NaN</td>\n",
       "      <td>Vlaams-brabant</td>\n",
       "    </tr>\n",
       "    <tr>\n",
       "      <th>3</th>\n",
       "      <td>brabant wallon</td>\n",
       "      <td>2728.216099</td>\n",
       "      <td>(50.66933278511629, 4.583786485041254)</td>\n",
       "      <td>POLYGON ((4.75386 50.80639, 4.75387 50.80639, ...</td>\n",
       "      <td>0.271696</td>\n",
       "      <td>Brabant wallon</td>\n",
       "    </tr>\n",
       "    <tr>\n",
       "      <th>4</th>\n",
       "      <td>west-vlaanderen</td>\n",
       "      <td>7987.315544</td>\n",
       "      <td>(51.01142287974023, 3.057645147430322)</td>\n",
       "      <td>MULTIPOLYGON (((2.65679 51.12932, 2.65663 51.1...</td>\n",
       "      <td>NaN</td>\n",
       "      <td>West-vlaanderen</td>\n",
       "    </tr>\n",
       "    <tr>\n",
       "      <th>5</th>\n",
       "      <td>oost-vlaanderen</td>\n",
       "      <td>7595.941079</td>\n",
       "      <td>(51.036508957319626, 3.816361792799826)</td>\n",
       "      <td>POLYGON ((4.31166 51.29250, 4.31431 51.29112, ...</td>\n",
       "      <td>NaN</td>\n",
       "      <td>Oost-vlaanderen</td>\n",
       "    </tr>\n",
       "    <tr>\n",
       "      <th>6</th>\n",
       "      <td>hainaut</td>\n",
       "      <td>9401.428447</td>\n",
       "      <td>(50.46969476722217, 3.959399551550251)</td>\n",
       "      <td>MULTIPOLYGON (((3.71031 50.78190, 3.71065 50.7...</td>\n",
       "      <td>0.244601</td>\n",
       "      <td>Hainaut</td>\n",
       "    </tr>\n",
       "    <tr>\n",
       "      <th>7</th>\n",
       "      <td>liège</td>\n",
       "      <td>9531.529485</td>\n",
       "      <td>(50.520548064389395, 5.736605195342704)</td>\n",
       "      <td>POLYGON ((6.13338 50.12956, 6.13309 50.12968, ...</td>\n",
       "      <td>0.238845</td>\n",
       "      <td>Liège</td>\n",
       "    </tr>\n",
       "    <tr>\n",
       "      <th>8</th>\n",
       "      <td>limburg</td>\n",
       "      <td>6119.002346</td>\n",
       "      <td>(50.9914931483222, 5.4291859343176005)</td>\n",
       "      <td>MULTIPOLYGON (((5.77703 50.78285, 5.77662 50.7...</td>\n",
       "      <td>0.304816</td>\n",
       "      <td>Limburg</td>\n",
       "    </tr>\n",
       "    <tr>\n",
       "      <th>9</th>\n",
       "      <td>luxembourg</td>\n",
       "      <td>10763.967091</td>\n",
       "      <td>(49.96172789168535, 5.513349067860746)</td>\n",
       "      <td>POLYGON ((5.43891 50.42170, 5.43908 50.42165, ...</td>\n",
       "      <td>0.415180</td>\n",
       "      <td>Luxembourg</td>\n",
       "    </tr>\n",
       "    <tr>\n",
       "      <th>10</th>\n",
       "      <td>namur</td>\n",
       "      <td>8980.230372</td>\n",
       "      <td>(50.255711368155666, 4.852274083064385)</td>\n",
       "      <td>POLYGON ((4.97055 50.64532, 4.97142 50.64479, ...</td>\n",
       "      <td>0.333611</td>\n",
       "      <td>Namur</td>\n",
       "    </tr>\n",
       "  </tbody>\n",
       "</table>\n",
       "</div>"
      ],
      "text/plain": [
       "             province     area_klm2                                    center  \\\n",
       "0           antwerpen   7323.997641   (51.229679165931266, 4.719820314416564)   \n",
       "1   bruxelles-brussel    406.990727  (50.836032848225344, 4.3706868102113186)   \n",
       "2      vlaams-brabant   5312.588509    (50.87273172382932, 4.590610254578612)   \n",
       "3      brabant wallon   2728.216099    (50.66933278511629, 4.583786485041254)   \n",
       "4     west-vlaanderen   7987.315544    (51.01142287974023, 3.057645147430322)   \n",
       "5     oost-vlaanderen   7595.941079   (51.036508957319626, 3.816361792799826)   \n",
       "6             hainaut   9401.428447    (50.46969476722217, 3.959399551550251)   \n",
       "7               liège   9531.529485   (50.520548064389395, 5.736605195342704)   \n",
       "8             limburg   6119.002346    (50.9914931483222, 5.4291859343176005)   \n",
       "9          luxembourg  10763.967091    (49.96172789168535, 5.513349067860746)   \n",
       "10              namur   8980.230372   (50.255711368155666, 4.852274083064385)   \n",
       "\n",
       "                                             geometry  Probability_Risk  \\\n",
       "0   MULTIPOLYGON (((4.94209 51.45524, 4.94062 51.4...          0.231059   \n",
       "1   POLYGON ((4.40633 50.91309, 4.40722 50.91295, ...          0.170976   \n",
       "2   POLYGON ((3.98787 50.68749, 3.98772 50.68749, ...               NaN   \n",
       "3   POLYGON ((4.75386 50.80639, 4.75387 50.80639, ...          0.271696   \n",
       "4   MULTIPOLYGON (((2.65679 51.12932, 2.65663 51.1...               NaN   \n",
       "5   POLYGON ((4.31166 51.29250, 4.31431 51.29112, ...               NaN   \n",
       "6   MULTIPOLYGON (((3.71031 50.78190, 3.71065 50.7...          0.244601   \n",
       "7   POLYGON ((6.13338 50.12956, 6.13309 50.12968, ...          0.238845   \n",
       "8   MULTIPOLYGON (((5.77703 50.78285, 5.77662 50.7...          0.304816   \n",
       "9   POLYGON ((5.43891 50.42170, 5.43908 50.42165, ...          0.415180   \n",
       "10  POLYGON ((4.97055 50.64532, 4.97142 50.64479, ...          0.333611   \n",
       "\n",
       "         province_cap  \n",
       "0           Antwerpen  \n",
       "1   Bruxelles-brussel  \n",
       "2      Vlaams-brabant  \n",
       "3      Brabant wallon  \n",
       "4     West-vlaanderen  \n",
       "5     Oost-vlaanderen  \n",
       "6             Hainaut  \n",
       "7               Liège  \n",
       "8             Limburg  \n",
       "9          Luxembourg  \n",
       "10              Namur  "
      ]
     },
     "execution_count": 6,
     "metadata": {},
     "output_type": "execute_result"
    }
   ],
   "source": [
    "area_provinces_risk"
   ]
  },
  {
   "cell_type": "code",
   "execution_count": 34,
   "metadata": {},
   "outputs": [
    {
     "data": {
      "text/html": [
       "<div>\n",
       "<style scoped>\n",
       "    .dataframe tbody tr th:only-of-type {\n",
       "        vertical-align: middle;\n",
       "    }\n",
       "\n",
       "    .dataframe tbody tr th {\n",
       "        vertical-align: top;\n",
       "    }\n",
       "\n",
       "    .dataframe thead th {\n",
       "        text-align: right;\n",
       "    }\n",
       "</style>\n",
       "<table border=\"1\" class=\"dataframe\">\n",
       "  <thead>\n",
       "    <tr style=\"text-align: right;\">\n",
       "      <th></th>\n",
       "      <th>province</th>\n",
       "      <th>afternoon</th>\n",
       "      <th>evening</th>\n",
       "      <th>midnight</th>\n",
       "      <th>morning</th>\n",
       "      <th>night</th>\n",
       "      <th>noon</th>\n",
       "    </tr>\n",
       "  </thead>\n",
       "  <tbody>\n",
       "    <tr>\n",
       "      <th>0</th>\n",
       "      <td>antwerpen</td>\n",
       "      <td>57.899843</td>\n",
       "      <td>58.420567</td>\n",
       "      <td>56.220580</td>\n",
       "      <td>59.048242</td>\n",
       "      <td>55.942440</td>\n",
       "      <td>57.250911</td>\n",
       "    </tr>\n",
       "    <tr>\n",
       "      <th>1</th>\n",
       "      <td>brabant wallon</td>\n",
       "      <td>61.517115</td>\n",
       "      <td>61.397254</td>\n",
       "      <td>58.209796</td>\n",
       "      <td>60.582242</td>\n",
       "      <td>60.479196</td>\n",
       "      <td>60.824048</td>\n",
       "    </tr>\n",
       "    <tr>\n",
       "      <th>2</th>\n",
       "      <td>bruxelles-brussel</td>\n",
       "      <td>53.299428</td>\n",
       "      <td>52.206182</td>\n",
       "      <td>48.174917</td>\n",
       "      <td>52.866010</td>\n",
       "      <td>50.114319</td>\n",
       "      <td>51.436569</td>\n",
       "    </tr>\n",
       "    <tr>\n",
       "      <th>3</th>\n",
       "      <td>hainaut</td>\n",
       "      <td>58.471239</td>\n",
       "      <td>57.444444</td>\n",
       "      <td>55.530421</td>\n",
       "      <td>57.971012</td>\n",
       "      <td>56.783756</td>\n",
       "      <td>57.059406</td>\n",
       "    </tr>\n",
       "    <tr>\n",
       "      <th>4</th>\n",
       "      <td>liège</td>\n",
       "      <td>55.839464</td>\n",
       "      <td>55.631125</td>\n",
       "      <td>53.472568</td>\n",
       "      <td>55.784165</td>\n",
       "      <td>54.555438</td>\n",
       "      <td>55.710863</td>\n",
       "    </tr>\n",
       "    <tr>\n",
       "      <th>5</th>\n",
       "      <td>limburg</td>\n",
       "      <td>61.275133</td>\n",
       "      <td>60.742746</td>\n",
       "      <td>59.865909</td>\n",
       "      <td>60.505199</td>\n",
       "      <td>60.369967</td>\n",
       "      <td>60.689808</td>\n",
       "    </tr>\n",
       "    <tr>\n",
       "      <th>6</th>\n",
       "      <td>luxembourg</td>\n",
       "      <td>64.915291</td>\n",
       "      <td>65.033882</td>\n",
       "      <td>67.738950</td>\n",
       "      <td>64.256750</td>\n",
       "      <td>68.010504</td>\n",
       "      <td>64.029583</td>\n",
       "    </tr>\n",
       "    <tr>\n",
       "      <th>7</th>\n",
       "      <td>namur</td>\n",
       "      <td>59.212340</td>\n",
       "      <td>58.775947</td>\n",
       "      <td>59.156752</td>\n",
       "      <td>59.953959</td>\n",
       "      <td>58.100025</td>\n",
       "      <td>58.786683</td>\n",
       "    </tr>\n",
       "  </tbody>\n",
       "</table>\n",
       "</div>"
      ],
      "text/plain": [
       "            province  afternoon    evening   midnight    morning      night  \\\n",
       "0          antwerpen  57.899843  58.420567  56.220580  59.048242  55.942440   \n",
       "1     brabant wallon  61.517115  61.397254  58.209796  60.582242  60.479196   \n",
       "2  bruxelles-brussel  53.299428  52.206182  48.174917  52.866010  50.114319   \n",
       "3            hainaut  58.471239  57.444444  55.530421  57.971012  56.783756   \n",
       "4              liège  55.839464  55.631125  53.472568  55.784165  54.555438   \n",
       "5            limburg  61.275133  60.742746  59.865909  60.505199  60.369967   \n",
       "6         luxembourg  64.915291  65.033882  67.738950  64.256750  68.010504   \n",
       "7              namur  59.212340  58.775947  59.156752  59.953959  58.100025   \n",
       "\n",
       "        noon  \n",
       "0  57.250911  \n",
       "1  60.824048  \n",
       "2  51.436569  \n",
       "3  57.059406  \n",
       "4  55.710863  \n",
       "5  60.689808  \n",
       "6  64.029583  \n",
       "7  58.786683  "
      ]
     },
     "execution_count": 34,
     "metadata": {},
     "output_type": "execute_result"
    }
   ],
   "source": [
    "\n",
    "\n",
    "interventions_risk_grouped = interventions_risk.groupby([\"Province intervention\",\"time_period\"])[\"Intervention duration\"].mean().to_frame().reset_index()\n",
    "\n",
    "interventions_risk_grouped = interventions_risk_grouped.pivot(index='Province intervention', columns='time_period', values='Intervention duration')\n",
    "\n",
    "interventions_risk_grouped.reset_index()\n",
    "interventions_risk_grouped.columns.name = None\n",
    "\n",
    "interventions_risk_grouped = interventions_risk_grouped.reset_index()\n",
    "\n",
    "interventions_risk_grouped= interventions_risk_grouped.rename(columns={'Province intervention': 'province'})\n",
    "old_to_new_name = {\"ANT\":\"antwerpen\",\"BRW\":\"brabant wallon\",\"BXL\":\"bruxelles-brussel\",\"HAI\":\"hainaut\",\"LIE\":\"liège\",\"LIM\":\"limburg\",\"LUX\":\"luxembourg\",\"NAM\":\"namur\"}\n",
    "interventions_risk_grouped['province'] = interventions_risk_grouped['province'].replace(old_to_new_name)\n",
    "\n",
    "interventions_risk_grouped"
   ]
  },
  {
   "cell_type": "code",
   "execution_count": 35,
   "metadata": {},
   "outputs": [],
   "source": [
    "area_provinces_risk_new = area_provinces_risk.merge(interventions_risk_grouped, on=\"province\")"
   ]
  },
  {
   "cell_type": "code",
   "execution_count": 13,
   "metadata": {},
   "outputs": [
    {
     "data": {
      "text/html": [
       "<div>\n",
       "<style scoped>\n",
       "    .dataframe tbody tr th:only-of-type {\n",
       "        vertical-align: middle;\n",
       "    }\n",
       "\n",
       "    .dataframe tbody tr th {\n",
       "        vertical-align: top;\n",
       "    }\n",
       "\n",
       "    .dataframe thead th {\n",
       "        text-align: right;\n",
       "    }\n",
       "</style>\n",
       "<table border=\"1\" class=\"dataframe\">\n",
       "  <thead>\n",
       "    <tr style=\"text-align: right;\">\n",
       "      <th></th>\n",
       "      <th>province</th>\n",
       "      <th>area_klm2</th>\n",
       "      <th>center</th>\n",
       "      <th>geometry</th>\n",
       "      <th>Probability_Risk</th>\n",
       "      <th>province_cap</th>\n",
       "      <th>afternoon</th>\n",
       "      <th>evening</th>\n",
       "      <th>midnight</th>\n",
       "      <th>morning</th>\n",
       "      <th>night</th>\n",
       "      <th>noon</th>\n",
       "    </tr>\n",
       "  </thead>\n",
       "  <tbody>\n",
       "    <tr>\n",
       "      <th>0</th>\n",
       "      <td>antwerpen</td>\n",
       "      <td>7323.997641</td>\n",
       "      <td>(51.229679165931266, 4.719820314416564)</td>\n",
       "      <td>MULTIPOLYGON (((4.94209 51.45524, 4.94062 51.4...</td>\n",
       "      <td>0.231059</td>\n",
       "      <td>Antwerpen</td>\n",
       "      <td>57.899843</td>\n",
       "      <td>58.420567</td>\n",
       "      <td>56.220580</td>\n",
       "      <td>59.048242</td>\n",
       "      <td>55.942440</td>\n",
       "      <td>57.250911</td>\n",
       "    </tr>\n",
       "    <tr>\n",
       "      <th>1</th>\n",
       "      <td>bruxelles-brussel</td>\n",
       "      <td>406.990727</td>\n",
       "      <td>(50.836032848225344, 4.3706868102113186)</td>\n",
       "      <td>POLYGON ((4.40633 50.91309, 4.40722 50.91295, ...</td>\n",
       "      <td>0.170976</td>\n",
       "      <td>Bruxelles-brussel</td>\n",
       "      <td>53.299428</td>\n",
       "      <td>52.206182</td>\n",
       "      <td>48.174917</td>\n",
       "      <td>52.866010</td>\n",
       "      <td>50.114319</td>\n",
       "      <td>51.436569</td>\n",
       "    </tr>\n",
       "    <tr>\n",
       "      <th>2</th>\n",
       "      <td>brabant wallon</td>\n",
       "      <td>2728.216099</td>\n",
       "      <td>(50.66933278511629, 4.583786485041254)</td>\n",
       "      <td>POLYGON ((4.75386 50.80639, 4.75387 50.80639, ...</td>\n",
       "      <td>0.271696</td>\n",
       "      <td>Brabant wallon</td>\n",
       "      <td>61.517115</td>\n",
       "      <td>61.397254</td>\n",
       "      <td>58.209796</td>\n",
       "      <td>60.582242</td>\n",
       "      <td>60.479196</td>\n",
       "      <td>60.824048</td>\n",
       "    </tr>\n",
       "    <tr>\n",
       "      <th>3</th>\n",
       "      <td>hainaut</td>\n",
       "      <td>9401.428447</td>\n",
       "      <td>(50.46969476722217, 3.959399551550251)</td>\n",
       "      <td>MULTIPOLYGON (((3.71031 50.78190, 3.71065 50.7...</td>\n",
       "      <td>0.244601</td>\n",
       "      <td>Hainaut</td>\n",
       "      <td>58.471239</td>\n",
       "      <td>57.444444</td>\n",
       "      <td>55.530421</td>\n",
       "      <td>57.971012</td>\n",
       "      <td>56.783756</td>\n",
       "      <td>57.059406</td>\n",
       "    </tr>\n",
       "    <tr>\n",
       "      <th>4</th>\n",
       "      <td>liège</td>\n",
       "      <td>9531.529485</td>\n",
       "      <td>(50.520548064389395, 5.736605195342704)</td>\n",
       "      <td>POLYGON ((6.13338 50.12956, 6.13309 50.12968, ...</td>\n",
       "      <td>0.238845</td>\n",
       "      <td>Liège</td>\n",
       "      <td>55.839464</td>\n",
       "      <td>55.631125</td>\n",
       "      <td>53.472568</td>\n",
       "      <td>55.784165</td>\n",
       "      <td>54.555438</td>\n",
       "      <td>55.710863</td>\n",
       "    </tr>\n",
       "    <tr>\n",
       "      <th>5</th>\n",
       "      <td>limburg</td>\n",
       "      <td>6119.002346</td>\n",
       "      <td>(50.9914931483222, 5.4291859343176005)</td>\n",
       "      <td>MULTIPOLYGON (((5.77703 50.78285, 5.77662 50.7...</td>\n",
       "      <td>0.304816</td>\n",
       "      <td>Limburg</td>\n",
       "      <td>61.275133</td>\n",
       "      <td>60.742746</td>\n",
       "      <td>59.865909</td>\n",
       "      <td>60.505199</td>\n",
       "      <td>60.369967</td>\n",
       "      <td>60.689808</td>\n",
       "    </tr>\n",
       "    <tr>\n",
       "      <th>6</th>\n",
       "      <td>luxembourg</td>\n",
       "      <td>10763.967091</td>\n",
       "      <td>(49.96172789168535, 5.513349067860746)</td>\n",
       "      <td>POLYGON ((5.43891 50.42170, 5.43908 50.42165, ...</td>\n",
       "      <td>0.415180</td>\n",
       "      <td>Luxembourg</td>\n",
       "      <td>64.915291</td>\n",
       "      <td>65.033882</td>\n",
       "      <td>67.738950</td>\n",
       "      <td>64.256750</td>\n",
       "      <td>68.010504</td>\n",
       "      <td>64.029583</td>\n",
       "    </tr>\n",
       "    <tr>\n",
       "      <th>7</th>\n",
       "      <td>namur</td>\n",
       "      <td>8980.230372</td>\n",
       "      <td>(50.255711368155666, 4.852274083064385)</td>\n",
       "      <td>POLYGON ((4.97055 50.64532, 4.97142 50.64479, ...</td>\n",
       "      <td>0.333611</td>\n",
       "      <td>Namur</td>\n",
       "      <td>59.212340</td>\n",
       "      <td>58.775947</td>\n",
       "      <td>59.156752</td>\n",
       "      <td>59.953959</td>\n",
       "      <td>58.100025</td>\n",
       "      <td>58.786683</td>\n",
       "    </tr>\n",
       "  </tbody>\n",
       "</table>\n",
       "</div>"
      ],
      "text/plain": [
       "            province     area_klm2                                    center  \\\n",
       "0          antwerpen   7323.997641   (51.229679165931266, 4.719820314416564)   \n",
       "1  bruxelles-brussel    406.990727  (50.836032848225344, 4.3706868102113186)   \n",
       "2     brabant wallon   2728.216099    (50.66933278511629, 4.583786485041254)   \n",
       "3            hainaut   9401.428447    (50.46969476722217, 3.959399551550251)   \n",
       "4              liège   9531.529485   (50.520548064389395, 5.736605195342704)   \n",
       "5            limburg   6119.002346    (50.9914931483222, 5.4291859343176005)   \n",
       "6         luxembourg  10763.967091    (49.96172789168535, 5.513349067860746)   \n",
       "7              namur   8980.230372   (50.255711368155666, 4.852274083064385)   \n",
       "\n",
       "                                            geometry  Probability_Risk  \\\n",
       "0  MULTIPOLYGON (((4.94209 51.45524, 4.94062 51.4...          0.231059   \n",
       "1  POLYGON ((4.40633 50.91309, 4.40722 50.91295, ...          0.170976   \n",
       "2  POLYGON ((4.75386 50.80639, 4.75387 50.80639, ...          0.271696   \n",
       "3  MULTIPOLYGON (((3.71031 50.78190, 3.71065 50.7...          0.244601   \n",
       "4  POLYGON ((6.13338 50.12956, 6.13309 50.12968, ...          0.238845   \n",
       "5  MULTIPOLYGON (((5.77703 50.78285, 5.77662 50.7...          0.304816   \n",
       "6  POLYGON ((5.43891 50.42170, 5.43908 50.42165, ...          0.415180   \n",
       "7  POLYGON ((4.97055 50.64532, 4.97142 50.64479, ...          0.333611   \n",
       "\n",
       "        province_cap  afternoon    evening   midnight    morning      night  \\\n",
       "0          Antwerpen  57.899843  58.420567  56.220580  59.048242  55.942440   \n",
       "1  Bruxelles-brussel  53.299428  52.206182  48.174917  52.866010  50.114319   \n",
       "2     Brabant wallon  61.517115  61.397254  58.209796  60.582242  60.479196   \n",
       "3            Hainaut  58.471239  57.444444  55.530421  57.971012  56.783756   \n",
       "4              Liège  55.839464  55.631125  53.472568  55.784165  54.555438   \n",
       "5            Limburg  61.275133  60.742746  59.865909  60.505199  60.369967   \n",
       "6         Luxembourg  64.915291  65.033882  67.738950  64.256750  68.010504   \n",
       "7              Namur  59.212340  58.775947  59.156752  59.953959  58.100025   \n",
       "\n",
       "        noon  \n",
       "0  57.250911  \n",
       "1  51.436569  \n",
       "2  60.824048  \n",
       "3  57.059406  \n",
       "4  55.710863  \n",
       "5  60.689808  \n",
       "6  64.029583  \n",
       "7  58.786683  "
      ]
     },
     "execution_count": 13,
     "metadata": {},
     "output_type": "execute_result"
    }
   ],
   "source": [
    "area_provinces_risk_new"
   ]
  },
  {
   "cell_type": "code",
   "execution_count": 36,
   "metadata": {},
   "outputs": [],
   "source": [
    "df = px.data.election()\n",
    "geo_df = gpd.GeoDataFrame.from_features(\n",
    "    px.data.election_geojson()[\"features\"]\n",
    ").merge(df, on=\"district\").set_index(\"district\")\n",
    "\n",
    "labels = {\"morning\":\"Early Morning {08.00-10.00}\", \"noon\":\"Morning {10.00-13.00}\",\n",
    "          \"afternoon\":\"Afternoon {13.00-16.00}\",\"evening\":\"Evening {16.00-19.00}\",\n",
    "          \"night\":\"Night {19.00-23.00}\",\"midnight\":\"Midnight-Dawn{23.00-08.00}\"}\n",
    "# hover_data = {\"area_provinces_risk.index\":False}\n",
    "\n",
    "fig = px.choropleth_mapbox(area_provinces_risk_new,\n",
    "                           geojson=area_provinces_risk_new.geometry,\n",
    "                           locations=area_provinces_risk_new.index,\n",
    "                           hover_name = \"province_cap\",\n",
    "                           color=\"morning\",\n",
    "                           center={\"lat\":50.87273172382932 , \"lon\": 4.590610254578612},\n",
    "                           mapbox_style=\"carto-positron\",\n",
    "                           title=\"Average Intervention Duration\",\n",
    "                           labels=labels,\n",
    "                        #    hover_data = hover_data,\n",
    "                           zoom=6.5)\n",
    "# fig.show()"
   ]
  },
  {
   "cell_type": "code",
   "execution_count": 38,
   "metadata": {},
   "outputs": [
    {
     "data": {
      "text/html": [
       "<div>\n",
       "<style scoped>\n",
       "    .dataframe tbody tr th:only-of-type {\n",
       "        vertical-align: middle;\n",
       "    }\n",
       "\n",
       "    .dataframe tbody tr th {\n",
       "        vertical-align: top;\n",
       "    }\n",
       "\n",
       "    .dataframe thead th {\n",
       "        text-align: right;\n",
       "    }\n",
       "</style>\n",
       "<table border=\"1\" class=\"dataframe\">\n",
       "  <thead>\n",
       "    <tr style=\"text-align: right;\">\n",
       "      <th></th>\n",
       "      <th>Province intervention</th>\n",
       "      <th>time_period</th>\n",
       "      <th>Intervention duration</th>\n",
       "    </tr>\n",
       "  </thead>\n",
       "  <tbody>\n",
       "    <tr>\n",
       "      <th>0</th>\n",
       "      <td>Antwerpen</td>\n",
       "      <td>Morning</td>\n",
       "      <td>59.048242</td>\n",
       "    </tr>\n",
       "    <tr>\n",
       "      <th>1</th>\n",
       "      <td>Antwerpen</td>\n",
       "      <td>Noon</td>\n",
       "      <td>57.250911</td>\n",
       "    </tr>\n",
       "    <tr>\n",
       "      <th>2</th>\n",
       "      <td>Antwerpen</td>\n",
       "      <td>Afternoon</td>\n",
       "      <td>57.899843</td>\n",
       "    </tr>\n",
       "    <tr>\n",
       "      <th>3</th>\n",
       "      <td>Antwerpen</td>\n",
       "      <td>Evening</td>\n",
       "      <td>58.420567</td>\n",
       "    </tr>\n",
       "    <tr>\n",
       "      <th>4</th>\n",
       "      <td>Antwerpen</td>\n",
       "      <td>Night</td>\n",
       "      <td>55.942440</td>\n",
       "    </tr>\n",
       "    <tr>\n",
       "      <th>5</th>\n",
       "      <td>Antwerpen</td>\n",
       "      <td>Midnight</td>\n",
       "      <td>56.220580</td>\n",
       "    </tr>\n",
       "    <tr>\n",
       "      <th>6</th>\n",
       "      <td>Brabant Wallon</td>\n",
       "      <td>Morning</td>\n",
       "      <td>60.582242</td>\n",
       "    </tr>\n",
       "    <tr>\n",
       "      <th>7</th>\n",
       "      <td>Brabant Wallon</td>\n",
       "      <td>Noon</td>\n",
       "      <td>60.824048</td>\n",
       "    </tr>\n",
       "    <tr>\n",
       "      <th>8</th>\n",
       "      <td>Brabant Wallon</td>\n",
       "      <td>Afternoon</td>\n",
       "      <td>61.517115</td>\n",
       "    </tr>\n",
       "    <tr>\n",
       "      <th>9</th>\n",
       "      <td>Brabant Wallon</td>\n",
       "      <td>Evening</td>\n",
       "      <td>61.397254</td>\n",
       "    </tr>\n",
       "    <tr>\n",
       "      <th>10</th>\n",
       "      <td>Brabant Wallon</td>\n",
       "      <td>Night</td>\n",
       "      <td>60.479196</td>\n",
       "    </tr>\n",
       "    <tr>\n",
       "      <th>11</th>\n",
       "      <td>Brabant Wallon</td>\n",
       "      <td>Midnight</td>\n",
       "      <td>58.209796</td>\n",
       "    </tr>\n",
       "    <tr>\n",
       "      <th>12</th>\n",
       "      <td>Bruxelles-Brussel</td>\n",
       "      <td>Morning</td>\n",
       "      <td>52.866010</td>\n",
       "    </tr>\n",
       "    <tr>\n",
       "      <th>13</th>\n",
       "      <td>Bruxelles-Brussel</td>\n",
       "      <td>Noon</td>\n",
       "      <td>51.436569</td>\n",
       "    </tr>\n",
       "    <tr>\n",
       "      <th>14</th>\n",
       "      <td>Bruxelles-Brussel</td>\n",
       "      <td>Afternoon</td>\n",
       "      <td>53.299428</td>\n",
       "    </tr>\n",
       "    <tr>\n",
       "      <th>15</th>\n",
       "      <td>Bruxelles-Brussel</td>\n",
       "      <td>Evening</td>\n",
       "      <td>52.206182</td>\n",
       "    </tr>\n",
       "    <tr>\n",
       "      <th>16</th>\n",
       "      <td>Bruxelles-Brussel</td>\n",
       "      <td>Night</td>\n",
       "      <td>50.114319</td>\n",
       "    </tr>\n",
       "    <tr>\n",
       "      <th>17</th>\n",
       "      <td>Bruxelles-Brussel</td>\n",
       "      <td>Midnight</td>\n",
       "      <td>48.174917</td>\n",
       "    </tr>\n",
       "    <tr>\n",
       "      <th>18</th>\n",
       "      <td>Hainaut</td>\n",
       "      <td>Morning</td>\n",
       "      <td>57.971012</td>\n",
       "    </tr>\n",
       "    <tr>\n",
       "      <th>19</th>\n",
       "      <td>Hainaut</td>\n",
       "      <td>Noon</td>\n",
       "      <td>57.059406</td>\n",
       "    </tr>\n",
       "    <tr>\n",
       "      <th>20</th>\n",
       "      <td>Hainaut</td>\n",
       "      <td>Afternoon</td>\n",
       "      <td>58.471239</td>\n",
       "    </tr>\n",
       "    <tr>\n",
       "      <th>21</th>\n",
       "      <td>Hainaut</td>\n",
       "      <td>Evening</td>\n",
       "      <td>57.444444</td>\n",
       "    </tr>\n",
       "    <tr>\n",
       "      <th>22</th>\n",
       "      <td>Hainaut</td>\n",
       "      <td>Night</td>\n",
       "      <td>56.783756</td>\n",
       "    </tr>\n",
       "    <tr>\n",
       "      <th>23</th>\n",
       "      <td>Hainaut</td>\n",
       "      <td>Midnight</td>\n",
       "      <td>55.530421</td>\n",
       "    </tr>\n",
       "    <tr>\n",
       "      <th>24</th>\n",
       "      <td>Limburg</td>\n",
       "      <td>Morning</td>\n",
       "      <td>60.505199</td>\n",
       "    </tr>\n",
       "    <tr>\n",
       "      <th>25</th>\n",
       "      <td>Limburg</td>\n",
       "      <td>Noon</td>\n",
       "      <td>60.689808</td>\n",
       "    </tr>\n",
       "    <tr>\n",
       "      <th>26</th>\n",
       "      <td>Limburg</td>\n",
       "      <td>Afternoon</td>\n",
       "      <td>61.275133</td>\n",
       "    </tr>\n",
       "    <tr>\n",
       "      <th>27</th>\n",
       "      <td>Limburg</td>\n",
       "      <td>Evening</td>\n",
       "      <td>60.742746</td>\n",
       "    </tr>\n",
       "    <tr>\n",
       "      <th>28</th>\n",
       "      <td>Limburg</td>\n",
       "      <td>Night</td>\n",
       "      <td>60.369967</td>\n",
       "    </tr>\n",
       "    <tr>\n",
       "      <th>29</th>\n",
       "      <td>Limburg</td>\n",
       "      <td>Midnight</td>\n",
       "      <td>59.865909</td>\n",
       "    </tr>\n",
       "    <tr>\n",
       "      <th>30</th>\n",
       "      <td>Liège</td>\n",
       "      <td>Morning</td>\n",
       "      <td>55.784165</td>\n",
       "    </tr>\n",
       "    <tr>\n",
       "      <th>31</th>\n",
       "      <td>Liège</td>\n",
       "      <td>Noon</td>\n",
       "      <td>55.710863</td>\n",
       "    </tr>\n",
       "    <tr>\n",
       "      <th>32</th>\n",
       "      <td>Liège</td>\n",
       "      <td>Afternoon</td>\n",
       "      <td>55.839464</td>\n",
       "    </tr>\n",
       "    <tr>\n",
       "      <th>33</th>\n",
       "      <td>Liège</td>\n",
       "      <td>Evening</td>\n",
       "      <td>55.631125</td>\n",
       "    </tr>\n",
       "    <tr>\n",
       "      <th>34</th>\n",
       "      <td>Liège</td>\n",
       "      <td>Night</td>\n",
       "      <td>54.555438</td>\n",
       "    </tr>\n",
       "    <tr>\n",
       "      <th>35</th>\n",
       "      <td>Liège</td>\n",
       "      <td>Midnight</td>\n",
       "      <td>53.472568</td>\n",
       "    </tr>\n",
       "    <tr>\n",
       "      <th>36</th>\n",
       "      <td>Luxembourg</td>\n",
       "      <td>Morning</td>\n",
       "      <td>64.256750</td>\n",
       "    </tr>\n",
       "    <tr>\n",
       "      <th>37</th>\n",
       "      <td>Luxembourg</td>\n",
       "      <td>Noon</td>\n",
       "      <td>64.029583</td>\n",
       "    </tr>\n",
       "    <tr>\n",
       "      <th>38</th>\n",
       "      <td>Luxembourg</td>\n",
       "      <td>Afternoon</td>\n",
       "      <td>64.915291</td>\n",
       "    </tr>\n",
       "    <tr>\n",
       "      <th>39</th>\n",
       "      <td>Luxembourg</td>\n",
       "      <td>Evening</td>\n",
       "      <td>65.033882</td>\n",
       "    </tr>\n",
       "    <tr>\n",
       "      <th>40</th>\n",
       "      <td>Luxembourg</td>\n",
       "      <td>Night</td>\n",
       "      <td>68.010504</td>\n",
       "    </tr>\n",
       "    <tr>\n",
       "      <th>41</th>\n",
       "      <td>Luxembourg</td>\n",
       "      <td>Midnight</td>\n",
       "      <td>67.738950</td>\n",
       "    </tr>\n",
       "    <tr>\n",
       "      <th>42</th>\n",
       "      <td>Namur</td>\n",
       "      <td>Morning</td>\n",
       "      <td>59.953959</td>\n",
       "    </tr>\n",
       "    <tr>\n",
       "      <th>43</th>\n",
       "      <td>Namur</td>\n",
       "      <td>Noon</td>\n",
       "      <td>58.786683</td>\n",
       "    </tr>\n",
       "    <tr>\n",
       "      <th>44</th>\n",
       "      <td>Namur</td>\n",
       "      <td>Afternoon</td>\n",
       "      <td>59.212340</td>\n",
       "    </tr>\n",
       "    <tr>\n",
       "      <th>45</th>\n",
       "      <td>Namur</td>\n",
       "      <td>Evening</td>\n",
       "      <td>58.775947</td>\n",
       "    </tr>\n",
       "    <tr>\n",
       "      <th>46</th>\n",
       "      <td>Namur</td>\n",
       "      <td>Night</td>\n",
       "      <td>58.100025</td>\n",
       "    </tr>\n",
       "    <tr>\n",
       "      <th>47</th>\n",
       "      <td>Namur</td>\n",
       "      <td>Midnight</td>\n",
       "      <td>59.156752</td>\n",
       "    </tr>\n",
       "  </tbody>\n",
       "</table>\n",
       "</div>"
      ],
      "text/plain": [
       "   Province intervention time_period  Intervention duration\n",
       "0              Antwerpen     Morning              59.048242\n",
       "1              Antwerpen        Noon              57.250911\n",
       "2              Antwerpen   Afternoon              57.899843\n",
       "3              Antwerpen     Evening              58.420567\n",
       "4              Antwerpen       Night              55.942440\n",
       "5              Antwerpen    Midnight              56.220580\n",
       "6         Brabant Wallon     Morning              60.582242\n",
       "7         Brabant Wallon        Noon              60.824048\n",
       "8         Brabant Wallon   Afternoon              61.517115\n",
       "9         Brabant Wallon     Evening              61.397254\n",
       "10        Brabant Wallon       Night              60.479196\n",
       "11        Brabant Wallon    Midnight              58.209796\n",
       "12     Bruxelles-Brussel     Morning              52.866010\n",
       "13     Bruxelles-Brussel        Noon              51.436569\n",
       "14     Bruxelles-Brussel   Afternoon              53.299428\n",
       "15     Bruxelles-Brussel     Evening              52.206182\n",
       "16     Bruxelles-Brussel       Night              50.114319\n",
       "17     Bruxelles-Brussel    Midnight              48.174917\n",
       "18               Hainaut     Morning              57.971012\n",
       "19               Hainaut        Noon              57.059406\n",
       "20               Hainaut   Afternoon              58.471239\n",
       "21               Hainaut     Evening              57.444444\n",
       "22               Hainaut       Night              56.783756\n",
       "23               Hainaut    Midnight              55.530421\n",
       "24               Limburg     Morning              60.505199\n",
       "25               Limburg        Noon              60.689808\n",
       "26               Limburg   Afternoon              61.275133\n",
       "27               Limburg     Evening              60.742746\n",
       "28               Limburg       Night              60.369967\n",
       "29               Limburg    Midnight              59.865909\n",
       "30                 Liège     Morning              55.784165\n",
       "31                 Liège        Noon              55.710863\n",
       "32                 Liège   Afternoon              55.839464\n",
       "33                 Liège     Evening              55.631125\n",
       "34                 Liège       Night              54.555438\n",
       "35                 Liège    Midnight              53.472568\n",
       "36            Luxembourg     Morning              64.256750\n",
       "37            Luxembourg        Noon              64.029583\n",
       "38            Luxembourg   Afternoon              64.915291\n",
       "39            Luxembourg     Evening              65.033882\n",
       "40            Luxembourg       Night              68.010504\n",
       "41            Luxembourg    Midnight              67.738950\n",
       "42                 Namur     Morning              59.953959\n",
       "43                 Namur        Noon              58.786683\n",
       "44                 Namur   Afternoon              59.212340\n",
       "45                 Namur     Evening              58.775947\n",
       "46                 Namur       Night              58.100025\n",
       "47                 Namur    Midnight              59.156752"
      ]
     },
     "execution_count": 38,
     "metadata": {},
     "output_type": "execute_result"
    }
   ],
   "source": [
    "interventions_risk_line = interventions_risk.groupby([\"Province intervention\",\"time_period\"])[\"Intervention duration\"].mean().to_frame().reset_index()\n",
    "old_to_new_name = {\"ANT\":\"Antwerpen\",\"BRW\":\"Brabant Wallon\",\"BXL\":\"Bruxelles-Brussel\",\"HAI\":\"Hainaut\",\"LIE\":\"Liège\",\"LIM\":\"Limburg\",\"LUX\":\"Luxembourg\",\"NAM\":\"Namur\"}\n",
    "interventions_risk_line['Province intervention'] = interventions_risk_line['Province intervention'].replace(old_to_new_name)\n",
    "\n",
    "\n",
    "order = ['morning', 'noon', 'afternoon', 'evening', 'night', 'midnight']\n",
    "interventions_risk_line['time_period'] = pd.Categorical(interventions_risk_line['time_period'], categories=order, ordered=True)\n",
    "interventions_risk_line = interventions_risk_line.sort_values(['Province intervention', 'time_period']).reset_index(drop=True)\n",
    "interventions_risk_line[\"time_period\"] = interventions_risk_line[\"time_period\"].apply(lambda x: x.capitalize())\n",
    "interventions_risk_line\n",
    "\n",
    "\n",
    "\n",
    "# interventions_risk_line"
   ]
  },
  {
   "cell_type": "code",
   "execution_count": 39,
   "metadata": {},
   "outputs": [],
   "source": [
    "labels = {\"time_period\":\"Time of Day\", \"Province intervention\":\"Province Name\", \"Intervention duration\":\"Duration of Intervention\"}\n",
    "\n",
    "fig = px.line(interventions_risk_line, x=\"time_period\", \n",
    "              y=\"Intervention duration\", \n",
    "              color='Province intervention', \n",
    "              labels=labels, \n",
    "              title=\"Duration of Intervention per Time of Day for each Province\")\n",
    "# fig.show()"
   ]
  },
  {
   "cell_type": "code",
   "execution_count": null,
   "metadata": {},
   "outputs": [],
   "source": []
  },
  {
   "cell_type": "code",
   "execution_count": null,
   "metadata": {},
   "outputs": [],
   "source": []
  },
  {
   "cell_type": "code",
   "execution_count": null,
   "metadata": {},
   "outputs": [],
   "source": []
  },
  {
   "cell_type": "markdown",
   "metadata": {},
   "source": [
    "# Intervention Duration per Province CholorPleth"
   ]
  },
  {
   "cell_type": "code",
   "execution_count": 40,
   "metadata": {},
   "outputs": [],
   "source": [
    "interventions_combined = pd.read_csv(r\"C:\\KU Leuven\\Modern Data Analytics - MDA\\MDA Project\\MDA\\Created CSV Files\\Interventions_combined_pre_preprocessing.csv\", index_col=False)"
   ]
  },
  {
   "cell_type": "code",
   "execution_count": 34,
   "metadata": {},
   "outputs": [
    {
     "data": {
      "text/html": [
       "<div>\n",
       "<style scoped>\n",
       "    .dataframe tbody tr th:only-of-type {\n",
       "        vertical-align: middle;\n",
       "    }\n",
       "\n",
       "    .dataframe tbody tr th {\n",
       "        vertical-align: top;\n",
       "    }\n",
       "\n",
       "    .dataframe thead th {\n",
       "        text-align: right;\n",
       "    }\n",
       "</style>\n",
       "<table border=\"1\" class=\"dataframe\">\n",
       "  <thead>\n",
       "    <tr style=\"text-align: right;\">\n",
       "      <th></th>\n",
       "      <th>Mission ID</th>\n",
       "      <th>Service Name</th>\n",
       "      <th>Vector type</th>\n",
       "      <th>Latitude permanence</th>\n",
       "      <th>Longitude permanence</th>\n",
       "      <th>EventLevel Trip</th>\n",
       "      <th>Latitude intervention</th>\n",
       "      <th>Longitude intervention</th>\n",
       "      <th>Province intervention</th>\n",
       "      <th>T0</th>\n",
       "      <th>Intervention duration</th>\n",
       "      <th>Calculated Distance destination</th>\n",
       "      <th>Abandon reason</th>\n",
       "      <th>distance_to_intervention</th>\n",
       "    </tr>\n",
       "  </thead>\n",
       "  <tbody>\n",
       "    <tr>\n",
       "      <th>0</th>\n",
       "      <td>10221520001</td>\n",
       "      <td>HA UR MECH AZ St Maarten</td>\n",
       "      <td>Ambulance</td>\n",
       "      <td>51.051020</td>\n",
       "      <td>4.478030</td>\n",
       "      <td>N5</td>\n",
       "      <td>51.12496</td>\n",
       "      <td>4.57408</td>\n",
       "      <td>ANT</td>\n",
       "      <td>0</td>\n",
       "      <td>27.0</td>\n",
       "      <td>NaN</td>\n",
       "      <td>Verzorgd ter plaatse</td>\n",
       "      <td>16912.680256</td>\n",
       "    </tr>\n",
       "    <tr>\n",
       "      <th>1</th>\n",
       "      <td>10221520002</td>\n",
       "      <td>BA KAPE AMBUCE</td>\n",
       "      <td>Ambulance</td>\n",
       "      <td>51.312075</td>\n",
       "      <td>4.424398</td>\n",
       "      <td>N5</td>\n",
       "      <td>51.30626</td>\n",
       "      <td>4.40502</td>\n",
       "      <td>ANT</td>\n",
       "      <td>0</td>\n",
       "      <td>65.0</td>\n",
       "      <td>11743.0</td>\n",
       "      <td>NaN</td>\n",
       "      <td>2392.864995</td>\n",
       "    </tr>\n",
       "    <tr>\n",
       "      <th>2</th>\n",
       "      <td>10221520002</td>\n",
       "      <td>HA UR ANTW Stuivenberg</td>\n",
       "      <td>MUG</td>\n",
       "      <td>51.222490</td>\n",
       "      <td>4.436290</td>\n",
       "      <td>N1</td>\n",
       "      <td>51.30626</td>\n",
       "      <td>4.40502</td>\n",
       "      <td>ANT</td>\n",
       "      <td>0</td>\n",
       "      <td>63.0</td>\n",
       "      <td>NaN</td>\n",
       "      <td>NaN</td>\n",
       "      <td>15304.158090</td>\n",
       "    </tr>\n",
       "    <tr>\n",
       "      <th>3</th>\n",
       "      <td>10221520004</td>\n",
       "      <td>BA ANTW [Borgerhout] AMBUCE</td>\n",
       "      <td>Ambulance</td>\n",
       "      <td>51.215620</td>\n",
       "      <td>4.443920</td>\n",
       "      <td>N5</td>\n",
       "      <td>51.23878</td>\n",
       "      <td>4.44533</td>\n",
       "      <td>ANT</td>\n",
       "      <td>0</td>\n",
       "      <td>32.0</td>\n",
       "      <td>NaN</td>\n",
       "      <td>Zonder patient</td>\n",
       "      <td>4119.919266</td>\n",
       "    </tr>\n",
       "    <tr>\n",
       "      <th>4</th>\n",
       "      <td>10221520005</td>\n",
       "      <td>BA WIJN AMBUCE</td>\n",
       "      <td>Ambulance</td>\n",
       "      <td>51.233550</td>\n",
       "      <td>4.493180</td>\n",
       "      <td>N5</td>\n",
       "      <td>51.25071</td>\n",
       "      <td>4.51299</td>\n",
       "      <td>ANT</td>\n",
       "      <td>0</td>\n",
       "      <td>73.0</td>\n",
       "      <td>5468.0</td>\n",
       "      <td>NaN</td>\n",
       "      <td>3764.818173</td>\n",
       "    </tr>\n",
       "  </tbody>\n",
       "</table>\n",
       "</div>"
      ],
      "text/plain": [
       "    Mission ID                 Service Name Vector type  Latitude permanence  \\\n",
       "0  10221520001     HA UR MECH AZ St Maarten   Ambulance            51.051020   \n",
       "1  10221520002               BA KAPE AMBUCE   Ambulance            51.312075   \n",
       "2  10221520002       HA UR ANTW Stuivenberg         MUG            51.222490   \n",
       "3  10221520004  BA ANTW [Borgerhout] AMBUCE   Ambulance            51.215620   \n",
       "4  10221520005               BA WIJN AMBUCE   Ambulance            51.233550   \n",
       "\n",
       "   Longitude permanence EventLevel Trip  Latitude intervention  \\\n",
       "0              4.478030              N5               51.12496   \n",
       "1              4.424398              N5               51.30626   \n",
       "2              4.436290              N1               51.30626   \n",
       "3              4.443920              N5               51.23878   \n",
       "4              4.493180              N5               51.25071   \n",
       "\n",
       "   Longitude intervention Province intervention  T0  Intervention duration  \\\n",
       "0                 4.57408                   ANT   0                   27.0   \n",
       "1                 4.40502                   ANT   0                   65.0   \n",
       "2                 4.40502                   ANT   0                   63.0   \n",
       "3                 4.44533                   ANT   0                   32.0   \n",
       "4                 4.51299                   ANT   0                   73.0   \n",
       "\n",
       "   Calculated Distance destination        Abandon reason  \\\n",
       "0                              NaN  Verzorgd ter plaatse   \n",
       "1                          11743.0                   NaN   \n",
       "2                              NaN                   NaN   \n",
       "3                              NaN        Zonder patient   \n",
       "4                           5468.0                   NaN   \n",
       "\n",
       "   distance_to_intervention  \n",
       "0              16912.680256  \n",
       "1               2392.864995  \n",
       "2              15304.158090  \n",
       "3               4119.919266  \n",
       "4               3764.818173  "
      ]
     },
     "execution_count": 34,
     "metadata": {},
     "output_type": "execute_result"
    }
   ],
   "source": [
    "interventions_combined.head()"
   ]
  },
  {
   "cell_type": "code",
   "execution_count": 41,
   "metadata": {},
   "outputs": [
    {
     "data": {
      "text/plain": [
       "Province intervention\n",
       "HAI    0.209486\n",
       "ANT    0.198129\n",
       "BXL    0.161174\n",
       "LIE    0.155339\n",
       "LIM    0.094157\n",
       "NAM    0.080499\n",
       "BRW    0.048122\n",
       "LUX    0.043954\n",
       "WVL    0.009133\n",
       "VBR    0.000007\n",
       "OVL    0.000001\n",
       "Name: proportion, dtype: float64"
      ]
     },
     "execution_count": 41,
     "metadata": {},
     "output_type": "execute_result"
    }
   ],
   "source": [
    "interventions_combined[\"Province intervention\"].value_counts(normalize=True)"
   ]
  },
  {
   "cell_type": "code",
   "execution_count": 42,
   "metadata": {},
   "outputs": [],
   "source": [
    "class preprocessing:\n",
    "    def __init__(self, dataset):\n",
    "        self.dataset = dataset[(dataset[\"Vector type\"] != \"Brandziekenwagen\") & (dataset[\"Vector type\"] != \"Decontanimatieziekenwagen\")] \n",
    "        self.dataset_2 = dataset[(dataset[\"Vector type\"] != \"Brandziekenwagen\") & (dataset[\"Vector type\"] != \"Decontanimatieziekenwagen\")] \n",
    "        self.vector_names = {('Ambulance Event','Ambulance Exceptional','Ambulance Disaster','Ambulance'):'Ambulance',\n",
    "                    ('MUG Disaster','MUG Event','MUG'):'MUG',\n",
    "                    ('PIT Disaster','PIT Event','PIT'):'PIT'}\n",
    "\n",
    "        self.periods = {\n",
    "           (8,9,10): 'morning',\n",
    "           (11,12,13): 'noon',\n",
    "           (14,15,16): 'afternoon',\n",
    "           (17,18,19): 'evening',\n",
    "           (20,21,22,23): 'night',\n",
    "           (0,1,2,3,4,5,6,7): 'midnight'}\n",
    "        \n",
    "\n",
    "\n",
    "        self.rush_periods = {\"morning\":True,\"noon\":False,\"afternoon\":False,\"evening\":True,\"night\":False,\"midnight\":False}\n",
    "\n",
    "        \n",
    "        self.province_to_region = {('ANT','WVL','LIM'):\"Vlaams Gewest\",(\"BRW\",\"HAI\",\"LIE\",\"LUX\",\"NAM\"):\"Waals Gewest\",(\"BXL\"):\"Brussel\"}\n",
    "\n",
    "\n",
    "\n",
    "    def preprocess(self):\n",
    "\n",
    "        self.dataset[\"Vector type\"] = self.dataset[\"Vector type\"].apply(self.clean_ambulance)\n",
    "\n",
    "        self.duplicates()\n",
    "\n",
    "        self.dataset[\"Abandoned\"] = self.dataset[\"Abandon reason\"].apply(self.tranform_abandon)\n",
    "\n",
    "        self.dataset.drop([\"Latitude permanence\",\"Longitude permanence\",\"Latitude intervention\",\"Longitude intervention\",\"Abandon reason\"],axis=1, inplace=True)\n",
    "        self.dataset.dropna(inplace=True)\n",
    "\n",
    "        self.dataset['time_period'] =  self.dataset['T0'].apply(self.map_to_period)\n",
    "\n",
    "        # self.dataset[\"rush_hour\"] = self.dataset[\"time_period\"].apply(self.time_to_rush)\n",
    "\n",
    "        counts = self.dataset[\"EventLevel Trip\"].value_counts()\n",
    "        mask = self.dataset[\"EventLevel Trip\"].isin(counts[counts < 190942].index)\n",
    "        self.dataset[\"EventLevel Trip\"][mask] = 'Other'\n",
    "\n",
    "        # self.dataset[\"Region\"] = self.dataset[\"Province intervention\"].apply(self.create_region)\n",
    "\n",
    "        self.dataset[\"total_intervention_distance\"] = self.dataset[\"distance_to_intervention\"] + self.dataset[\"Calculated Distance destination\"]\n",
    "\n",
    "        # enc = LabelEncoder()\n",
    "\n",
    "        # self.dataset[\"Abandoned\"] = enc.fit_transform(self.dataset[\"Abandoned\"])\n",
    "\n",
    "\n",
    "        # numeric_columns = self.dataset.select_dtypes(include=np.number)\n",
    "\n",
    "\n",
    "        # rows_with_infinite_values = self.dataset[~np.isfinite(numeric_columns).all(axis=1)]\n",
    "\n",
    "\n",
    "        # self.dataset = self.dataset.drop(rows_with_infinite_values.index)\n",
    "\n",
    "        # self.percentile_075 = np.percentile(self.dataset[\"Intervention duration\"], 75)\n",
    "\n",
    "        # self.dataset[\"Risky\"] = self.dataset[\"Intervention duration\"].apply(self.binarize)\n",
    "\n",
    "        return self.dataset\n",
    "\n",
    "\n",
    "        \n",
    "\n",
    "    def clean_ambulance(self,text):\n",
    "        for key,value in self.vector_names.items():\n",
    "            if text in key:\n",
    "                return value\n",
    "            \n",
    "    def tranform_abandon(self,reason):\n",
    "       if reason == \"Error\":\n",
    "           return None\n",
    "       elif reason == None:\n",
    "           return False\n",
    "       else:\n",
    "            return True \n",
    "       \n",
    "       \n",
    "    def map_to_period(self,time):\n",
    "       for period_range in self.periods.keys():\n",
    "        if time in period_range:\n",
    "            return self.periods[period_range]\n",
    "        \n",
    "    def time_to_rush(self,period):\n",
    "        return self.rush_periods[period]\n",
    "    \n",
    "    def create_region(self,province_name):\n",
    "       for names in self.province_to_region.keys():\n",
    "           if province_name in names:\n",
    "               return self.province_to_region[names]\n",
    "           \n",
    "    def duplicates(self):\n",
    "        self.dataset.drop_duplicates([\"Mission ID\",\"Service Name\",\"Vector type\"], inplace=True)\n",
    "        self.dataset = self.dataset.sort_values(\"Vector type\", ascending=False)\n",
    "        self.dataset.drop_duplicates([\"Mission ID\",\"Service Name\"], keep=\"first\", inplace=True)\n",
    "\n",
    "    def missing_values_plot(self):\n",
    "        missing_values = self.dataset_2.isna().sum() / self.dataset_2.shape[0]\n",
    "        missing_values = missing_values.to_frame().reset_index()\n",
    "        missing_values.columns = [\"Feature\",\"Missing\"]\n",
    "        \n",
    "        plt.style.use(\"seaborn-v0_8\")\n",
    "\n",
    "        fig, ax = plt.subplots()\n",
    "\n",
    "        ax.bar(missing_values[\"Feature\"], missing_values[\"Missing\"])\n",
    "\n",
    "        ax.set_xticklabels(missing_values[\"Feature\"], rotation=90)\n",
    "\n",
    "        ax.set_title(\"Missing Values per Feature\")\n",
    "        ax.set_xlabel(\"Features\")\n",
    "        ax.set_ylabel(\"Percentage of Missing Values\")\n",
    "\n",
    "\n",
    "        plt.show()\n",
    "\n",
    "    def event_level_plot(self):\n",
    "        event_level = self.dataset_2[\"EventLevel Trip\"].value_counts().to_frame().reset_index()\n",
    "        event_level.columns = [\"EventLevel\",\"Count\"]\n",
    "\n",
    "        plt.style.use(\"seaborn-v0_8\")\n",
    "\n",
    "        fig, ax = plt.subplots()\n",
    "\n",
    "        ax.bar(event_level[\"EventLevel\"], event_level[\"Count\"])\n",
    "\n",
    "        ax.set_title(\"Event Level Counts\")\n",
    "        ax.set_xlabel(\"Event\")\n",
    "        ax.set_ylabel(\"Frequency\")\n",
    "\n",
    "\n",
    "        plt.show()\n",
    "\n",
    "    def class_imbalance(self):\n",
    "        safety_imbalance = self.dataset[\"Risky\"].value_counts().to_frame().reset_index()\n",
    "\n",
    "        plt.style.use(\"seaborn-v0_8\")\n",
    "\n",
    "        fig, ax = plt.subplots()\n",
    "\n",
    "        ax.bar(safety_imbalance[\"Risky\"], safety_imbalance[\"count\"])\n",
    "\n",
    "        ax.set_title(\"Class Imbalance\")\n",
    "        ax.set_xlabel(\"Risky\")\n",
    "        ax.set_ylabel(\"Frequency\")\n",
    "        ax.set_xticks([0, 1])\n",
    "        # ax.set_ylim(0, 5000)\n",
    "\n",
    "\n",
    "        plt.show()\n",
    "\n",
    "    def binarize(self,value):\n",
    "       if value < self.percentile_075:\n",
    "           return 0\n",
    "       else:\n",
    "           return 1"
   ]
  },
  {
   "cell_type": "code",
   "execution_count": 38,
   "metadata": {},
   "outputs": [
    {
     "name": "stderr",
     "output_type": "stream",
     "text": [
      "C:\\Users\\Johnn\\AppData\\Local\\Temp\\ipykernel_30836\\2887745185.py:28: SettingWithCopyWarning:\n",
      "\n",
      "\n",
      "A value is trying to be set on a copy of a slice from a DataFrame.\n",
      "Try using .loc[row_indexer,col_indexer] = value instead\n",
      "\n",
      "See the caveats in the documentation: https://pandas.pydata.org/pandas-docs/stable/user_guide/indexing.html#returning-a-view-versus-a-copy\n",
      "\n",
      "C:\\Users\\Johnn\\AppData\\Local\\Temp\\ipykernel_30836\\2887745185.py:99: SettingWithCopyWarning:\n",
      "\n",
      "\n",
      "A value is trying to be set on a copy of a slice from a DataFrame\n",
      "\n",
      "See the caveats in the documentation: https://pandas.pydata.org/pandas-docs/stable/user_guide/indexing.html#returning-a-view-versus-a-copy\n",
      "\n",
      "C:\\Users\\Johnn\\AppData\\Local\\Temp\\ipykernel_30836\\2887745185.py:43: FutureWarning:\n",
      "\n",
      "ChainedAssignmentError: behaviour will change in pandas 3.0!\n",
      "You are setting values through chained assignment. Currently this works in certain cases, but when using Copy-on-Write (which will become the default behaviour in pandas 3.0) this will never work to update the original DataFrame or Series, because the intermediate object on which we are setting values will behave as a copy.\n",
      "A typical example is when you are setting values in a column of a DataFrame, like:\n",
      "\n",
      "df[\"col\"][row_indexer] = value\n",
      "\n",
      "Use `df.loc[row_indexer, \"col\"] = values` instead, to perform the assignment in a single step and ensure this keeps updating the original `df`.\n",
      "\n",
      "See the caveats in the documentation: https://pandas.pydata.org/pandas-docs/stable/user_guide/indexing.html#returning-a-view-versus-a-copy\n",
      "\n",
      "\n",
      "C:\\Users\\Johnn\\AppData\\Local\\Temp\\ipykernel_30836\\2887745185.py:43: SettingWithCopyWarning:\n",
      "\n",
      "\n",
      "A value is trying to be set on a copy of a slice from a DataFrame\n",
      "\n",
      "See the caveats in the documentation: https://pandas.pydata.org/pandas-docs/stable/user_guide/indexing.html#returning-a-view-versus-a-copy\n",
      "\n"
     ]
    }
   ],
   "source": [
    "preprocess_1 = preprocessing(interventions_combined)\n",
    "interventions_combined = preprocess_1.preprocess()"
   ]
  },
  {
   "cell_type": "code",
   "execution_count": 39,
   "metadata": {},
   "outputs": [
    {
     "data": {
      "text/plain": [
       "Province intervention\n",
       "HAI    0.210456\n",
       "ANT    0.192545\n",
       "LIE    0.164640\n",
       "BXL    0.126471\n",
       "LIM    0.101251\n",
       "NAM    0.099392\n",
       "BRW    0.056151\n",
       "LUX    0.048891\n",
       "WVL    0.000203\n",
       "Name: proportion, dtype: float64"
      ]
     },
     "execution_count": 39,
     "metadata": {},
     "output_type": "execute_result"
    }
   ],
   "source": [
    "interventions_combined[\"Province intervention\"].value_counts(normalize=True)"
   ]
  },
  {
   "cell_type": "code",
   "execution_count": 40,
   "metadata": {},
   "outputs": [
    {
     "data": {
      "text/plain": [
       "Mission ID                         0\n",
       "Service Name                       0\n",
       "Vector type                        0\n",
       "EventLevel Trip                    0\n",
       "Province intervention              0\n",
       "T0                                 0\n",
       "Intervention duration              0\n",
       "Calculated Distance destination    0\n",
       "distance_to_intervention           0\n",
       "Abandoned                          0\n",
       "time_period                        0\n",
       "total_intervention_distance        0\n",
       "dtype: int64"
      ]
     },
     "execution_count": 40,
     "metadata": {},
     "output_type": "execute_result"
    }
   ],
   "source": [
    "interventions_combined.isna().sum()"
   ]
  },
  {
   "cell_type": "code",
   "execution_count": 55,
   "metadata": {},
   "outputs": [
    {
     "data": {
      "text/plain": [
       "Province intervention\n",
       "HAI    0.210233\n",
       "ANT    0.192538\n",
       "LIE    0.164781\n",
       "BXL    0.126669\n",
       "LIM    0.101236\n",
       "NAM    0.099378\n",
       "BRW    0.056232\n",
       "LUX    0.048933\n",
       "Name: proportion, dtype: float64"
      ]
     },
     "execution_count": 55,
     "metadata": {},
     "output_type": "execute_result"
    }
   ],
   "source": [
    "interventions_risk[\"Province intervention\"].value_counts(normalize=True)"
   ]
  },
  {
   "cell_type": "code",
   "execution_count": 56,
   "metadata": {},
   "outputs": [
    {
     "data": {
      "text/html": [
       "<div>\n",
       "<style scoped>\n",
       "    .dataframe tbody tr th:only-of-type {\n",
       "        vertical-align: middle;\n",
       "    }\n",
       "\n",
       "    .dataframe tbody tr th {\n",
       "        vertical-align: top;\n",
       "    }\n",
       "\n",
       "    .dataframe thead th {\n",
       "        text-align: right;\n",
       "    }\n",
       "</style>\n",
       "<table border=\"1\" class=\"dataframe\">\n",
       "  <thead>\n",
       "    <tr style=\"text-align: right;\">\n",
       "      <th></th>\n",
       "      <th>Mission ID</th>\n",
       "      <th>Service Name</th>\n",
       "      <th>Vector type</th>\n",
       "      <th>EventLevel Trip</th>\n",
       "      <th>Province intervention</th>\n",
       "      <th>T0</th>\n",
       "      <th>Intervention duration</th>\n",
       "      <th>Calculated Distance destination</th>\n",
       "      <th>distance_to_intervention</th>\n",
       "      <th>Abandoned</th>\n",
       "      <th>time_period</th>\n",
       "      <th>rush_hour</th>\n",
       "      <th>Region</th>\n",
       "      <th>total_intervention_distance</th>\n",
       "      <th>Risky</th>\n",
       "      <th>Probability_Risk</th>\n",
       "    </tr>\n",
       "  </thead>\n",
       "  <tbody>\n",
       "    <tr>\n",
       "      <th>0</th>\n",
       "      <td>20223420107</td>\n",
       "      <td>HB UR BRUX Iris Sud Etterbeek (PIT)</td>\n",
       "      <td>PIT</td>\n",
       "      <td>N5</td>\n",
       "      <td>BXL</td>\n",
       "      <td>10</td>\n",
       "      <td>84.0</td>\n",
       "      <td>1418.0</td>\n",
       "      <td>5540.210104</td>\n",
       "      <td>0</td>\n",
       "      <td>morning</td>\n",
       "      <td>True</td>\n",
       "      <td>Brussel</td>\n",
       "      <td>6958.210104</td>\n",
       "      <td>1</td>\n",
       "      <td>0.109268</td>\n",
       "    </tr>\n",
       "    <tr>\n",
       "      <th>1</th>\n",
       "      <td>20223390102</td>\n",
       "      <td>HB UR BRUX CHU ST-PIERRE (PIT)</td>\n",
       "      <td>PIT</td>\n",
       "      <td>N5</td>\n",
       "      <td>BXL</td>\n",
       "      <td>9</td>\n",
       "      <td>43.0</td>\n",
       "      <td>1945.0</td>\n",
       "      <td>1338.543238</td>\n",
       "      <td>0</td>\n",
       "      <td>morning</td>\n",
       "      <td>True</td>\n",
       "      <td>Brussel</td>\n",
       "      <td>3283.543238</td>\n",
       "      <td>0</td>\n",
       "      <td>0.102999</td>\n",
       "    </tr>\n",
       "    <tr>\n",
       "      <th>2</th>\n",
       "      <td>20230880237</td>\n",
       "      <td>HB UR BRUX Iris Sud Etterbeek (PIT)</td>\n",
       "      <td>PIT</td>\n",
       "      <td>Other</td>\n",
       "      <td>BXL</td>\n",
       "      <td>18</td>\n",
       "      <td>32.0</td>\n",
       "      <td>2249.0</td>\n",
       "      <td>5102.633242</td>\n",
       "      <td>0</td>\n",
       "      <td>evening</td>\n",
       "      <td>True</td>\n",
       "      <td>Brussel</td>\n",
       "      <td>7351.633242</td>\n",
       "      <td>0</td>\n",
       "      <td>0.173590</td>\n",
       "    </tr>\n",
       "    <tr>\n",
       "      <th>3</th>\n",
       "      <td>60222810138</td>\n",
       "      <td>HG UR LIEG CHR Citadelle | PIT</td>\n",
       "      <td>PIT</td>\n",
       "      <td>Other</td>\n",
       "      <td>LIE</td>\n",
       "      <td>11</td>\n",
       "      <td>71.0</td>\n",
       "      <td>4514.0</td>\n",
       "      <td>3762.203850</td>\n",
       "      <td>0</td>\n",
       "      <td>noon</td>\n",
       "      <td>False</td>\n",
       "      <td>Waals Gewest</td>\n",
       "      <td>8276.203850</td>\n",
       "      <td>1</td>\n",
       "      <td>0.204706</td>\n",
       "    </tr>\n",
       "    <tr>\n",
       "      <th>4</th>\n",
       "      <td>90222950115</td>\n",
       "      <td>HN UR NAMU CHR | PIT</td>\n",
       "      <td>PIT</td>\n",
       "      <td>Other</td>\n",
       "      <td>NAM</td>\n",
       "      <td>15</td>\n",
       "      <td>66.0</td>\n",
       "      <td>9288.0</td>\n",
       "      <td>8277.993468</td>\n",
       "      <td>0</td>\n",
       "      <td>afternoon</td>\n",
       "      <td>False</td>\n",
       "      <td>Waals Gewest</td>\n",
       "      <td>17565.993468</td>\n",
       "      <td>0</td>\n",
       "      <td>0.328559</td>\n",
       "    </tr>\n",
       "  </tbody>\n",
       "</table>\n",
       "</div>"
      ],
      "text/plain": [
       "    Mission ID                         Service Name Vector type  \\\n",
       "0  20223420107  HB UR BRUX Iris Sud Etterbeek (PIT)         PIT   \n",
       "1  20223390102       HB UR BRUX CHU ST-PIERRE (PIT)         PIT   \n",
       "2  20230880237  HB UR BRUX Iris Sud Etterbeek (PIT)         PIT   \n",
       "3  60222810138       HG UR LIEG CHR Citadelle | PIT         PIT   \n",
       "4  90222950115                 HN UR NAMU CHR | PIT         PIT   \n",
       "\n",
       "  EventLevel Trip Province intervention  T0  Intervention duration  \\\n",
       "0              N5                   BXL  10                   84.0   \n",
       "1              N5                   BXL   9                   43.0   \n",
       "2           Other                   BXL  18                   32.0   \n",
       "3           Other                   LIE  11                   71.0   \n",
       "4           Other                   NAM  15                   66.0   \n",
       "\n",
       "   Calculated Distance destination  distance_to_intervention  Abandoned  \\\n",
       "0                           1418.0               5540.210104          0   \n",
       "1                           1945.0               1338.543238          0   \n",
       "2                           2249.0               5102.633242          0   \n",
       "3                           4514.0               3762.203850          0   \n",
       "4                           9288.0               8277.993468          0   \n",
       "\n",
       "  time_period  rush_hour        Region  total_intervention_distance  Risky  \\\n",
       "0     morning       True       Brussel                  6958.210104      1   \n",
       "1     morning       True       Brussel                  3283.543238      0   \n",
       "2     evening       True       Brussel                  7351.633242      0   \n",
       "3        noon      False  Waals Gewest                  8276.203850      1   \n",
       "4   afternoon      False  Waals Gewest                 17565.993468      0   \n",
       "\n",
       "   Probability_Risk  \n",
       "0          0.109268  \n",
       "1          0.102999  \n",
       "2          0.173590  \n",
       "3          0.204706  \n",
       "4          0.328559  "
      ]
     },
     "execution_count": 56,
     "metadata": {},
     "output_type": "execute_result"
    }
   ],
   "source": [
    "interventions_risk.head()"
   ]
  },
  {
   "cell_type": "code",
   "execution_count": 43,
   "metadata": {},
   "outputs": [
    {
     "data": {
      "text/html": [
       "<div>\n",
       "<style scoped>\n",
       "    .dataframe tbody tr th:only-of-type {\n",
       "        vertical-align: middle;\n",
       "    }\n",
       "\n",
       "    .dataframe tbody tr th {\n",
       "        vertical-align: top;\n",
       "    }\n",
       "\n",
       "    .dataframe thead th {\n",
       "        text-align: right;\n",
       "    }\n",
       "</style>\n",
       "<table border=\"1\" class=\"dataframe\">\n",
       "  <thead>\n",
       "    <tr style=\"text-align: right;\">\n",
       "      <th></th>\n",
       "      <th>province</th>\n",
       "      <th>afternoon</th>\n",
       "      <th>evening</th>\n",
       "      <th>midnight</th>\n",
       "      <th>morning</th>\n",
       "      <th>night</th>\n",
       "      <th>noon</th>\n",
       "    </tr>\n",
       "  </thead>\n",
       "  <tbody>\n",
       "    <tr>\n",
       "      <th>0</th>\n",
       "      <td>antwerpen</td>\n",
       "      <td>57.899843</td>\n",
       "      <td>58.420567</td>\n",
       "      <td>56.220580</td>\n",
       "      <td>59.048242</td>\n",
       "      <td>55.942440</td>\n",
       "      <td>57.250911</td>\n",
       "    </tr>\n",
       "    <tr>\n",
       "      <th>1</th>\n",
       "      <td>brabant wallon</td>\n",
       "      <td>61.517115</td>\n",
       "      <td>61.397254</td>\n",
       "      <td>58.209796</td>\n",
       "      <td>60.582242</td>\n",
       "      <td>60.479196</td>\n",
       "      <td>60.824048</td>\n",
       "    </tr>\n",
       "    <tr>\n",
       "      <th>2</th>\n",
       "      <td>bruxelles-brussel</td>\n",
       "      <td>53.299428</td>\n",
       "      <td>52.206182</td>\n",
       "      <td>48.174917</td>\n",
       "      <td>52.866010</td>\n",
       "      <td>50.114319</td>\n",
       "      <td>51.436569</td>\n",
       "    </tr>\n",
       "    <tr>\n",
       "      <th>3</th>\n",
       "      <td>hainaut</td>\n",
       "      <td>58.471239</td>\n",
       "      <td>57.444444</td>\n",
       "      <td>55.530421</td>\n",
       "      <td>57.971012</td>\n",
       "      <td>56.783756</td>\n",
       "      <td>57.059406</td>\n",
       "    </tr>\n",
       "    <tr>\n",
       "      <th>4</th>\n",
       "      <td>liège</td>\n",
       "      <td>55.839464</td>\n",
       "      <td>55.631125</td>\n",
       "      <td>53.472568</td>\n",
       "      <td>55.784165</td>\n",
       "      <td>54.555438</td>\n",
       "      <td>55.710863</td>\n",
       "    </tr>\n",
       "    <tr>\n",
       "      <th>5</th>\n",
       "      <td>limburg</td>\n",
       "      <td>61.275133</td>\n",
       "      <td>60.742746</td>\n",
       "      <td>59.865909</td>\n",
       "      <td>60.505199</td>\n",
       "      <td>60.369967</td>\n",
       "      <td>60.689808</td>\n",
       "    </tr>\n",
       "    <tr>\n",
       "      <th>6</th>\n",
       "      <td>luxembourg</td>\n",
       "      <td>64.915291</td>\n",
       "      <td>65.033882</td>\n",
       "      <td>67.738950</td>\n",
       "      <td>64.256750</td>\n",
       "      <td>68.010504</td>\n",
       "      <td>64.029583</td>\n",
       "    </tr>\n",
       "    <tr>\n",
       "      <th>7</th>\n",
       "      <td>namur</td>\n",
       "      <td>59.212340</td>\n",
       "      <td>58.775947</td>\n",
       "      <td>59.156752</td>\n",
       "      <td>59.953959</td>\n",
       "      <td>58.100025</td>\n",
       "      <td>58.786683</td>\n",
       "    </tr>\n",
       "  </tbody>\n",
       "</table>\n",
       "</div>"
      ],
      "text/plain": [
       "            province  afternoon    evening   midnight    morning      night  \\\n",
       "0          antwerpen  57.899843  58.420567  56.220580  59.048242  55.942440   \n",
       "1     brabant wallon  61.517115  61.397254  58.209796  60.582242  60.479196   \n",
       "2  bruxelles-brussel  53.299428  52.206182  48.174917  52.866010  50.114319   \n",
       "3            hainaut  58.471239  57.444444  55.530421  57.971012  56.783756   \n",
       "4              liège  55.839464  55.631125  53.472568  55.784165  54.555438   \n",
       "5            limburg  61.275133  60.742746  59.865909  60.505199  60.369967   \n",
       "6         luxembourg  64.915291  65.033882  67.738950  64.256750  68.010504   \n",
       "7              namur  59.212340  58.775947  59.156752  59.953959  58.100025   \n",
       "\n",
       "        noon  \n",
       "0  57.250911  \n",
       "1  60.824048  \n",
       "2  51.436569  \n",
       "3  57.059406  \n",
       "4  55.710863  \n",
       "5  60.689808  \n",
       "6  64.029583  \n",
       "7  58.786683  "
      ]
     },
     "execution_count": 43,
     "metadata": {},
     "output_type": "execute_result"
    }
   ],
   "source": [
    "interventions_risk_grouped = interventions_risk.groupby([\"Province intervention\",\"time_period\"])[\"Intervention duration\"].mean().to_frame().reset_index()\n",
    "\n",
    "interventions_risk_grouped = interventions_risk_grouped.pivot(index='Province intervention', columns='time_period', values='Intervention duration')\n",
    "\n",
    "interventions_risk_grouped.reset_index()\n",
    "interventions_risk_grouped.columns.name = None\n",
    "\n",
    "interventions_risk_grouped = interventions_risk_grouped.reset_index()\n",
    "\n",
    "interventions_risk_grouped= interventions_risk_grouped.rename(columns={'Province intervention': 'province'})\n",
    "old_to_new_name = {\"ANT\":\"antwerpen\",\"BRW\":\"brabant wallon\",\"BXL\":\"bruxelles-brussel\",\"HAI\":\"hainaut\",\"LIE\":\"liège\",\"LIM\":\"limburg\",\"LUX\":\"luxembourg\",\"NAM\":\"namur\"}\n",
    "interventions_risk_grouped['province'] = interventions_risk_grouped['province'].replace(old_to_new_name)\n",
    "\n",
    "interventions_risk_grouped\n"
   ]
  },
  {
   "cell_type": "code",
   "execution_count": 44,
   "metadata": {},
   "outputs": [],
   "source": [
    "area_provinces_risk = area_provinces.merge(interventions_risk_grouped, on=\"province\",how=\"left\")"
   ]
  },
  {
   "cell_type": "code",
   "execution_count": 87,
   "metadata": {},
   "outputs": [
    {
     "data": {
      "text/html": [
       "<div>\n",
       "<style scoped>\n",
       "    .dataframe tbody tr th:only-of-type {\n",
       "        vertical-align: middle;\n",
       "    }\n",
       "\n",
       "    .dataframe tbody tr th {\n",
       "        vertical-align: top;\n",
       "    }\n",
       "\n",
       "    .dataframe thead th {\n",
       "        text-align: right;\n",
       "    }\n",
       "</style>\n",
       "<table border=\"1\" class=\"dataframe\">\n",
       "  <thead>\n",
       "    <tr style=\"text-align: right;\">\n",
       "      <th></th>\n",
       "      <th>province</th>\n",
       "      <th>area_klm2</th>\n",
       "      <th>center</th>\n",
       "      <th>geometry</th>\n",
       "      <th>afternoon</th>\n",
       "      <th>evening</th>\n",
       "      <th>midnight</th>\n",
       "      <th>morning</th>\n",
       "      <th>night</th>\n",
       "      <th>noon</th>\n",
       "    </tr>\n",
       "  </thead>\n",
       "  <tbody>\n",
       "    <tr>\n",
       "      <th>0</th>\n",
       "      <td>antwerpen</td>\n",
       "      <td>7323.997641</td>\n",
       "      <td>(51.229679165931266, 4.719820314416564)</td>\n",
       "      <td>MULTIPOLYGON (((4.94209 51.45524, 4.94062 51.4...</td>\n",
       "      <td>57.899843</td>\n",
       "      <td>58.420567</td>\n",
       "      <td>56.220580</td>\n",
       "      <td>59.048242</td>\n",
       "      <td>55.942440</td>\n",
       "      <td>57.250911</td>\n",
       "    </tr>\n",
       "    <tr>\n",
       "      <th>1</th>\n",
       "      <td>bruxelles-brussel</td>\n",
       "      <td>406.990727</td>\n",
       "      <td>(50.836032848225344, 4.3706868102113186)</td>\n",
       "      <td>POLYGON ((4.40633 50.91309, 4.40722 50.91295, ...</td>\n",
       "      <td>53.299428</td>\n",
       "      <td>52.206182</td>\n",
       "      <td>48.174917</td>\n",
       "      <td>52.866010</td>\n",
       "      <td>50.114319</td>\n",
       "      <td>51.436569</td>\n",
       "    </tr>\n",
       "    <tr>\n",
       "      <th>2</th>\n",
       "      <td>vlaams-brabant</td>\n",
       "      <td>5312.588509</td>\n",
       "      <td>(50.87273172382932, 4.590610254578612)</td>\n",
       "      <td>POLYGON ((3.98787 50.68749, 3.98772 50.68749, ...</td>\n",
       "      <td>NaN</td>\n",
       "      <td>NaN</td>\n",
       "      <td>NaN</td>\n",
       "      <td>NaN</td>\n",
       "      <td>NaN</td>\n",
       "      <td>NaN</td>\n",
       "    </tr>\n",
       "    <tr>\n",
       "      <th>3</th>\n",
       "      <td>brabant wallon</td>\n",
       "      <td>2728.216099</td>\n",
       "      <td>(50.66933278511629, 4.583786485041254)</td>\n",
       "      <td>POLYGON ((4.75386 50.80639, 4.75387 50.80639, ...</td>\n",
       "      <td>61.517115</td>\n",
       "      <td>61.397254</td>\n",
       "      <td>58.209796</td>\n",
       "      <td>60.582242</td>\n",
       "      <td>60.479196</td>\n",
       "      <td>60.824048</td>\n",
       "    </tr>\n",
       "    <tr>\n",
       "      <th>4</th>\n",
       "      <td>west-vlaanderen</td>\n",
       "      <td>7987.315544</td>\n",
       "      <td>(51.01142287974023, 3.057645147430322)</td>\n",
       "      <td>MULTIPOLYGON (((2.65679 51.12932, 2.65663 51.1...</td>\n",
       "      <td>NaN</td>\n",
       "      <td>NaN</td>\n",
       "      <td>NaN</td>\n",
       "      <td>NaN</td>\n",
       "      <td>NaN</td>\n",
       "      <td>NaN</td>\n",
       "    </tr>\n",
       "    <tr>\n",
       "      <th>5</th>\n",
       "      <td>oost-vlaanderen</td>\n",
       "      <td>7595.941079</td>\n",
       "      <td>(51.036508957319626, 3.816361792799826)</td>\n",
       "      <td>POLYGON ((4.31166 51.29250, 4.31431 51.29112, ...</td>\n",
       "      <td>NaN</td>\n",
       "      <td>NaN</td>\n",
       "      <td>NaN</td>\n",
       "      <td>NaN</td>\n",
       "      <td>NaN</td>\n",
       "      <td>NaN</td>\n",
       "    </tr>\n",
       "    <tr>\n",
       "      <th>6</th>\n",
       "      <td>hainaut</td>\n",
       "      <td>9401.428447</td>\n",
       "      <td>(50.46969476722217, 3.959399551550251)</td>\n",
       "      <td>MULTIPOLYGON (((3.71031 50.78190, 3.71065 50.7...</td>\n",
       "      <td>58.471239</td>\n",
       "      <td>57.444444</td>\n",
       "      <td>55.530421</td>\n",
       "      <td>57.971012</td>\n",
       "      <td>56.783756</td>\n",
       "      <td>57.059406</td>\n",
       "    </tr>\n",
       "    <tr>\n",
       "      <th>7</th>\n",
       "      <td>liège</td>\n",
       "      <td>9531.529485</td>\n",
       "      <td>(50.520548064389395, 5.736605195342704)</td>\n",
       "      <td>POLYGON ((6.13338 50.12956, 6.13309 50.12968, ...</td>\n",
       "      <td>55.839464</td>\n",
       "      <td>55.631125</td>\n",
       "      <td>53.472568</td>\n",
       "      <td>55.784165</td>\n",
       "      <td>54.555438</td>\n",
       "      <td>55.710863</td>\n",
       "    </tr>\n",
       "    <tr>\n",
       "      <th>8</th>\n",
       "      <td>limburg</td>\n",
       "      <td>6119.002346</td>\n",
       "      <td>(50.9914931483222, 5.4291859343176005)</td>\n",
       "      <td>MULTIPOLYGON (((5.77703 50.78285, 5.77662 50.7...</td>\n",
       "      <td>61.275133</td>\n",
       "      <td>60.742746</td>\n",
       "      <td>59.865909</td>\n",
       "      <td>60.505199</td>\n",
       "      <td>60.369967</td>\n",
       "      <td>60.689808</td>\n",
       "    </tr>\n",
       "    <tr>\n",
       "      <th>9</th>\n",
       "      <td>luxembourg</td>\n",
       "      <td>10763.967091</td>\n",
       "      <td>(49.96172789168535, 5.513349067860746)</td>\n",
       "      <td>POLYGON ((5.43891 50.42170, 5.43908 50.42165, ...</td>\n",
       "      <td>64.915291</td>\n",
       "      <td>65.033882</td>\n",
       "      <td>67.738950</td>\n",
       "      <td>64.256750</td>\n",
       "      <td>68.010504</td>\n",
       "      <td>64.029583</td>\n",
       "    </tr>\n",
       "    <tr>\n",
       "      <th>10</th>\n",
       "      <td>namur</td>\n",
       "      <td>8980.230372</td>\n",
       "      <td>(50.255711368155666, 4.852274083064385)</td>\n",
       "      <td>POLYGON ((4.97055 50.64532, 4.97142 50.64479, ...</td>\n",
       "      <td>59.212340</td>\n",
       "      <td>58.775947</td>\n",
       "      <td>59.156752</td>\n",
       "      <td>59.953959</td>\n",
       "      <td>58.100025</td>\n",
       "      <td>58.786683</td>\n",
       "    </tr>\n",
       "  </tbody>\n",
       "</table>\n",
       "</div>"
      ],
      "text/plain": [
       "             province     area_klm2                                    center  \\\n",
       "0           antwerpen   7323.997641   (51.229679165931266, 4.719820314416564)   \n",
       "1   bruxelles-brussel    406.990727  (50.836032848225344, 4.3706868102113186)   \n",
       "2      vlaams-brabant   5312.588509    (50.87273172382932, 4.590610254578612)   \n",
       "3      brabant wallon   2728.216099    (50.66933278511629, 4.583786485041254)   \n",
       "4     west-vlaanderen   7987.315544    (51.01142287974023, 3.057645147430322)   \n",
       "5     oost-vlaanderen   7595.941079   (51.036508957319626, 3.816361792799826)   \n",
       "6             hainaut   9401.428447    (50.46969476722217, 3.959399551550251)   \n",
       "7               liège   9531.529485   (50.520548064389395, 5.736605195342704)   \n",
       "8             limburg   6119.002346    (50.9914931483222, 5.4291859343176005)   \n",
       "9          luxembourg  10763.967091    (49.96172789168535, 5.513349067860746)   \n",
       "10              namur   8980.230372   (50.255711368155666, 4.852274083064385)   \n",
       "\n",
       "                                             geometry  afternoon    evening  \\\n",
       "0   MULTIPOLYGON (((4.94209 51.45524, 4.94062 51.4...  57.899843  58.420567   \n",
       "1   POLYGON ((4.40633 50.91309, 4.40722 50.91295, ...  53.299428  52.206182   \n",
       "2   POLYGON ((3.98787 50.68749, 3.98772 50.68749, ...        NaN        NaN   \n",
       "3   POLYGON ((4.75386 50.80639, 4.75387 50.80639, ...  61.517115  61.397254   \n",
       "4   MULTIPOLYGON (((2.65679 51.12932, 2.65663 51.1...        NaN        NaN   \n",
       "5   POLYGON ((4.31166 51.29250, 4.31431 51.29112, ...        NaN        NaN   \n",
       "6   MULTIPOLYGON (((3.71031 50.78190, 3.71065 50.7...  58.471239  57.444444   \n",
       "7   POLYGON ((6.13338 50.12956, 6.13309 50.12968, ...  55.839464  55.631125   \n",
       "8   MULTIPOLYGON (((5.77703 50.78285, 5.77662 50.7...  61.275133  60.742746   \n",
       "9   POLYGON ((5.43891 50.42170, 5.43908 50.42165, ...  64.915291  65.033882   \n",
       "10  POLYGON ((4.97055 50.64532, 4.97142 50.64479, ...  59.212340  58.775947   \n",
       "\n",
       "     midnight    morning      night       noon  \n",
       "0   56.220580  59.048242  55.942440  57.250911  \n",
       "1   48.174917  52.866010  50.114319  51.436569  \n",
       "2         NaN        NaN        NaN        NaN  \n",
       "3   58.209796  60.582242  60.479196  60.824048  \n",
       "4         NaN        NaN        NaN        NaN  \n",
       "5         NaN        NaN        NaN        NaN  \n",
       "6   55.530421  57.971012  56.783756  57.059406  \n",
       "7   53.472568  55.784165  54.555438  55.710863  \n",
       "8   59.865909  60.505199  60.369967  60.689808  \n",
       "9   67.738950  64.256750  68.010504  64.029583  \n",
       "10  59.156752  59.953959  58.100025  58.786683  "
      ]
     },
     "execution_count": 87,
     "metadata": {},
     "output_type": "execute_result"
    }
   ],
   "source": [
    "area_provinces_risk"
   ]
  },
  {
   "cell_type": "code",
   "execution_count": 45,
   "metadata": {},
   "outputs": [],
   "source": [
    "df = px.data.election()\n",
    "geo_df = gpd.GeoDataFrame.from_features(\n",
    "    px.data.election_geojson()[\"features\"]\n",
    ").merge(df, on=\"district\").set_index(\"district\")\n",
    "\n",
    "labels = {\"morning\":\"Early Morning {08.00-10.00}\", \"noon\":\"Morning {10.00-13.00}\",\n",
    "          \"afternoon\":\"Afternoon {13.00-16.00}\",\"evening\":\"Evening {16.00-19.00}\",\n",
    "          \"night\":\"Night {19.00-23.00}\",\"midnight\":\"Midnight-Dawn{23.00-08.00}\"}\n",
    "# hover_data = {\"area_provinces_risk.index\":False}\n",
    "\n",
    "fig = px.choropleth_mapbox(area_provinces_risk_new,\n",
    "                           geojson=area_provinces_risk_new.geometry,\n",
    "                           locations=area_provinces_risk_new.index,\n",
    "                           hover_name = \"province_cap\",\n",
    "                           color=\"morning\",\n",
    "                           center={\"lat\":50.87273172382932 , \"lon\": 4.590610254578612},\n",
    "                           mapbox_style=\"carto-positron\",\n",
    "                           title=\"Average Intervention Duration\",\n",
    "                           labels=labels,\n",
    "                        #    hover_data = hover_data,\n",
    "                           zoom=6.5)\n",
    "# fig.show()"
   ]
  },
  {
   "cell_type": "code",
   "execution_count": null,
   "metadata": {},
   "outputs": [],
   "source": []
  },
  {
   "cell_type": "code",
   "execution_count": null,
   "metadata": {},
   "outputs": [],
   "source": []
  },
  {
   "cell_type": "code",
   "execution_count": null,
   "metadata": {},
   "outputs": [],
   "source": []
  },
  {
   "cell_type": "code",
   "execution_count": null,
   "metadata": {},
   "outputs": [],
   "source": []
  },
  {
   "cell_type": "code",
   "execution_count": 48,
   "metadata": {},
   "outputs": [],
   "source": [
    "\n",
    "area_provinces = gpd.read_file(\"C:\\KU Leuven\\Modern Data Analytics - MDA\\MDA Project\\MDA\\Created GeoJSON Files\\AREA_PROVINCES_NEW.geojson\") \n",
    "\n",
    "interventions_risk = pd.read_csv(r\"C:\\KU Leuven\\Modern Data Analytics - MDA\\MDA Project\\MDA\\Interventions_risky_probability.csv\", index_col=False)\n",
    "\n",
    "percentile_75 = interventions_risk['Intervention duration'].quantile(0.75)\n",
    "\n",
    "# provinces_risk = interventions_risk.groupby(\"Province intervention\")[\"Probability_Risk\"].mean().to_frame().reset_index()\n",
    "provinces_risk = interventions_risk.groupby(\"Province intervention\")[[\"Probability_Risk\", \"Calculated Distance destination\",\n",
    "                                                                      \"distance_to_intervention\",\"Intervention duration\"]].mean().reset_index()\n",
    "\n",
    "provinces_risk= provinces_risk.rename(columns={'Province intervention': 'province'})\n",
    "\n",
    "old_to_new_name = {\"ANT\":\"antwerpen\",\"BRW\":\"brabant wallon\",\"BXL\":\"bruxelles-brussel\",\"HAI\":\"hainaut\",\"LIE\":\"liège\",\"LIM\":\"limburg\",\"LUX\":\"luxembourg\",\"NAM\":\"namur\"}\n",
    "provinces_risk['province'] = provinces_risk['province'].replace(old_to_new_name)\n",
    "\n",
    "area_provinces_risk = area_provinces.merge(provinces_risk, on=\"province\",how=\"left\")\n",
    "\n",
    "def convert_str_tuple(text):\n",
    "    lat = float(text.split(\",\")[0].strip('('))\n",
    "    long = float(text.split(\",\")[1].strip().strip(')'))\n",
    "    return (lat,long)\n",
    "\n",
    "# area_provinces_risk[\"center\"] = area_provinces_risk[\"center\"].apply(convert_str_tuple)\n",
    "\n",
    "# brussels_center = area_provinces_risk[\"center\"][1]\n",
    "\n",
    "area_provinces_risk[\"province_cap\"] = area_provinces_risk[\"province\"].apply(lambda x: x.capitalize())\n",
    "                \n",
    "df = px.data.election()\n",
    "geo_df = gpd.GeoDataFrame.from_features(\n",
    "    px.data.election_geojson()[\"features\"]\n",
    ").merge(df, on=\"district\").set_index(\"district\")\n",
    "\n",
    "labels = {\"Probability_Risk\":\"Average Predicted Probability\"}\n",
    "# hover_data = {\"area_provinces_risk.index\":False}\n",
    "\n",
    "fig_risk_map = px.choropleth_mapbox(area_provinces_risk,\n",
    "                           geojson=area_provinces_risk.geometry,\n",
    "                           locations=area_provinces_risk.index,\n",
    "                           hover_name = \"province_cap\",\n",
    "                           color=\"Probability_Risk\",\n",
    "                           center={\"lat\":50.87273172382932 , \"lon\": 4.590610254578612},\n",
    "                           mapbox_style=\"carto-positron\",\n",
    "                           title=\"Average Predicted Probability of Intervention Duration > 68.0 (75th Percentile)\",\n",
    "                           labels=labels,\n",
    "                        #    hover_data = hover_data,\n",
    "                           zoom=6.5)\n",
    "# fig_risk_map.show()\n"
   ]
  },
  {
   "cell_type": "code",
   "execution_count": 49,
   "metadata": {},
   "outputs": [
    {
     "data": {
      "application/vnd.plotly.v1+json": {
       "config": {
        "plotlyServerURL": "https://plot.ly"
       },
       "data": [
        {
         "marker": {
          "color": "paleturquoise"
         },
         "name": "Provinces",
         "type": "bar",
         "x": [
          "Antwerpen",
          "Bruxelles-brussel",
          "Brabant wallon",
          "Hainaut",
          "Liège",
          "Limburg",
          "Luxembourg",
          "Namur"
         ],
         "y": [
          7152.612682107566,
          2653.396699121349,
          9190.10718823136,
          7645.389343969095,
          7582.281672143118,
          9759.325397414947,
          15990.365759950822,
          12230.340030268635
         ]
        },
        {
         "marker": {
          "color": "crimson"
         },
         "name": "Probability_Risk",
         "type": "bar",
         "x": [
          "Antwerpen",
          "Bruxelles-brussel",
          "Brabant wallon",
          "Hainaut",
          "Liège",
          "Limburg",
          "Luxembourg",
          "Namur"
         ],
         "y": [
          0.2310592682463096,
          0.17097580195257042,
          0.2716959285332284,
          0.24460112665781186,
          0.2388447842661893,
          0.30481636382362937,
          0.4151804406752472,
          0.3336110360262904
         ]
        },
        {
         "marker": {
          "color": "crimson"
         },
         "name": "Probability",
         "type": "scatter",
         "x": [
          "Antwerpen",
          "Bruxelles-brussel",
          "Brabant wallon",
          "Hainaut",
          "Liège",
          "Limburg",
          "Luxembourg",
          "Namur"
         ],
         "y": [
          0.2310592682463096,
          0.17097580195257042,
          0.2716959285332284,
          0.24460112665781186,
          0.2388447842661893,
          0.30481636382362937,
          0.4151804406752472,
          0.3336110360262904
         ],
         "yaxis": "y2"
        }
       ],
       "layout": {
        "legend": {
         "orientation": "h"
        },
        "template": {
         "data": {
          "bar": [
           {
            "error_x": {
             "color": "#2a3f5f"
            },
            "error_y": {
             "color": "#2a3f5f"
            },
            "marker": {
             "line": {
              "color": "#E5ECF6",
              "width": 0.5
             },
             "pattern": {
              "fillmode": "overlay",
              "size": 10,
              "solidity": 0.2
             }
            },
            "type": "bar"
           }
          ],
          "barpolar": [
           {
            "marker": {
             "line": {
              "color": "#E5ECF6",
              "width": 0.5
             },
             "pattern": {
              "fillmode": "overlay",
              "size": 10,
              "solidity": 0.2
             }
            },
            "type": "barpolar"
           }
          ],
          "carpet": [
           {
            "aaxis": {
             "endlinecolor": "#2a3f5f",
             "gridcolor": "white",
             "linecolor": "white",
             "minorgridcolor": "white",
             "startlinecolor": "#2a3f5f"
            },
            "baxis": {
             "endlinecolor": "#2a3f5f",
             "gridcolor": "white",
             "linecolor": "white",
             "minorgridcolor": "white",
             "startlinecolor": "#2a3f5f"
            },
            "type": "carpet"
           }
          ],
          "choropleth": [
           {
            "colorbar": {
             "outlinewidth": 0,
             "ticks": ""
            },
            "type": "choropleth"
           }
          ],
          "contour": [
           {
            "colorbar": {
             "outlinewidth": 0,
             "ticks": ""
            },
            "colorscale": [
             [
              0,
              "#0d0887"
             ],
             [
              0.1111111111111111,
              "#46039f"
             ],
             [
              0.2222222222222222,
              "#7201a8"
             ],
             [
              0.3333333333333333,
              "#9c179e"
             ],
             [
              0.4444444444444444,
              "#bd3786"
             ],
             [
              0.5555555555555556,
              "#d8576b"
             ],
             [
              0.6666666666666666,
              "#ed7953"
             ],
             [
              0.7777777777777778,
              "#fb9f3a"
             ],
             [
              0.8888888888888888,
              "#fdca26"
             ],
             [
              1,
              "#f0f921"
             ]
            ],
            "type": "contour"
           }
          ],
          "contourcarpet": [
           {
            "colorbar": {
             "outlinewidth": 0,
             "ticks": ""
            },
            "type": "contourcarpet"
           }
          ],
          "heatmap": [
           {
            "colorbar": {
             "outlinewidth": 0,
             "ticks": ""
            },
            "colorscale": [
             [
              0,
              "#0d0887"
             ],
             [
              0.1111111111111111,
              "#46039f"
             ],
             [
              0.2222222222222222,
              "#7201a8"
             ],
             [
              0.3333333333333333,
              "#9c179e"
             ],
             [
              0.4444444444444444,
              "#bd3786"
             ],
             [
              0.5555555555555556,
              "#d8576b"
             ],
             [
              0.6666666666666666,
              "#ed7953"
             ],
             [
              0.7777777777777778,
              "#fb9f3a"
             ],
             [
              0.8888888888888888,
              "#fdca26"
             ],
             [
              1,
              "#f0f921"
             ]
            ],
            "type": "heatmap"
           }
          ],
          "heatmapgl": [
           {
            "colorbar": {
             "outlinewidth": 0,
             "ticks": ""
            },
            "colorscale": [
             [
              0,
              "#0d0887"
             ],
             [
              0.1111111111111111,
              "#46039f"
             ],
             [
              0.2222222222222222,
              "#7201a8"
             ],
             [
              0.3333333333333333,
              "#9c179e"
             ],
             [
              0.4444444444444444,
              "#bd3786"
             ],
             [
              0.5555555555555556,
              "#d8576b"
             ],
             [
              0.6666666666666666,
              "#ed7953"
             ],
             [
              0.7777777777777778,
              "#fb9f3a"
             ],
             [
              0.8888888888888888,
              "#fdca26"
             ],
             [
              1,
              "#f0f921"
             ]
            ],
            "type": "heatmapgl"
           }
          ],
          "histogram": [
           {
            "marker": {
             "pattern": {
              "fillmode": "overlay",
              "size": 10,
              "solidity": 0.2
             }
            },
            "type": "histogram"
           }
          ],
          "histogram2d": [
           {
            "colorbar": {
             "outlinewidth": 0,
             "ticks": ""
            },
            "colorscale": [
             [
              0,
              "#0d0887"
             ],
             [
              0.1111111111111111,
              "#46039f"
             ],
             [
              0.2222222222222222,
              "#7201a8"
             ],
             [
              0.3333333333333333,
              "#9c179e"
             ],
             [
              0.4444444444444444,
              "#bd3786"
             ],
             [
              0.5555555555555556,
              "#d8576b"
             ],
             [
              0.6666666666666666,
              "#ed7953"
             ],
             [
              0.7777777777777778,
              "#fb9f3a"
             ],
             [
              0.8888888888888888,
              "#fdca26"
             ],
             [
              1,
              "#f0f921"
             ]
            ],
            "type": "histogram2d"
           }
          ],
          "histogram2dcontour": [
           {
            "colorbar": {
             "outlinewidth": 0,
             "ticks": ""
            },
            "colorscale": [
             [
              0,
              "#0d0887"
             ],
             [
              0.1111111111111111,
              "#46039f"
             ],
             [
              0.2222222222222222,
              "#7201a8"
             ],
             [
              0.3333333333333333,
              "#9c179e"
             ],
             [
              0.4444444444444444,
              "#bd3786"
             ],
             [
              0.5555555555555556,
              "#d8576b"
             ],
             [
              0.6666666666666666,
              "#ed7953"
             ],
             [
              0.7777777777777778,
              "#fb9f3a"
             ],
             [
              0.8888888888888888,
              "#fdca26"
             ],
             [
              1,
              "#f0f921"
             ]
            ],
            "type": "histogram2dcontour"
           }
          ],
          "mesh3d": [
           {
            "colorbar": {
             "outlinewidth": 0,
             "ticks": ""
            },
            "type": "mesh3d"
           }
          ],
          "parcoords": [
           {
            "line": {
             "colorbar": {
              "outlinewidth": 0,
              "ticks": ""
             }
            },
            "type": "parcoords"
           }
          ],
          "pie": [
           {
            "automargin": true,
            "type": "pie"
           }
          ],
          "scatter": [
           {
            "fillpattern": {
             "fillmode": "overlay",
             "size": 10,
             "solidity": 0.2
            },
            "type": "scatter"
           }
          ],
          "scatter3d": [
           {
            "line": {
             "colorbar": {
              "outlinewidth": 0,
              "ticks": ""
             }
            },
            "marker": {
             "colorbar": {
              "outlinewidth": 0,
              "ticks": ""
             }
            },
            "type": "scatter3d"
           }
          ],
          "scattercarpet": [
           {
            "marker": {
             "colorbar": {
              "outlinewidth": 0,
              "ticks": ""
             }
            },
            "type": "scattercarpet"
           }
          ],
          "scattergeo": [
           {
            "marker": {
             "colorbar": {
              "outlinewidth": 0,
              "ticks": ""
             }
            },
            "type": "scattergeo"
           }
          ],
          "scattergl": [
           {
            "marker": {
             "colorbar": {
              "outlinewidth": 0,
              "ticks": ""
             }
            },
            "type": "scattergl"
           }
          ],
          "scattermapbox": [
           {
            "marker": {
             "colorbar": {
              "outlinewidth": 0,
              "ticks": ""
             }
            },
            "type": "scattermapbox"
           }
          ],
          "scatterpolar": [
           {
            "marker": {
             "colorbar": {
              "outlinewidth": 0,
              "ticks": ""
             }
            },
            "type": "scatterpolar"
           }
          ],
          "scatterpolargl": [
           {
            "marker": {
             "colorbar": {
              "outlinewidth": 0,
              "ticks": ""
             }
            },
            "type": "scatterpolargl"
           }
          ],
          "scatterternary": [
           {
            "marker": {
             "colorbar": {
              "outlinewidth": 0,
              "ticks": ""
             }
            },
            "type": "scatterternary"
           }
          ],
          "surface": [
           {
            "colorbar": {
             "outlinewidth": 0,
             "ticks": ""
            },
            "colorscale": [
             [
              0,
              "#0d0887"
             ],
             [
              0.1111111111111111,
              "#46039f"
             ],
             [
              0.2222222222222222,
              "#7201a8"
             ],
             [
              0.3333333333333333,
              "#9c179e"
             ],
             [
              0.4444444444444444,
              "#bd3786"
             ],
             [
              0.5555555555555556,
              "#d8576b"
             ],
             [
              0.6666666666666666,
              "#ed7953"
             ],
             [
              0.7777777777777778,
              "#fb9f3a"
             ],
             [
              0.8888888888888888,
              "#fdca26"
             ],
             [
              1,
              "#f0f921"
             ]
            ],
            "type": "surface"
           }
          ],
          "table": [
           {
            "cells": {
             "fill": {
              "color": "#EBF0F8"
             },
             "line": {
              "color": "white"
             }
            },
            "header": {
             "fill": {
              "color": "#C8D4E3"
             },
             "line": {
              "color": "white"
             }
            },
            "type": "table"
           }
          ]
         },
         "layout": {
          "annotationdefaults": {
           "arrowcolor": "#2a3f5f",
           "arrowhead": 0,
           "arrowwidth": 1
          },
          "autotypenumbers": "strict",
          "coloraxis": {
           "colorbar": {
            "outlinewidth": 0,
            "ticks": ""
           }
          },
          "colorscale": {
           "diverging": [
            [
             0,
             "#8e0152"
            ],
            [
             0.1,
             "#c51b7d"
            ],
            [
             0.2,
             "#de77ae"
            ],
            [
             0.3,
             "#f1b6da"
            ],
            [
             0.4,
             "#fde0ef"
            ],
            [
             0.5,
             "#f7f7f7"
            ],
            [
             0.6,
             "#e6f5d0"
            ],
            [
             0.7,
             "#b8e186"
            ],
            [
             0.8,
             "#7fbc41"
            ],
            [
             0.9,
             "#4d9221"
            ],
            [
             1,
             "#276419"
            ]
           ],
           "sequential": [
            [
             0,
             "#0d0887"
            ],
            [
             0.1111111111111111,
             "#46039f"
            ],
            [
             0.2222222222222222,
             "#7201a8"
            ],
            [
             0.3333333333333333,
             "#9c179e"
            ],
            [
             0.4444444444444444,
             "#bd3786"
            ],
            [
             0.5555555555555556,
             "#d8576b"
            ],
            [
             0.6666666666666666,
             "#ed7953"
            ],
            [
             0.7777777777777778,
             "#fb9f3a"
            ],
            [
             0.8888888888888888,
             "#fdca26"
            ],
            [
             1,
             "#f0f921"
            ]
           ],
           "sequentialminus": [
            [
             0,
             "#0d0887"
            ],
            [
             0.1111111111111111,
             "#46039f"
            ],
            [
             0.2222222222222222,
             "#7201a8"
            ],
            [
             0.3333333333333333,
             "#9c179e"
            ],
            [
             0.4444444444444444,
             "#bd3786"
            ],
            [
             0.5555555555555556,
             "#d8576b"
            ],
            [
             0.6666666666666666,
             "#ed7953"
            ],
            [
             0.7777777777777778,
             "#fb9f3a"
            ],
            [
             0.8888888888888888,
             "#fdca26"
            ],
            [
             1,
             "#f0f921"
            ]
           ]
          },
          "colorway": [
           "#636efa",
           "#EF553B",
           "#00cc96",
           "#ab63fa",
           "#FFA15A",
           "#19d3f3",
           "#FF6692",
           "#B6E880",
           "#FF97FF",
           "#FECB52"
          ],
          "font": {
           "color": "#2a3f5f"
          },
          "geo": {
           "bgcolor": "white",
           "lakecolor": "white",
           "landcolor": "#E5ECF6",
           "showlakes": true,
           "showland": true,
           "subunitcolor": "white"
          },
          "hoverlabel": {
           "align": "left"
          },
          "hovermode": "closest",
          "mapbox": {
           "style": "light"
          },
          "paper_bgcolor": "white",
          "plot_bgcolor": "#E5ECF6",
          "polar": {
           "angularaxis": {
            "gridcolor": "white",
            "linecolor": "white",
            "ticks": ""
           },
           "bgcolor": "#E5ECF6",
           "radialaxis": {
            "gridcolor": "white",
            "linecolor": "white",
            "ticks": ""
           }
          },
          "scene": {
           "xaxis": {
            "backgroundcolor": "#E5ECF6",
            "gridcolor": "white",
            "gridwidth": 2,
            "linecolor": "white",
            "showbackground": true,
            "ticks": "",
            "zerolinecolor": "white"
           },
           "yaxis": {
            "backgroundcolor": "#E5ECF6",
            "gridcolor": "white",
            "gridwidth": 2,
            "linecolor": "white",
            "showbackground": true,
            "ticks": "",
            "zerolinecolor": "white"
           },
           "zaxis": {
            "backgroundcolor": "#E5ECF6",
            "gridcolor": "white",
            "gridwidth": 2,
            "linecolor": "white",
            "showbackground": true,
            "ticks": "",
            "zerolinecolor": "white"
           }
          },
          "shapedefaults": {
           "line": {
            "color": "#2a3f5f"
           }
          },
          "ternary": {
           "aaxis": {
            "gridcolor": "white",
            "linecolor": "white",
            "ticks": ""
           },
           "baxis": {
            "gridcolor": "white",
            "linecolor": "white",
            "ticks": ""
           },
           "bgcolor": "#E5ECF6",
           "caxis": {
            "gridcolor": "white",
            "linecolor": "white",
            "ticks": ""
           }
          },
          "title": {
           "x": 0.05
          },
          "xaxis": {
           "automargin": true,
           "gridcolor": "white",
           "linecolor": "white",
           "ticks": "",
           "title": {
            "standoff": 15
           },
           "zerolinecolor": "white",
           "zerolinewidth": 2
          },
          "yaxis": {
           "automargin": true,
           "gridcolor": "white",
           "linecolor": "white",
           "ticks": "",
           "title": {
            "standoff": 15
           },
           "zerolinecolor": "white",
           "zerolinewidth": 2
          }
         }
        },
        "title": {
         "text": "Distance to Hospital vs Average Predicted Probality of Intervention Delay"
        },
        "yaxis": {
         "range": [
          0,
          17000
         ],
         "side": "left",
         "title": {
          "text": "Distance to Hospital (Meters)"
         }
        },
        "yaxis2": {
         "overlaying": "y",
         "range": [
          0.1,
          0.45
         ],
         "side": "right",
         "tickmode": "sync",
         "title": {
          "text": "Avg. Predicted Probabity of Delay"
         }
        }
       }
      }
     },
     "metadata": {},
     "output_type": "display_data"
    }
   ],
   "source": [
    "area_provinces_risk = area_provinces.merge(provinces_risk, on=\"province\")\n",
    "area_provinces_risk[\"province_cap\"] = area_provinces_risk[\"province\"].apply(lambda x: x.capitalize())\n",
    "\n",
    "\n",
    "\n",
    "fig_bar = go.Figure(\n",
    "    data=go.Bar(\n",
    "        x=area_provinces_risk[\"province_cap\"],\n",
    "        y=area_provinces_risk[\"Calculated Distance destination\"],\n",
    "        name=\"Provinces\",\n",
    "        marker=dict(color=\"paleturquoise\"),\n",
    "\n",
    "    )\n",
    ")\n",
    "\n",
    "fig_bar.add_trace(\n",
    "    go.Bar(\n",
    "        x=area_provinces_risk[\"province_cap\"],\n",
    "        y=area_provinces_risk[\"Probability_Risk\"],\n",
    "        name=\"Probability_Risk\",\n",
    "        marker=dict(color=\"crimson\"),\n",
    "    )\n",
    ")\n",
    "\n",
    "\n",
    "fig_bar.add_trace(\n",
    "    go.Scatter(\n",
    "        x=area_provinces_risk[\"province_cap\"],\n",
    "        y=area_provinces_risk[\"Probability_Risk\"],\n",
    "        yaxis=\"y2\",\n",
    "        name=\"Probability\",\n",
    "        marker=dict(color=\"crimson\"),\n",
    "    )\n",
    ")\n",
    "# fig_bar.add_trace(\n",
    "#     go.Scatter(\n",
    "#         x=area_provinces_risk[\"province_cap\"],\n",
    "#         y=area_provinces_risk[\"Intervention duration\"],\n",
    "#         yaxis=\"y2\",\n",
    "#         name=\"Probability\",\n",
    "#         marker=dict(color=\"crimson\"),\n",
    "#     )\n",
    "# )\n",
    "\n",
    "\n",
    "\n",
    "fig_bar.update_layout(\n",
    "    title=\"Distance to Hospital vs Average Predicted Probality of Intervention Delay\",\n",
    "    # title=\"Distance to Hospital vs Average Intervention Duration\",\n",
    "    legend=dict(orientation=\"h\"),\n",
    "    yaxis=dict(\n",
    "        title=dict(text=\"Distance to Hospital (Meters)\"),\n",
    "        side=\"left\",\n",
    "        range=[0, 17000],\n",
    "    ),\n",
    "    yaxis2=dict(\n",
    "        title=dict(text=\"Avg. Predicted Probabity of Delay\"),\n",
    "        side=\"right\",\n",
    "        range=[0.1, 0.45],\n",
    "        overlaying=\"y\",\n",
    "        tickmode=\"sync\",\n",
    "    ),\n",
    "#    yaxis2=dict(\n",
    "#         title=dict(text=\"Avg. Predicted Probabity of Delay\"),\n",
    "#         side=\"right\",\n",
    "#         range=[50, 70],\n",
    "#         overlaying=\"y\",\n",
    "#         tickmode=\"sync\",\n",
    "#     ),\n",
    ")\n",
    "\n",
    "# fig_bar.show()"
   ]
  },
  {
   "cell_type": "code",
   "execution_count": 50,
   "metadata": {},
   "outputs": [],
   "source": [
    "\n",
    "interventions_risk_grouped = interventions_risk.groupby([\"Province intervention\",\"time_period\"])[\"Intervention duration\"].mean().to_frame().reset_index()\n",
    "\n",
    "# new_column_names = {\n",
    "#     'morning': 'Early Morning {08.00-10.00}',\n",
    "#     'noon': 'Morning {10.00-13.00}',\n",
    "#     'afternoon': 'Afternoon {13.00-16.00}',\n",
    "#     'evening': 'Evening {16.00-19.00}',\n",
    "#     \"midnight\":\"Midnight-Dawn{23.00-08.00}\",\n",
    "# }\n",
    "\n",
    "# interventions_risk_grouped.rename(columns=new_column_names, inplace=True)\n",
    "\n",
    "interventions_risk_grouped = interventions_risk_grouped.pivot(index='Province intervention', columns='time_period', values='Intervention duration')\n",
    "\n",
    "interventions_risk_grouped.reset_index()\n",
    "interventions_risk_grouped.columns.name = None\n",
    "\n",
    "interventions_risk_grouped = interventions_risk_grouped.reset_index()\n",
    "\n",
    "interventions_risk_grouped= interventions_risk_grouped.rename(columns={'Province intervention': 'province'})\n",
    "old_to_new_name = {\"ANT\":\"antwerpen\",\"BRW\":\"brabant wallon\",\"BXL\":\"bruxelles-brussel\",\"HAI\":\"hainaut\",\"LIE\":\"liège\",\"LIM\":\"limburg\",\"LUX\":\"luxembourg\",\"NAM\":\"namur\"}\n",
    "interventions_risk_grouped['province'] = interventions_risk_grouped['province'].replace(old_to_new_name)\n",
    "\n",
    "# interventions_risk_grouped\n",
    "\n",
    "area_provinces_risk_new = area_provinces_risk.merge(interventions_risk_grouped, on=\"province\")\n",
    "\n",
    "df = px.data.election()\n",
    "geo_df = gpd.GeoDataFrame.from_features(\n",
    "    px.data.election_geojson()[\"features\"]\n",
    ").merge(df, on=\"district\").set_index(\"district\")\n",
    "\n",
    "labels = {\"morning\":\"Early Morning {08.00-10.00}\", \"noon\":\"Morning {10.00-13.00}\",\n",
    "          \"afternoon\":\"Afternoon {13.00-16.00}\",\"evening\":\"Evening {16.00-19.00}\",\n",
    "          \"night\":\"Night {19.00-23.00}\",\"midnight\":\"Midnight-Dawn{23.00-08.00}\"}\n",
    "hover_data = {\"area_provinces_risk.index\":False}\n",
    "\n",
    "fig_intervention = px.choropleth_mapbox(area_provinces_risk_new,\n",
    "                           geojson=area_provinces_risk_new.geometry,\n",
    "                           locations=area_provinces_risk_new.index,\n",
    "                           hover_name = \"province_cap\",\n",
    "                           color=\"morning\",\n",
    "                           center={\"lat\":50.87273172382932 , \"lon\": 4.590610254578612},\n",
    "                           mapbox_style=\"carto-positron\",\n",
    "                           title=\"Average Intervention Duration\",\n",
    "                           labels=labels,\n",
    "                        #    hover_data = hover_data,\n",
    "                           zoom=6.5)\n",
    "# fig_intervention.show()"
   ]
  },
  {
   "cell_type": "code",
   "execution_count": 25,
   "metadata": {},
   "outputs": [
    {
     "data": {
      "text/html": [
       "<div>\n",
       "<style scoped>\n",
       "    .dataframe tbody tr th:only-of-type {\n",
       "        vertical-align: middle;\n",
       "    }\n",
       "\n",
       "    .dataframe tbody tr th {\n",
       "        vertical-align: top;\n",
       "    }\n",
       "\n",
       "    .dataframe thead th {\n",
       "        text-align: right;\n",
       "    }\n",
       "</style>\n",
       "<table border=\"1\" class=\"dataframe\">\n",
       "  <thead>\n",
       "    <tr style=\"text-align: right;\">\n",
       "      <th></th>\n",
       "      <th>Mission ID</th>\n",
       "      <th>Service Name</th>\n",
       "      <th>Vector type</th>\n",
       "      <th>EventLevel Trip</th>\n",
       "      <th>Province intervention</th>\n",
       "      <th>T0</th>\n",
       "      <th>Intervention duration</th>\n",
       "      <th>Calculated Distance destination</th>\n",
       "      <th>distance_to_intervention</th>\n",
       "      <th>Abandoned</th>\n",
       "      <th>time_period</th>\n",
       "      <th>rush_hour</th>\n",
       "      <th>Region</th>\n",
       "      <th>total_intervention_distance</th>\n",
       "      <th>Risky</th>\n",
       "      <th>Probability_Risk</th>\n",
       "    </tr>\n",
       "  </thead>\n",
       "  <tbody>\n",
       "    <tr>\n",
       "      <th>0</th>\n",
       "      <td>20223420107</td>\n",
       "      <td>HB UR BRUX Iris Sud Etterbeek (PIT)</td>\n",
       "      <td>PIT</td>\n",
       "      <td>N5</td>\n",
       "      <td>BXL</td>\n",
       "      <td>10</td>\n",
       "      <td>84.0</td>\n",
       "      <td>1418.0</td>\n",
       "      <td>5540.210104</td>\n",
       "      <td>0</td>\n",
       "      <td>morning</td>\n",
       "      <td>True</td>\n",
       "      <td>Brussel</td>\n",
       "      <td>6958.210104</td>\n",
       "      <td>1</td>\n",
       "      <td>0.109268</td>\n",
       "    </tr>\n",
       "    <tr>\n",
       "      <th>1</th>\n",
       "      <td>20223390102</td>\n",
       "      <td>HB UR BRUX CHU ST-PIERRE (PIT)</td>\n",
       "      <td>PIT</td>\n",
       "      <td>N5</td>\n",
       "      <td>BXL</td>\n",
       "      <td>9</td>\n",
       "      <td>43.0</td>\n",
       "      <td>1945.0</td>\n",
       "      <td>1338.543238</td>\n",
       "      <td>0</td>\n",
       "      <td>morning</td>\n",
       "      <td>True</td>\n",
       "      <td>Brussel</td>\n",
       "      <td>3283.543238</td>\n",
       "      <td>0</td>\n",
       "      <td>0.102999</td>\n",
       "    </tr>\n",
       "    <tr>\n",
       "      <th>2</th>\n",
       "      <td>20230880237</td>\n",
       "      <td>HB UR BRUX Iris Sud Etterbeek (PIT)</td>\n",
       "      <td>PIT</td>\n",
       "      <td>Other</td>\n",
       "      <td>BXL</td>\n",
       "      <td>18</td>\n",
       "      <td>32.0</td>\n",
       "      <td>2249.0</td>\n",
       "      <td>5102.633242</td>\n",
       "      <td>0</td>\n",
       "      <td>evening</td>\n",
       "      <td>True</td>\n",
       "      <td>Brussel</td>\n",
       "      <td>7351.633242</td>\n",
       "      <td>0</td>\n",
       "      <td>0.173590</td>\n",
       "    </tr>\n",
       "    <tr>\n",
       "      <th>3</th>\n",
       "      <td>60222810138</td>\n",
       "      <td>HG UR LIEG CHR Citadelle | PIT</td>\n",
       "      <td>PIT</td>\n",
       "      <td>Other</td>\n",
       "      <td>LIE</td>\n",
       "      <td>11</td>\n",
       "      <td>71.0</td>\n",
       "      <td>4514.0</td>\n",
       "      <td>3762.203850</td>\n",
       "      <td>0</td>\n",
       "      <td>noon</td>\n",
       "      <td>False</td>\n",
       "      <td>Waals Gewest</td>\n",
       "      <td>8276.203850</td>\n",
       "      <td>1</td>\n",
       "      <td>0.204706</td>\n",
       "    </tr>\n",
       "    <tr>\n",
       "      <th>4</th>\n",
       "      <td>90222950115</td>\n",
       "      <td>HN UR NAMU CHR | PIT</td>\n",
       "      <td>PIT</td>\n",
       "      <td>Other</td>\n",
       "      <td>NAM</td>\n",
       "      <td>15</td>\n",
       "      <td>66.0</td>\n",
       "      <td>9288.0</td>\n",
       "      <td>8277.993468</td>\n",
       "      <td>0</td>\n",
       "      <td>afternoon</td>\n",
       "      <td>False</td>\n",
       "      <td>Waals Gewest</td>\n",
       "      <td>17565.993468</td>\n",
       "      <td>0</td>\n",
       "      <td>0.328559</td>\n",
       "    </tr>\n",
       "    <tr>\n",
       "      <th>...</th>\n",
       "      <td>...</td>\n",
       "      <td>...</td>\n",
       "      <td>...</td>\n",
       "      <td>...</td>\n",
       "      <td>...</td>\n",
       "      <td>...</td>\n",
       "      <td>...</td>\n",
       "      <td>...</td>\n",
       "      <td>...</td>\n",
       "      <td>...</td>\n",
       "      <td>...</td>\n",
       "      <td>...</td>\n",
       "      <td>...</td>\n",
       "      <td>...</td>\n",
       "      <td>...</td>\n",
       "      <td>...</td>\n",
       "    </tr>\n",
       "    <tr>\n",
       "      <th>265948</th>\n",
       "      <td>50223380421</td>\n",
       "      <td>FH PDS CHIM Hainaut Est</td>\n",
       "      <td>Ambulance</td>\n",
       "      <td>Other</td>\n",
       "      <td>HAI</td>\n",
       "      <td>12</td>\n",
       "      <td>7.0</td>\n",
       "      <td>31.0</td>\n",
       "      <td>1829.836575</td>\n",
       "      <td>0</td>\n",
       "      <td>noon</td>\n",
       "      <td>False</td>\n",
       "      <td>Waals Gewest</td>\n",
       "      <td>1860.836575</td>\n",
       "      <td>0</td>\n",
       "      <td>0.130890</td>\n",
       "    </tr>\n",
       "    <tr>\n",
       "      <th>265949</th>\n",
       "      <td>50223380422</td>\n",
       "      <td>FH PDS ATH_ Wallonie Picarde</td>\n",
       "      <td>Ambulance</td>\n",
       "      <td>N5</td>\n",
       "      <td>HAI</td>\n",
       "      <td>12</td>\n",
       "      <td>65.0</td>\n",
       "      <td>2613.0</td>\n",
       "      <td>6701.518834</td>\n",
       "      <td>0</td>\n",
       "      <td>noon</td>\n",
       "      <td>False</td>\n",
       "      <td>Waals Gewest</td>\n",
       "      <td>9314.518834</td>\n",
       "      <td>0</td>\n",
       "      <td>0.126030</td>\n",
       "    </tr>\n",
       "    <tr>\n",
       "      <th>265950</th>\n",
       "      <td>50223380424</td>\n",
       "      <td>FH PDS CHAR [Marcinelle] Hainaut Est</td>\n",
       "      <td>Ambulance</td>\n",
       "      <td>N5</td>\n",
       "      <td>HAI</td>\n",
       "      <td>12</td>\n",
       "      <td>42.0</td>\n",
       "      <td>8231.0</td>\n",
       "      <td>14468.877626</td>\n",
       "      <td>0</td>\n",
       "      <td>noon</td>\n",
       "      <td>False</td>\n",
       "      <td>Waals Gewest</td>\n",
       "      <td>22699.877626</td>\n",
       "      <td>0</td>\n",
       "      <td>0.248055</td>\n",
       "    </tr>\n",
       "    <tr>\n",
       "      <th>265951</th>\n",
       "      <td>50223380436</td>\n",
       "      <td>FH PDS CHIE Hainaut Centre</td>\n",
       "      <td>Ambulance</td>\n",
       "      <td>N5</td>\n",
       "      <td>HAI</td>\n",
       "      <td>13</td>\n",
       "      <td>81.0</td>\n",
       "      <td>2754.0</td>\n",
       "      <td>22821.020233</td>\n",
       "      <td>0</td>\n",
       "      <td>noon</td>\n",
       "      <td>False</td>\n",
       "      <td>Waals Gewest</td>\n",
       "      <td>25575.020233</td>\n",
       "      <td>1</td>\n",
       "      <td>0.189766</td>\n",
       "    </tr>\n",
       "    <tr>\n",
       "      <th>265952</th>\n",
       "      <td>20231510400</td>\n",
       "      <td>FB PDS BRUX [Caserne HÈliport] SIAMU</td>\n",
       "      <td>Ambulance</td>\n",
       "      <td>N5</td>\n",
       "      <td>BXL</td>\n",
       "      <td>23</td>\n",
       "      <td>41.0</td>\n",
       "      <td>608.0</td>\n",
       "      <td>391655.508305</td>\n",
       "      <td>0</td>\n",
       "      <td>night</td>\n",
       "      <td>False</td>\n",
       "      <td>Brussel</td>\n",
       "      <td>392263.508305</td>\n",
       "      <td>0</td>\n",
       "      <td>0.185923</td>\n",
       "    </tr>\n",
       "  </tbody>\n",
       "</table>\n",
       "<p>265953 rows × 16 columns</p>\n",
       "</div>"
      ],
      "text/plain": [
       "         Mission ID                          Service Name Vector type  \\\n",
       "0       20223420107   HB UR BRUX Iris Sud Etterbeek (PIT)         PIT   \n",
       "1       20223390102        HB UR BRUX CHU ST-PIERRE (PIT)         PIT   \n",
       "2       20230880237   HB UR BRUX Iris Sud Etterbeek (PIT)         PIT   \n",
       "3       60222810138        HG UR LIEG CHR Citadelle | PIT         PIT   \n",
       "4       90222950115                  HN UR NAMU CHR | PIT         PIT   \n",
       "...             ...                                   ...         ...   \n",
       "265948  50223380421               FH PDS CHIM Hainaut Est   Ambulance   \n",
       "265949  50223380422          FH PDS ATH_ Wallonie Picarde   Ambulance   \n",
       "265950  50223380424  FH PDS CHAR [Marcinelle] Hainaut Est   Ambulance   \n",
       "265951  50223380436            FH PDS CHIE Hainaut Centre   Ambulance   \n",
       "265952  20231510400  FB PDS BRUX [Caserne HÈliport] SIAMU   Ambulance   \n",
       "\n",
       "       EventLevel Trip Province intervention  T0  Intervention duration  \\\n",
       "0                   N5                   BXL  10                   84.0   \n",
       "1                   N5                   BXL   9                   43.0   \n",
       "2                Other                   BXL  18                   32.0   \n",
       "3                Other                   LIE  11                   71.0   \n",
       "4                Other                   NAM  15                   66.0   \n",
       "...                ...                   ...  ..                    ...   \n",
       "265948           Other                   HAI  12                    7.0   \n",
       "265949              N5                   HAI  12                   65.0   \n",
       "265950              N5                   HAI  12                   42.0   \n",
       "265951              N5                   HAI  13                   81.0   \n",
       "265952              N5                   BXL  23                   41.0   \n",
       "\n",
       "        Calculated Distance destination  distance_to_intervention  Abandoned  \\\n",
       "0                                1418.0               5540.210104          0   \n",
       "1                                1945.0               1338.543238          0   \n",
       "2                                2249.0               5102.633242          0   \n",
       "3                                4514.0               3762.203850          0   \n",
       "4                                9288.0               8277.993468          0   \n",
       "...                                 ...                       ...        ...   \n",
       "265948                             31.0               1829.836575          0   \n",
       "265949                           2613.0               6701.518834          0   \n",
       "265950                           8231.0              14468.877626          0   \n",
       "265951                           2754.0              22821.020233          0   \n",
       "265952                            608.0             391655.508305          0   \n",
       "\n",
       "       time_period  rush_hour        Region  total_intervention_distance  \\\n",
       "0          morning       True       Brussel                  6958.210104   \n",
       "1          morning       True       Brussel                  3283.543238   \n",
       "2          evening       True       Brussel                  7351.633242   \n",
       "3             noon      False  Waals Gewest                  8276.203850   \n",
       "4        afternoon      False  Waals Gewest                 17565.993468   \n",
       "...            ...        ...           ...                          ...   \n",
       "265948        noon      False  Waals Gewest                  1860.836575   \n",
       "265949        noon      False  Waals Gewest                  9314.518834   \n",
       "265950        noon      False  Waals Gewest                 22699.877626   \n",
       "265951        noon      False  Waals Gewest                 25575.020233   \n",
       "265952       night      False       Brussel                392263.508305   \n",
       "\n",
       "        Risky  Probability_Risk  \n",
       "0           1          0.109268  \n",
       "1           0          0.102999  \n",
       "2           0          0.173590  \n",
       "3           1          0.204706  \n",
       "4           0          0.328559  \n",
       "...       ...               ...  \n",
       "265948      0          0.130890  \n",
       "265949      0          0.126030  \n",
       "265950      0          0.248055  \n",
       "265951      1          0.189766  \n",
       "265952      0          0.185923  \n",
       "\n",
       "[265953 rows x 16 columns]"
      ]
     },
     "execution_count": 25,
     "metadata": {},
     "output_type": "execute_result"
    }
   ],
   "source": [
    "interventions_risk"
   ]
  },
  {
   "cell_type": "code",
   "execution_count": 51,
   "metadata": {},
   "outputs": [],
   "source": [
    "interventions_risk_line = interventions_risk.groupby([\"Province intervention\",\"time_period\"])[\"Intervention duration\"].mean().to_frame().reset_index()\n",
    "old_to_new_name = {\"ANT\":\"Antwerpen\",\"BRW\":\"Brabant Wallon\",\"BXL\":\"Bruxelles-Brussel\",\"HAI\":\"Hainaut\",\"LIE\":\"Liège\",\"LIM\":\"Limburg\",\"LUX\":\"Luxembourg\",\"NAM\":\"Namur\"}\n",
    "interventions_risk_line['Province intervention'] = interventions_risk_line['Province intervention'].replace(old_to_new_name)\n",
    "\n",
    "\n",
    "order = ['morning', 'noon', 'afternoon', 'evening', 'night', 'midnight']\n",
    "interventions_risk_line['time_period'] = pd.Categorical(interventions_risk_line['time_period'], categories=order, ordered=True)\n",
    "interventions_risk_line = interventions_risk_line.sort_values(['Province intervention', 'time_period']).reset_index(drop=True)\n",
    "interventions_risk_line[\"time_period\"] = interventions_risk_line[\"time_period\"].apply(lambda x: x.capitalize())\n",
    "\n",
    "labels = {\"time_period\":\"Time of Day\", \"Province intervention\":\"Province Name\", \"Intervention duration\":\"Duration of Intervention\"}\n",
    "\n",
    "fig_line_interv = px.line(interventions_risk_line, x=\"time_period\", \n",
    "              y=\"Intervention duration\", \n",
    "              color='Province intervention', \n",
    "              labels=labels, \n",
    "              title=\"Duration of Intervention per Time of Day for each Province\")\n",
    "# fig_line_interv.show()"
   ]
  },
  {
   "cell_type": "code",
   "execution_count": 52,
   "metadata": {},
   "outputs": [],
   "source": [
    "interventions_risk_line = interventions_risk.groupby([\"Province intervention\",\"time_period\"])[\"Intervention duration\"].mean().to_frame().reset_index()\n",
    "\n",
    "\n",
    "new_names = {\"morning\":\"Early Morning {08.00-10.00}\", \"noon\":\"Morning {10.00-13.00}\",\n",
    "          \"afternoon\":\"Afternoon {13.00-16.00}\",\"evening\":\"Evening {16.00-19.00}\",\n",
    "          \"night\":\"Night {19.00-23.00}\",\"midnight\":\"Midnight-Dawn{23.00-08.00}\"}\n",
    "\n",
    "def change_text(text):\n",
    "    if text in new_names.keys():\n",
    "        new_text = new_names[text]\n",
    "    else:\n",
    "        new_text = new_text\n",
    "    return new_text\n",
    "\n",
    "interventions_risk_line[\"time_period\"] = interventions_risk_line[\"time_period\"].apply(change_text)\n",
    "\n",
    "old_to_new_name = {\"ANT\":\"antwerpen\",\"BRW\":\"brabant wallon\",\"BXL\":\"bruxelles-brussel\",\"HAI\":\"hainaut\",\"LIE\":\"liège\",\"LIM\":\"limburg\",\"LUX\":\"luxembourg\",\"NAM\":\"namur\"}\n",
    "interventions_risk_line['Province intervention'] = interventions_risk_line['Province intervention'].replace(old_to_new_name)\n",
    "interventions_risk_line[\"Province intervention\"] = interventions_risk_line[\"Province intervention\"].apply(lambda x: x.capitalize())\n",
    "\n",
    "interventions_risk_line_period = interventions_risk_line[interventions_risk_line[\"time_period\"]==\"Early Morning {08.00-10.00}\"].reset_index(drop=True)\n",
    "\n",
    "time_of_day = interventions_risk_line_period[\"time_period\"][0]\n",
    "\n",
    "labels = {\"Province intervention\":\"Province\", \"Intervention duration\":\"Intervention Duration\"}\n",
    "\n",
    "fig = px.bar(interventions_risk_line_period  , \n",
    "             x='Province intervention', \n",
    "             y='Intervention duration', \n",
    "             color=\"Province intervention\",\n",
    "             title=f\"Average Intervention Duration per Province during {time_of_day}\",\n",
    "            labels=labels)\n",
    "\n",
    "# fig.show()\n"
   ]
  },
  {
   "cell_type": "code",
   "execution_count": null,
   "metadata": {},
   "outputs": [],
   "source": []
  },
  {
   "cell_type": "code",
   "execution_count": null,
   "metadata": {},
   "outputs": [],
   "source": []
  },
  {
   "cell_type": "code",
   "execution_count": 53,
   "metadata": {},
   "outputs": [],
   "source": [
    "interventions_risk = pd.read_csv(r\"C:\\KU Leuven\\Modern Data Analytics - MDA\\MDA Project\\MDA\\Interventions_risky_probability.csv\", index_col=False)\n",
    "\n",
    "interventions_risk_grouped = interventions_risk.groupby([\"Province intervention\",\"time_period\"])[\"Intervention duration\"].mean().to_frame().reset_index()\n",
    "\n",
    "interventions_risk_grouped = interventions_risk_grouped.pivot(index='Province intervention', columns='time_period', values='Intervention duration')\n",
    "\n",
    "interventions_risk_grouped.reset_index()\n",
    "interventions_risk_grouped.columns.name = None\n",
    "\n",
    "interventions_risk_grouped = interventions_risk_grouped.reset_index()\n",
    "\n",
    "interventions_risk_grouped= interventions_risk_grouped.rename(columns={'Province intervention': 'province'})\n",
    "old_to_new_name = {\"ANT\":\"antwerpen\",\"BRW\":\"brabant wallon\",\"BXL\":\"bruxelles-brussel\",\"HAI\":\"hainaut\",\"LIE\":\"liège\",\"LIM\":\"limburg\",\"LUX\":\"luxembourg\",\"NAM\":\"namur\"}\n",
    "interventions_risk_grouped['province'] = interventions_risk_grouped['province'].replace(old_to_new_name)\n",
    "\n",
    "# interventions_risk_grouped\n",
    "\n",
    "area_provinces_risk_new = area_provinces_risk.merge(interventions_risk_grouped, on=\"province\")\n",
    "\n",
    "df = px.data.election()\n",
    "geo_df = gpd.GeoDataFrame.from_features(\n",
    "    px.data.election_geojson()[\"features\"]\n",
    ").merge(df, on=\"district\").set_index(\"district\")\n",
    "\n",
    "labels = {\"morning\":\"Early Morning {08.00-10.00}\", \"noon\":\"Morning {10.00-13.00}\",\n",
    "          \"afternoon\":\"Afternoon {13.00-16.00}\",\"evening\":\"Evening {16.00-19.00}\",\n",
    "          \"night\":\"Night {19.00-23.00}\",\"midnight\":\"Midnight-Dawn{23.00-08.00}\"}\n",
    "# hover_data = {\"area_provinces_risk.index\":False}\n",
    "\n",
    "fig_intervention = px.choropleth_mapbox(area_provinces_risk_new,\n",
    "                           geojson=area_provinces_risk_new.geometry,\n",
    "                           locations=area_provinces_risk_new.index,\n",
    "                           hover_name = \"province_cap\",\n",
    "                           color=\"morning\",\n",
    "                           center={\"lat\":50.87273172382932 , \"lon\": 4.590610254578612},\n",
    "                           mapbox_style=\"carto-positron\",\n",
    "                           title=\"Average Intervention Duration\",\n",
    "                           labels=labels,\n",
    "                        #    hover_data = hover_data,\n",
    "                           zoom=6.5)\n",
    "\n",
    "# fig_intervention.show()"
   ]
  },
  {
   "cell_type": "markdown",
   "metadata": {},
   "source": [
    "# Probability Slider and Bar Plot with Distances "
   ]
  },
  {
   "cell_type": "code",
   "execution_count": null,
   "metadata": {},
   "outputs": [],
   "source": []
  },
  {
   "cell_type": "code",
   "execution_count": 54,
   "metadata": {},
   "outputs": [],
   "source": [
    "import dash\n",
    "from dash import html, dcc, callback\n",
    "import plotly.express as px\n",
    "import pandas as pd\n",
    "import numpy as np\n",
    "import geopandas as gpd \n",
    "import matplotlib as plt\n",
    "import plotly.io as pio\n",
    "import plotly.graph_objects as go\n",
    "import folium\n",
    "from dash.dependencies import Input, Output\n",
    "\n",
    "# ######################################################## Map and Bar Plot Probability Risk ######################################################\n",
    "\n",
    "################################# Map \n",
    "\n",
    "area_provinces = gpd.read_file(\"C:\\KU Leuven\\Modern Data Analytics - MDA\\MDA Project\\MDA\\Created GeoJSON Files\\AREA_PROVINCES_NEW.geojson\") \n",
    "\n",
    "interventions_risk = pd.read_csv(r\"C:\\KU Leuven\\Modern Data Analytics - MDA\\MDA Project\\MDA\\Interventions_risky_probability.csv\", index_col=False)\n",
    "\n",
    "percentile_75 = interventions_risk['Intervention duration'].quantile(0.75)\n",
    "\n",
    "# provinces_risk = interventions_risk.groupby(\"Province intervention\")[\"Probability_Risk\"].mean().to_frame().reset_index()\n",
    "provinces_risk = interventions_risk.groupby(\"Province intervention\")[[\"Probability_Risk\", \"Calculated Distance destination\",\n",
    "                                                                      \"distance_to_intervention\",\"Intervention duration\"]].mean().reset_index()\n",
    "\n",
    "provinces_risk= provinces_risk.rename(columns={'Province intervention': 'province'})\n",
    "\n",
    "old_to_new_name = {\"ANT\":\"antwerpen\",\"BRW\":\"brabant wallon\",\"BXL\":\"bruxelles-brussel\",\"HAI\":\"hainaut\",\"LIE\":\"liège\",\"LIM\":\"limburg\",\"LUX\":\"luxembourg\",\"NAM\":\"namur\"}\n",
    "provinces_risk['province'] = provinces_risk['province'].replace(old_to_new_name)\n",
    "\n",
    "area_provinces_risk = area_provinces.merge(provinces_risk, on=\"province\",how=\"left\")\n",
    "\n",
    "def convert_str_tuple(text):\n",
    "    lat = float(text.split(\",\")[0].strip('('))\n",
    "    long = float(text.split(\",\")[1].strip().strip(')'))\n",
    "    return (lat,long)\n",
    "\n",
    "# area_provinces_risk[\"center\"] = area_provinces_risk[\"center\"].apply(convert_str_tuple)\n",
    "\n",
    "# brussels_center = area_provinces_risk[\"center\"][1]\n",
    "\n",
    "area_provinces_risk[\"province_cap\"] = area_provinces_risk[\"province\"].apply(lambda x: x.capitalize())\n",
    "                \n",
    "df = px.data.election()\n",
    "geo_df = gpd.GeoDataFrame.from_features(\n",
    "    px.data.election_geojson()[\"features\"]\n",
    ").merge(df, on=\"district\").set_index(\"district\")\n",
    "\n",
    "labels = {\"Probability_Risk\":\"Average Predicted Probability\"}\n",
    "# hover_data = {\"area_provinces_risk.index\":False}\n",
    "\n",
    "fig_risk_map = px.choropleth_mapbox(area_provinces_risk,\n",
    "                           geojson=area_provinces_risk.geometry,\n",
    "                           locations=area_provinces_risk.index,\n",
    "                           hover_name = \"province_cap\",\n",
    "                           color=\"Probability_Risk\",\n",
    "                           center={\"lat\":50.87273172382932 , \"lon\": 4.590610254578612},\n",
    "                           mapbox_style=\"carto-positron\",\n",
    "                           title=\"Average Predicted Probability of Intervention Duration > 68.0 (75th Percentile)\",\n",
    "                           labels=labels,\n",
    "                        #    hover_data = hover_data,\n",
    "                           zoom=6.5)\n",
    "# fig.show()\n",
    "\n",
    "###################### Bar Plot\n",
    "\n",
    "area_provinces_risk = area_provinces.merge(provinces_risk, on=\"province\")\n",
    "area_provinces_risk[\"province_cap\"] = area_provinces_risk[\"province\"].apply(lambda x: x.capitalize())\n",
    "\n",
    "fig_bar = go.Figure(\n",
    "    data=go.Bar(\n",
    "        x=area_provinces_risk[\"province_cap\"],\n",
    "        y=area_provinces_risk[\"Calculated Distance destination\"],\n",
    "        name=\"Provinces\",\n",
    "        marker=dict(color=\"paleturquoise\"),\n",
    "\n",
    "    )\n",
    ")\n",
    "\n",
    "fig_bar.add_trace(\n",
    "    go.Bar(\n",
    "        x=area_provinces_risk[\"province_cap\"],\n",
    "        y=area_provinces_risk[\"Probability_Risk\"],\n",
    "        name=\"Probability_Risk\",\n",
    "        marker=dict(color=\"crimson\"),\n",
    "    )\n",
    ")\n",
    "\n",
    "\n",
    "fig_bar.add_trace(\n",
    "    go.Scatter(\n",
    "        x=area_provinces_risk[\"province_cap\"],\n",
    "        y=area_provinces_risk[\"Probability_Risk\"],\n",
    "        yaxis=\"y2\",\n",
    "        name=\"Probability\",\n",
    "        marker=dict(color=\"crimson\"),\n",
    "    )\n",
    ")\n",
    "# fig_bar.add_trace(\n",
    "#     go.Scatter(\n",
    "#         x=area_provinces_risk[\"province_cap\"],\n",
    "#         y=area_provinces_risk[\"Intervention duration\"],\n",
    "#         yaxis=\"y2\",\n",
    "#         name=\"Probability\",\n",
    "#         marker=dict(color=\"crimson\"),\n",
    "#     )\n",
    "# )\n",
    "\n",
    "\n",
    "\n",
    "fig_bar.update_layout(\n",
    "    title=\"Distance to Hospital vs Average Predicted Probality of Intervention Delay\",\n",
    "    # title=\"Distance to Hospital vs Average Intervention Duration\",\n",
    "    legend=dict(orientation=\"h\"),\n",
    "    yaxis=dict(\n",
    "        title=dict(text=\"Distance to Hospital (Meters)\"),\n",
    "        side=\"left\",\n",
    "        range=[0, 17000],\n",
    "    ),\n",
    "    yaxis2=dict(\n",
    "        title=dict(text=\"Avg. Predicted Probabity of Delay\"),\n",
    "        side=\"right\",\n",
    "        range=[0.1, 0.45],\n",
    "        overlaying=\"y\",\n",
    "        tickmode=\"sync\",\n",
    "    ),\n",
    "#    yaxis2=dict(\n",
    "#         title=dict(text=\"Avg. Predicted Probabity of Delay\"),\n",
    "#         side=\"right\",\n",
    "#         range=[50, 70],\n",
    "#         overlaying=\"y\",\n",
    "#         tickmode=\"sync\",\n",
    "#     ),\n",
    ")\n",
    "\n",
    "# fig.show()\n",
    "\n",
    "\n",
    "# fig.show()\n",
    "\n",
    "# ################################################################################################################################################################\n",
    "\n",
    "# ######################################################### Map Intervention Duration and Line Plot ###############################################################\n",
    "\n",
    "interventions_risk_grouped = interventions_risk.groupby([\"Province intervention\",\"time_period\"])[\"Intervention duration\"].mean().to_frame().reset_index()\n",
    "\n",
    "interventions_risk_grouped = interventions_risk_grouped.pivot(index='Province intervention', columns='time_period', values='Intervention duration')\n",
    "\n",
    "interventions_risk_grouped.reset_index()\n",
    "interventions_risk_grouped.columns.name = None\n",
    "\n",
    "interventions_risk_grouped = interventions_risk_grouped.reset_index()\n",
    "\n",
    "interventions_risk_grouped= interventions_risk_grouped.rename(columns={'Province intervention': 'province'})\n",
    "old_to_new_name = {\"ANT\":\"antwerpen\",\"BRW\":\"brabant wallon\",\"BXL\":\"bruxelles-brussel\",\"HAI\":\"hainaut\",\"LIE\":\"liège\",\"LIM\":\"limburg\",\"LUX\":\"luxembourg\",\"NAM\":\"namur\"}\n",
    "interventions_risk_grouped['province'] = interventions_risk_grouped['province'].replace(old_to_new_name)\n",
    "\n",
    "# interventions_risk_grouped\n",
    "\n",
    "area_provinces_risk_new = area_provinces_risk.merge(interventions_risk_grouped, on=\"province\")\n",
    "\n",
    "df = px.data.election()\n",
    "geo_df = gpd.GeoDataFrame.from_features(\n",
    "    px.data.election_geojson()[\"features\"]\n",
    ").merge(df, on=\"district\").set_index(\"district\")\n",
    "\n",
    "labels = {\"morning\":\"Early Morning {08.00-10.00}\", \"noon\":\"Morning {10.00-13.00}\",\n",
    "          \"afternoon\":\"Afternoon {13.00-16.00}\",\"evening\":\"Evening {16.00-19.00}\",\n",
    "          \"night\":\"Night {19.00-23.00}\",\"midnight\":\"Midnight-Dawn{23.00-08.00}\"}\n",
    "# hover_data = {\"area_provinces_risk.index\":False}\n",
    "\n",
    "fig_intervention = px.choropleth_mapbox(area_provinces_risk_new,\n",
    "                           geojson=area_provinces_risk_new.geometry,\n",
    "                           locations=area_provinces_risk_new.index,\n",
    "                           hover_name = \"province_cap\",\n",
    "                           color=\"morning\",\n",
    "                           center={\"lat\":50.87273172382932 , \"lon\": 4.590610254578612},\n",
    "                           mapbox_style=\"carto-positron\",\n",
    "                           title=\"Average Intervention Duration\",\n",
    "                           labels=labels,\n",
    "                        #    hover_data = hover_data,\n",
    "                           zoom=6.5)\n",
    "# fig_intervention.show()"
   ]
  },
  {
   "cell_type": "code",
   "execution_count": 7,
   "metadata": {},
   "outputs": [
    {
     "data": {
      "text/html": [
       "<div>\n",
       "<style scoped>\n",
       "    .dataframe tbody tr th:only-of-type {\n",
       "        vertical-align: middle;\n",
       "    }\n",
       "\n",
       "    .dataframe tbody tr th {\n",
       "        vertical-align: top;\n",
       "    }\n",
       "\n",
       "    .dataframe thead th {\n",
       "        text-align: right;\n",
       "    }\n",
       "</style>\n",
       "<table border=\"1\" class=\"dataframe\">\n",
       "  <thead>\n",
       "    <tr style=\"text-align: right;\">\n",
       "      <th></th>\n",
       "      <th>province</th>\n",
       "      <th>area_klm2</th>\n",
       "      <th>center</th>\n",
       "      <th>geometry</th>\n",
       "      <th>Probability_Risk</th>\n",
       "      <th>Calculated Distance destination</th>\n",
       "      <th>distance_to_intervention</th>\n",
       "      <th>Intervention duration</th>\n",
       "      <th>province_cap</th>\n",
       "      <th>afternoon</th>\n",
       "      <th>evening</th>\n",
       "      <th>midnight</th>\n",
       "      <th>morning</th>\n",
       "      <th>night</th>\n",
       "      <th>noon</th>\n",
       "    </tr>\n",
       "  </thead>\n",
       "  <tbody>\n",
       "    <tr>\n",
       "      <th>0</th>\n",
       "      <td>antwerpen</td>\n",
       "      <td>7323.997641</td>\n",
       "      <td>(51.229679165931266, 4.719820314416564)</td>\n",
       "      <td>MULTIPOLYGON (((4.94209 51.45524, 4.94062 51.4...</td>\n",
       "      <td>0.231059</td>\n",
       "      <td>7152.612682</td>\n",
       "      <td>6.633850e+03</td>\n",
       "      <td>57.456587</td>\n",
       "      <td>Antwerpen</td>\n",
       "      <td>57.899843</td>\n",
       "      <td>58.420567</td>\n",
       "      <td>56.220580</td>\n",
       "      <td>59.048242</td>\n",
       "      <td>55.942440</td>\n",
       "      <td>57.250911</td>\n",
       "    </tr>\n",
       "    <tr>\n",
       "      <th>1</th>\n",
       "      <td>bruxelles-brussel</td>\n",
       "      <td>406.990727</td>\n",
       "      <td>(50.836032848225344, 4.3706868102113186)</td>\n",
       "      <td>POLYGON ((4.40633 50.91309, 4.40722 50.91295, ...</td>\n",
       "      <td>0.170976</td>\n",
       "      <td>2653.396699</td>\n",
       "      <td>4.929415e+09</td>\n",
       "      <td>51.423148</td>\n",
       "      <td>Bruxelles-brussel</td>\n",
       "      <td>53.299428</td>\n",
       "      <td>52.206182</td>\n",
       "      <td>48.174917</td>\n",
       "      <td>52.866010</td>\n",
       "      <td>50.114319</td>\n",
       "      <td>51.436569</td>\n",
       "    </tr>\n",
       "    <tr>\n",
       "      <th>2</th>\n",
       "      <td>brabant wallon</td>\n",
       "      <td>2728.216099</td>\n",
       "      <td>(50.66933278511629, 4.583786485041254)</td>\n",
       "      <td>POLYGON ((4.75386 50.80639, 4.75387 50.80639, ...</td>\n",
       "      <td>0.271696</td>\n",
       "      <td>9190.107188</td>\n",
       "      <td>7.051673e+03</td>\n",
       "      <td>60.474490</td>\n",
       "      <td>Brabant wallon</td>\n",
       "      <td>61.517115</td>\n",
       "      <td>61.397254</td>\n",
       "      <td>58.209796</td>\n",
       "      <td>60.582242</td>\n",
       "      <td>60.479196</td>\n",
       "      <td>60.824048</td>\n",
       "    </tr>\n",
       "    <tr>\n",
       "      <th>3</th>\n",
       "      <td>hainaut</td>\n",
       "      <td>9401.428447</td>\n",
       "      <td>(50.46969476722217, 3.959399551550251)</td>\n",
       "      <td>MULTIPOLYGON (((3.71031 50.78190, 3.71065 50.7...</td>\n",
       "      <td>0.244601</td>\n",
       "      <td>7645.389344</td>\n",
       "      <td>8.024464e+03</td>\n",
       "      <td>57.200118</td>\n",
       "      <td>Hainaut</td>\n",
       "      <td>58.471239</td>\n",
       "      <td>57.444444</td>\n",
       "      <td>55.530421</td>\n",
       "      <td>57.971012</td>\n",
       "      <td>56.783756</td>\n",
       "      <td>57.059406</td>\n",
       "    </tr>\n",
       "    <tr>\n",
       "      <th>4</th>\n",
       "      <td>liège</td>\n",
       "      <td>9531.529485</td>\n",
       "      <td>(50.520548064389395, 5.736605195342704)</td>\n",
       "      <td>POLYGON ((6.13338 50.12956, 6.13309 50.12968, ...</td>\n",
       "      <td>0.238845</td>\n",
       "      <td>7582.281672</td>\n",
       "      <td>6.904114e+03</td>\n",
       "      <td>55.168743</td>\n",
       "      <td>Liège</td>\n",
       "      <td>55.839464</td>\n",
       "      <td>55.631125</td>\n",
       "      <td>53.472568</td>\n",
       "      <td>55.784165</td>\n",
       "      <td>54.555438</td>\n",
       "      <td>55.710863</td>\n",
       "    </tr>\n",
       "    <tr>\n",
       "      <th>5</th>\n",
       "      <td>limburg</td>\n",
       "      <td>6119.002346</td>\n",
       "      <td>(50.9914931483222, 5.4291859343176005)</td>\n",
       "      <td>MULTIPOLYGON (((5.77703 50.78285, 5.77662 50.7...</td>\n",
       "      <td>0.304816</td>\n",
       "      <td>9759.325397</td>\n",
       "      <td>8.331373e+03</td>\n",
       "      <td>60.596048</td>\n",
       "      <td>Limburg</td>\n",
       "      <td>61.275133</td>\n",
       "      <td>60.742746</td>\n",
       "      <td>59.865909</td>\n",
       "      <td>60.505199</td>\n",
       "      <td>60.369967</td>\n",
       "      <td>60.689808</td>\n",
       "    </tr>\n",
       "    <tr>\n",
       "      <th>6</th>\n",
       "      <td>luxembourg</td>\n",
       "      <td>10763.967091</td>\n",
       "      <td>(49.96172789168535, 5.513349067860746)</td>\n",
       "      <td>POLYGON ((5.43891 50.42170, 5.43908 50.42165, ...</td>\n",
       "      <td>0.415180</td>\n",
       "      <td>15990.365760</td>\n",
       "      <td>8.934386e+03</td>\n",
       "      <td>65.588597</td>\n",
       "      <td>Luxembourg</td>\n",
       "      <td>64.915291</td>\n",
       "      <td>65.033882</td>\n",
       "      <td>67.738950</td>\n",
       "      <td>64.256750</td>\n",
       "      <td>68.010504</td>\n",
       "      <td>64.029583</td>\n",
       "    </tr>\n",
       "    <tr>\n",
       "      <th>7</th>\n",
       "      <td>namur</td>\n",
       "      <td>8980.230372</td>\n",
       "      <td>(50.255711368155666, 4.852274083064385)</td>\n",
       "      <td>POLYGON ((4.97055 50.64532, 4.97142 50.64479, ...</td>\n",
       "      <td>0.333611</td>\n",
       "      <td>12230.340030</td>\n",
       "      <td>8.451938e+03</td>\n",
       "      <td>59.008929</td>\n",
       "      <td>Namur</td>\n",
       "      <td>59.212340</td>\n",
       "      <td>58.775947</td>\n",
       "      <td>59.156752</td>\n",
       "      <td>59.953959</td>\n",
       "      <td>58.100025</td>\n",
       "      <td>58.786683</td>\n",
       "    </tr>\n",
       "  </tbody>\n",
       "</table>\n",
       "</div>"
      ],
      "text/plain": [
       "            province     area_klm2                                    center  \\\n",
       "0          antwerpen   7323.997641   (51.229679165931266, 4.719820314416564)   \n",
       "1  bruxelles-brussel    406.990727  (50.836032848225344, 4.3706868102113186)   \n",
       "2     brabant wallon   2728.216099    (50.66933278511629, 4.583786485041254)   \n",
       "3            hainaut   9401.428447    (50.46969476722217, 3.959399551550251)   \n",
       "4              liège   9531.529485   (50.520548064389395, 5.736605195342704)   \n",
       "5            limburg   6119.002346    (50.9914931483222, 5.4291859343176005)   \n",
       "6         luxembourg  10763.967091    (49.96172789168535, 5.513349067860746)   \n",
       "7              namur   8980.230372   (50.255711368155666, 4.852274083064385)   \n",
       "\n",
       "                                            geometry  Probability_Risk  \\\n",
       "0  MULTIPOLYGON (((4.94209 51.45524, 4.94062 51.4...          0.231059   \n",
       "1  POLYGON ((4.40633 50.91309, 4.40722 50.91295, ...          0.170976   \n",
       "2  POLYGON ((4.75386 50.80639, 4.75387 50.80639, ...          0.271696   \n",
       "3  MULTIPOLYGON (((3.71031 50.78190, 3.71065 50.7...          0.244601   \n",
       "4  POLYGON ((6.13338 50.12956, 6.13309 50.12968, ...          0.238845   \n",
       "5  MULTIPOLYGON (((5.77703 50.78285, 5.77662 50.7...          0.304816   \n",
       "6  POLYGON ((5.43891 50.42170, 5.43908 50.42165, ...          0.415180   \n",
       "7  POLYGON ((4.97055 50.64532, 4.97142 50.64479, ...          0.333611   \n",
       "\n",
       "   Calculated Distance destination  distance_to_intervention  \\\n",
       "0                      7152.612682              6.633850e+03   \n",
       "1                      2653.396699              4.929415e+09   \n",
       "2                      9190.107188              7.051673e+03   \n",
       "3                      7645.389344              8.024464e+03   \n",
       "4                      7582.281672              6.904114e+03   \n",
       "5                      9759.325397              8.331373e+03   \n",
       "6                     15990.365760              8.934386e+03   \n",
       "7                     12230.340030              8.451938e+03   \n",
       "\n",
       "   Intervention duration       province_cap  afternoon    evening   midnight  \\\n",
       "0              57.456587          Antwerpen  57.899843  58.420567  56.220580   \n",
       "1              51.423148  Bruxelles-brussel  53.299428  52.206182  48.174917   \n",
       "2              60.474490     Brabant wallon  61.517115  61.397254  58.209796   \n",
       "3              57.200118            Hainaut  58.471239  57.444444  55.530421   \n",
       "4              55.168743              Liège  55.839464  55.631125  53.472568   \n",
       "5              60.596048            Limburg  61.275133  60.742746  59.865909   \n",
       "6              65.588597         Luxembourg  64.915291  65.033882  67.738950   \n",
       "7              59.008929              Namur  59.212340  58.775947  59.156752   \n",
       "\n",
       "     morning      night       noon  \n",
       "0  59.048242  55.942440  57.250911  \n",
       "1  52.866010  50.114319  51.436569  \n",
       "2  60.582242  60.479196  60.824048  \n",
       "3  57.971012  56.783756  57.059406  \n",
       "4  55.784165  54.555438  55.710863  \n",
       "5  60.505199  60.369967  60.689808  \n",
       "6  64.256750  68.010504  64.029583  \n",
       "7  59.953959  58.100025  58.786683  "
      ]
     },
     "execution_count": 7,
     "metadata": {},
     "output_type": "execute_result"
    }
   ],
   "source": [
    "area_provinces_risk_new"
   ]
  },
  {
   "cell_type": "code",
   "execution_count": null,
   "metadata": {},
   "outputs": [],
   "source": []
  }
 ],
 "metadata": {
  "kernelspec": {
   "display_name": ".venv",
   "language": "python",
   "name": "python3"
  },
  "language_info": {
   "codemirror_mode": {
    "name": "ipython",
    "version": 3
   },
   "file_extension": ".py",
   "mimetype": "text/x-python",
   "name": "python",
   "nbconvert_exporter": "python",
   "pygments_lexer": "ipython3",
   "version": "3.11.5"
  }
 },
 "nbformat": 4,
 "nbformat_minor": 2
}
