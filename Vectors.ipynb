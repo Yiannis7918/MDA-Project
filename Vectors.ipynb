{
 "cells": [
  {
   "cell_type": "code",
   "execution_count": 1,
   "metadata": {},
   "outputs": [
    {
     "name": "stderr",
     "output_type": "stream",
     "text": [
<<<<<<< HEAD
      "/Users/hy/StaDS/23-24 spring/mda/project/MDA1/.venv/lib/python3.11/site-packages/tqdm/auto.py:21: TqdmWarning: IProgress not found. Please update jupyter and ipywidgets. See https://ipywidgets.readthedocs.io/en/stable/user_install.html\n",
=======
      "/Users/camillecu/waffle/lib/python3.11/site-packages/tqdm/auto.py:21: TqdmWarning: IProgress not found. Please update jupyter and ipywidgets. See https://ipywidgets.readthedocs.io/en/stable/user_install.html\n",
>>>>>>> origin
      "  from .autonotebook import tqdm as notebook_tqdm\n"
     ]
    }
   ],
   "source": [
    "import pandas as pd\n",
<<<<<<< HEAD
    "import sweetviz as sv\n",
    "import os"
=======
    "import gzip\n",
    "import sweetviz as sv\n",
    "import os\n",
    "import glob"
   ]
  },
  {
   "cell_type": "markdown",
   "metadata": {},
   "source": [
    "# Camille -- PIT"
>>>>>>> origin
   ]
  },
  {
   "cell_type": "code",
<<<<<<< HEAD
   "execution_count": 2,
   "metadata": {},
   "outputs": [],
   "source": [
    "folder_path = \"/Users/hy/StaDS/23-24 spring/mda/project/MDA1\"\n",
    "files = os.listdir(folder_path)\n",
    "amb_loc = pd.read_parquet(f\"{folder_path}/ambulance_locations.parquet.gzip\", engine=\"pyarrow\")\n"
=======
   "execution_count": 8,
   "metadata": {},
   "outputs": [],
   "source": [
    "\n",
    "pit_loc = \"/Users/camillecu/Downloads/KUL/MDA/MDA_project/project/pit_locations.parquet.gzip\"\n",
    "pit_loc = pd.read_parquet(pit_loc)\n"
>>>>>>> origin
   ]
  },
  {
   "cell_type": "code",
<<<<<<< HEAD
   "execution_count": 20,
   "metadata": {},
   "outputs": [
    {
     "data": {
      "text/plain": [
       "base                          0\n",
       "medical_resource              0\n",
       "province                     13\n",
       "region                        0\n",
       "departure_location            0\n",
       "departure_location_number     0\n",
       "latitude                      0\n",
       "longitude                     0\n",
       "occasional_permanence         0\n",
       "dtype: int64"
      ]
     },
     "execution_count": 20,
     "metadata": {},
     "output_type": "execute_result"
    }
   ],
   "source": [
    "amb_loc.isna().sum()"
   ]
  },
  {
   "cell_type": "code",
   "execution_count": 19,
   "metadata": {},
   "outputs": [],
   "source": [
    "import geopandas as gpd\n",
    "from shapely.geometry import Point\n",
    "import matplotlib.pyplot as plt\n",
    "from geopy.geocoders import Nominatim\n",
    "import folium\n"
   ]
  },
  {
   "cell_type": "code",
   "execution_count": 22,
=======
   "execution_count": 9,
>>>>>>> origin
   "metadata": {},
   "outputs": [
    {
     "data": {
      "text/html": [
       "<div>\n",
       "<style scoped>\n",
       "    .dataframe tbody tr th:only-of-type {\n",
       "        vertical-align: middle;\n",
       "    }\n",
       "\n",
       "    .dataframe tbody tr th {\n",
       "        vertical-align: top;\n",
       "    }\n",
       "\n",
       "    .dataframe thead th {\n",
       "        text-align: right;\n",
       "    }\n",
       "</style>\n",
       "<table border=\"1\" class=\"dataframe\">\n",
       "  <thead>\n",
       "    <tr style=\"text-align: right;\">\n",
       "      <th></th>\n",
<<<<<<< HEAD
       "      <th>base</th>\n",
       "      <th>medical_resource</th>\n",
       "      <th>province</th>\n",
       "      <th>region</th>\n",
       "      <th>departure_location</th>\n",
       "      <th>departure_location_number</th>\n",
       "      <th>latitude</th>\n",
       "      <th>longitude</th>\n",
       "      <th>occasional_permanence</th>\n",
=======
       "      <th>unit</th>\n",
       "      <th>campus</th>\n",
       "      <th>province</th>\n",
       "      <th>region</th>\n",
       "      <th>unit_id</th>\n",
       "      <th>ambucode</th>\n",
       "      <th>ambusitecode</th>\n",
       "      <th>link</th>\n",
>>>>>>> origin
       "    </tr>\n",
       "  </thead>\n",
       "  <tbody>\n",
       "    <tr>\n",
       "      <th>0</th>\n",
<<<<<<< HEAD
       "      <td>BA ANTW [Borgerhout] AMBUCE</td>\n",
       "      <td>ZW ANTWERPEN 7 (Team: AAANTW07A)</td>\n",
       "      <td>Antwerpen</td>\n",
       "      <td>Vlaams Gewest</td>\n",
       "      <td>Gijselstraat 150 2140 BORGERHOUT</td>\n",
       "      <td>3811</td>\n",
       "      <td>51.215516</td>\n",
       "      <td>4.443788</td>\n",
       "      <td>N</td>\n",
       "    </tr>\n",
       "    <tr>\n",
       "      <th>1</th>\n",
       "      <td>BA ANTW [Hoboken] AMBUCE</td>\n",
       "      <td>ZW ANTWERPEN 9 (Team: AAANTW09A)</td>\n",
       "      <td>Antwerpen</td>\n",
       "      <td>Vlaams Gewest</td>\n",
       "      <td>Antwerpsesteenweg 242 2660 HOBOKEN</td>\n",
       "      <td>3812</td>\n",
       "      <td>51.178831</td>\n",
       "      <td>4.361948</td>\n",
       "      <td>N</td>\n",
       "    </tr>\n",
       "    <tr>\n",
       "      <th>2</th>\n",
       "      <td>BA ANTW [Hof Ter Schelde] AC Antwerpen</td>\n",
       "      <td>ZW ANTWERPEN 3 (Team: AAANTW03A)</td>\n",
       "      <td>Antwerpen</td>\n",
       "      <td>Vlaams Gewest</td>\n",
       "      <td>August Vermeylenlaan 6 2050 ANTWERPEN</td>\n",
       "      <td>10902</td>\n",
       "      <td>51.232810</td>\n",
       "      <td>4.377237</td>\n",
       "      <td>N</td>\n",
       "    </tr>\n",
       "    <tr>\n",
       "      <th>3</th>\n",
       "      <td>BA ANTW [Kaai 606] SIHWA</td>\n",
       "      <td>ZW ANTWERPEN HAVEN 1 (Team: AAAPOR01A)_x000D_Z...</td>\n",
       "      <td>Antwerpen</td>\n",
       "      <td>Vlaams Gewest</td>\n",
       "      <td>Antwerpsebaan 4 (Kaai 606) 2040 ANTWERPEN</td>\n",
       "      <td>12902</td>\n",
       "      <td>51.315516</td>\n",
       "      <td>4.321506</td>\n",
       "      <td>N</td>\n",
       "    </tr>\n",
       "    <tr>\n",
       "      <th>4</th>\n",
       "      <td>BA ANTW [Sint Elisabeth] AC Antwerpen</td>\n",
       "      <td>ZW ANTWERPEN 2 (Team: AAANTW02A)</td>\n",
       "      <td>Antwerpen</td>\n",
       "      <td>Vlaams Gewest</td>\n",
       "      <td>Leopoldstraat 26 2000 ANTWERPEN</td>\n",
       "      <td>10901</td>\n",
       "      <td>51.213623</td>\n",
       "      <td>4.405718</td>\n",
       "      <td>N</td>\n",
       "    </tr>\n",
       "    <tr>\n",
       "      <th>5</th>\n",
       "      <td>BA AREN Gemeente Arendonk</td>\n",
       "      <td>ZW ARENDONK 1 (Team: AAAREN01A)</td>\n",
       "      <td>Antwerpen</td>\n",
       "      <td>Vlaams Gewest</td>\n",
       "      <td>Hovestraat 46 2370 ARENDONK</td>\n",
       "      <td>12101</td>\n",
       "      <td>51.319819</td>\n",
       "      <td>5.089912</td>\n",
       "      <td>N</td>\n",
       "    </tr>\n",
       "    <tr>\n",
       "      <th>6</th>\n",
       "      <td>BA BEER AD BEERSE</td>\n",
       "      <td>ZW BEERSE 1 (Team: AABEER01A)</td>\n",
       "      <td>Antwerpen</td>\n",
       "      <td>Vlaams Gewest</td>\n",
       "      <td>IJzerstraat 3 2340 BEERSE</td>\n",
       "      <td>14701</td>\n",
       "      <td>51.320983</td>\n",
       "      <td>4.856656</td>\n",
       "      <td>N</td>\n",
       "    </tr>\n",
       "    <tr>\n",
       "      <th>7</th>\n",
       "      <td>BA BERL Rode Kruis</td>\n",
       "      <td>ZW BERLAAR 1 (Team: AABERL01A)</td>\n",
       "      <td>Antwerpen</td>\n",
       "      <td>Vlaams Gewest</td>\n",
       "      <td>Zomerstraat 26 2590 BERLAAR</td>\n",
       "      <td>3511</td>\n",
       "      <td>51.114055</td>\n",
       "      <td>4.647246</td>\n",
       "      <td>N</td>\n",
       "    </tr>\n",
       "    <tr>\n",
       "      <th>8</th>\n",
       "      <td>BA ESSE Gemeente Essen</td>\n",
       "      <td>ZW ESSEN 1 (Team: AAESSE01A)</td>\n",
       "      <td>Antwerpen</td>\n",
       "      <td>Vlaams Gewest</td>\n",
       "      <td>Heuvelplein 23 2910 ESSEN</td>\n",
       "      <td>16403</td>\n",
       "      <td>51.464673</td>\n",
       "      <td>4.472551</td>\n",
       "      <td>N</td>\n",
       "    </tr>\n",
       "    <tr>\n",
       "      <th>9</th>\n",
       "      <td>BA HERS Hulshoutse AD</td>\n",
       "      <td>ZW HULSHOUT 1 (Team: AAHERS01A)</td>\n",
       "      <td>Antwerpen</td>\n",
       "      <td>Vlaams Gewest</td>\n",
       "      <td>Harmoniestraat 9A 2230 RAMSEL</td>\n",
       "      <td>16803</td>\n",
       "      <td>51.043064</td>\n",
       "      <td>4.815907</td>\n",
       "      <td>N</td>\n",
=======
       "      <td>100001: PIT Rumst, AZ Rivierland</td>\n",
       "      <td>Ziekenhuis/Hôpital: 104 - AZ RIVIERENLAND --- ...</td>\n",
       "      <td>Antwerpen/Anvers</td>\n",
       "      <td>Vlaanderen/Flandre</td>\n",
       "      <td>PARUMS01A</td>\n",
       "      <td>191</td>\n",
       "      <td>19101</td>\n",
       "      <td>None</td>\n",
       "    </tr>\n",
       "    <tr>\n",
       "      <th>1</th>\n",
       "      <td>102001: PIT Deinze, St Vincentius</td>\n",
       "      <td>Ziekenhuis/Hôpital: 134 - AZ SINT-VINCENTIUS -...</td>\n",
       "      <td>Oost-Vlaanderen/Flandre orientale</td>\n",
       "      <td>Vlaanderen/Flandre</td>\n",
       "      <td>PODEIN01A</td>\n",
       "      <td>413</td>\n",
       "      <td>41301</td>\n",
       "      <td>None</td>\n",
       "    </tr>\n",
       "    <tr>\n",
       "      <th>2</th>\n",
       "      <td>102101: PIT Stuivenberg</td>\n",
       "      <td>Ziekenhuis/Hôpital: 009 - ZIEKENHUISNETWERK AN...</td>\n",
       "      <td>Antwerpen/Anvers</td>\n",
       "      <td>Vlaanderen/Flandre</td>\n",
       "      <td>PAANTW01A</td>\n",
       "      <td>117</td>\n",
       "      <td>11704</td>\n",
       "      <td>None</td>\n",
       "    </tr>\n",
       "    <tr>\n",
       "      <th>3</th>\n",
       "      <td>110001: PIT Lier, Heilig Hart</td>\n",
       "      <td>Ziekenhuis/Hôpital: 097 - HEILIG HART ZIEKENHU...</td>\n",
       "      <td>Antwerpen/Anvers</td>\n",
       "      <td>Vlaanderen/Flandre</td>\n",
       "      <td>PALIER01A</td>\n",
       "      <td>171</td>\n",
       "      <td>17101</td>\n",
       "      <td>None</td>\n",
       "    </tr>\n",
       "    <tr>\n",
       "      <th>4</th>\n",
       "      <td>113001: PIT HEILIG HART ZIEKENHUIS</td>\n",
       "      <td>Ziekenhuis/Hôpital: 102 - HEILIG HART ZIEKENHU...</td>\n",
       "      <td>Antwerpen/Anvers</td>\n",
       "      <td>Vlaanderen/Flandre</td>\n",
       "      <td>PAMOL_01A</td>\n",
       "      <td>190</td>\n",
       "      <td>19001</td>\n",
       "      <td>None</td>\n",
>>>>>>> origin
       "    </tr>\n",
       "  </tbody>\n",
       "</table>\n",
       "</div>"
      ],
      "text/plain": [
<<<<<<< HEAD
       "                                     base  \\\n",
       "0             BA ANTW [Borgerhout] AMBUCE   \n",
       "1                BA ANTW [Hoboken] AMBUCE   \n",
       "2  BA ANTW [Hof Ter Schelde] AC Antwerpen   \n",
       "3                BA ANTW [Kaai 606] SIHWA   \n",
       "4   BA ANTW [Sint Elisabeth] AC Antwerpen   \n",
       "5               BA AREN Gemeente Arendonk   \n",
       "6                       BA BEER AD BEERSE   \n",
       "7                      BA BERL Rode Kruis   \n",
       "8                  BA ESSE Gemeente Essen   \n",
       "9                   BA HERS Hulshoutse AD   \n",
       "\n",
       "                                    medical_resource   province  \\\n",
       "0                   ZW ANTWERPEN 7 (Team: AAANTW07A)  Antwerpen   \n",
       "1                   ZW ANTWERPEN 9 (Team: AAANTW09A)  Antwerpen   \n",
       "2                   ZW ANTWERPEN 3 (Team: AAANTW03A)  Antwerpen   \n",
       "3  ZW ANTWERPEN HAVEN 1 (Team: AAAPOR01A)_x000D_Z...  Antwerpen   \n",
       "4                   ZW ANTWERPEN 2 (Team: AAANTW02A)  Antwerpen   \n",
       "5                    ZW ARENDONK 1 (Team: AAAREN01A)  Antwerpen   \n",
       "6                      ZW BEERSE 1 (Team: AABEER01A)  Antwerpen   \n",
       "7                     ZW BERLAAR 1 (Team: AABERL01A)  Antwerpen   \n",
       "8                       ZW ESSEN 1 (Team: AAESSE01A)  Antwerpen   \n",
       "9                    ZW HULSHOUT 1 (Team: AAHERS01A)  Antwerpen   \n",
       "\n",
       "          region                         departure_location  \\\n",
       "0  Vlaams Gewest           Gijselstraat 150 2140 BORGERHOUT   \n",
       "1  Vlaams Gewest         Antwerpsesteenweg 242 2660 HOBOKEN   \n",
       "2  Vlaams Gewest      August Vermeylenlaan 6 2050 ANTWERPEN   \n",
       "3  Vlaams Gewest  Antwerpsebaan 4 (Kaai 606) 2040 ANTWERPEN   \n",
       "4  Vlaams Gewest            Leopoldstraat 26 2000 ANTWERPEN   \n",
       "5  Vlaams Gewest                Hovestraat 46 2370 ARENDONK   \n",
       "6  Vlaams Gewest                  IJzerstraat 3 2340 BEERSE   \n",
       "7  Vlaams Gewest                Zomerstraat 26 2590 BERLAAR   \n",
       "8  Vlaams Gewest                  Heuvelplein 23 2910 ESSEN   \n",
       "9  Vlaams Gewest              Harmoniestraat 9A 2230 RAMSEL   \n",
       "\n",
       "   departure_location_number   latitude  longitude occasional_permanence  \n",
       "0                       3811  51.215516   4.443788                     N  \n",
       "1                       3812  51.178831   4.361948                     N  \n",
       "2                      10902  51.232810   4.377237                     N  \n",
       "3                      12902  51.315516   4.321506                     N  \n",
       "4                      10901  51.213623   4.405718                     N  \n",
       "5                      12101  51.319819   5.089912                     N  \n",
       "6                      14701  51.320983   4.856656                     N  \n",
       "7                       3511  51.114055   4.647246                     N  \n",
       "8                      16403  51.464673   4.472551                     N  \n",
       "9                      16803  51.043064   4.815907                     N  "
      ]
     },
     "execution_count": 22,
=======
       "                                 unit  \\\n",
       "0    100001: PIT Rumst, AZ Rivierland   \n",
       "1  102001: PIT Deinze, St Vincentius    \n",
       "2             102101: PIT Stuivenberg   \n",
       "3       110001: PIT Lier, Heilig Hart   \n",
       "4  113001: PIT HEILIG HART ZIEKENHUIS   \n",
       "\n",
       "                                              campus  \\\n",
       "0  Ziekenhuis/Hôpital: 104 - AZ RIVIERENLAND --- ...   \n",
       "1  Ziekenhuis/Hôpital: 134 - AZ SINT-VINCENTIUS -...   \n",
       "2  Ziekenhuis/Hôpital: 009 - ZIEKENHUISNETWERK AN...   \n",
       "3  Ziekenhuis/Hôpital: 097 - HEILIG HART ZIEKENHU...   \n",
       "4  Ziekenhuis/Hôpital: 102 - HEILIG HART ZIEKENHU...   \n",
       "\n",
       "                            province              region    unit_id  ambucode  \\\n",
       "0                   Antwerpen/Anvers  Vlaanderen/Flandre  PARUMS01A       191   \n",
       "1  Oost-Vlaanderen/Flandre orientale  Vlaanderen/Flandre  PODEIN01A       413   \n",
       "2                   Antwerpen/Anvers  Vlaanderen/Flandre  PAANTW01A       117   \n",
       "3                   Antwerpen/Anvers  Vlaanderen/Flandre  PALIER01A       171   \n",
       "4                   Antwerpen/Anvers  Vlaanderen/Flandre  PAMOL_01A       190   \n",
       "\n",
       "   ambusitecode  link  \n",
       "0         19101  None  \n",
       "1         41301  None  \n",
       "2         11704  None  \n",
       "3         17101  None  \n",
       "4         19001  None  "
      ]
     },
     "execution_count": 9,
>>>>>>> origin
     "metadata": {},
     "output_type": "execute_result"
    }
   ],
   "source": [
<<<<<<< HEAD
    "amb_loc.head(10)"
=======
    "pit_loc.head()"
>>>>>>> origin
   ]
  },
  {
   "cell_type": "code",
<<<<<<< HEAD
   "execution_count": 23,
   "metadata": {},
   "outputs": [],
   "source": [
    "map_belgium = folium.Map(location=[50.8503, 4.3517], zoom_start=8)\n"
=======
   "execution_count": 10,
   "metadata": {},
   "outputs": [
    {
     "name": "stdout",
     "output_type": "stream",
     "text": [
      "Number of rows in pit dataset: 24\n"
     ]
    }
   ],
   "source": [
    "num_rows = pit_loc.shape[0]\n",
    "print(\"Number of rows in pit dataset:\", num_rows)"
>>>>>>> origin
   ]
  },
  {
   "cell_type": "code",
<<<<<<< HEAD
   "execution_count": 24,
   "metadata": {},
   "outputs": [],
   "source": [
    "# Add markers for each location\n",
    "for _, row in amb_loc.iterrows():\n",
    "    folium.Marker([row['latitude'], row['longitude']]).add_to(map_belgium)\n",
    "\n",
    "# Save the map to an HTML file\n",
    "map_belgium.save(\"/Users/hy/StaDS/23-24 spring/mda/project/MDA1/map_belgium.html\")"
=======
   "execution_count": 11,
   "metadata": {},
   "outputs": [
    {
     "data": {
      "text/html": [
       "<div>\n",
       "<style scoped>\n",
       "    .dataframe tbody tr th:only-of-type {\n",
       "        vertical-align: middle;\n",
       "    }\n",
       "\n",
       "    .dataframe tbody tr th {\n",
       "        vertical-align: top;\n",
       "    }\n",
       "\n",
       "    .dataframe thead th {\n",
       "        text-align: right;\n",
       "    }\n",
       "</style>\n",
       "<table border=\"1\" class=\"dataframe\">\n",
       "  <thead>\n",
       "    <tr style=\"text-align: right;\">\n",
       "      <th></th>\n",
       "      <th>old ambulance code</th>\n",
       "      <th>ambulance code</th>\n",
       "      <th>site number</th>\n",
       "      <th>y</th>\n",
       "      <th>x</th>\n",
       "      <th>address</th>\n",
       "      <th>locality</th>\n",
       "      <th>ZIP</th>\n",
       "      <th>Province</th>\n",
       "    </tr>\n",
       "  </thead>\n",
       "  <tbody>\n",
       "    <tr>\n",
       "      <th>0</th>\n",
       "      <td>167</td>\n",
       "      <td>35</td>\n",
       "      <td>3511</td>\n",
       "      <td>51.119490</td>\n",
       "      <td>4.667580</td>\n",
       "      <td>Pastorijstraat 25</td>\n",
       "      <td>BERLAAR</td>\n",
       "      <td>2590.0</td>\n",
       "      <td>Antwerpen</td>\n",
       "    </tr>\n",
       "    <tr>\n",
       "      <th>1</th>\n",
       "      <td>255</td>\n",
       "      <td>35</td>\n",
       "      <td>3522</td>\n",
       "      <td>50.743246</td>\n",
       "      <td>4.241075</td>\n",
       "      <td>Brusselsesteenweg 183</td>\n",
       "      <td>HALLE</td>\n",
       "      <td>1500.0</td>\n",
       "      <td>Vlaams-Brabant</td>\n",
       "    </tr>\n",
       "    <tr>\n",
       "      <th>2</th>\n",
       "      <td>315</td>\n",
       "      <td>35</td>\n",
       "      <td>3531</td>\n",
       "      <td>51.002498</td>\n",
       "      <td>3.322729</td>\n",
       "      <td>Bruggestraat 84</td>\n",
       "      <td>TIELT</td>\n",
       "      <td>8700.0</td>\n",
       "      <td>West-Vlaanderen</td>\n",
       "    </tr>\n",
       "    <tr>\n",
       "      <th>3</th>\n",
       "      <td>735</td>\n",
       "      <td>35</td>\n",
       "      <td>3571</td>\n",
       "      <td>51.248576</td>\n",
       "      <td>5.525886</td>\n",
       "      <td>Steenstraat 5</td>\n",
       "      <td>HAMONT-ACHEL</td>\n",
       "      <td>3930.0</td>\n",
       "      <td>Limburg</td>\n",
       "    </tr>\n",
       "    <tr>\n",
       "      <th>4</th>\n",
       "      <td>225</td>\n",
       "      <td>36</td>\n",
       "      <td>3621</td>\n",
       "      <td>50.660384</td>\n",
       "      <td>4.567357</td>\n",
       "      <td>Rue De Franquenies 10</td>\n",
       "      <td>OTTIGNIES</td>\n",
       "      <td>1341.0</td>\n",
       "      <td>Brabant Wallon</td>\n",
       "    </tr>\n",
       "  </tbody>\n",
       "</table>\n",
       "</div>"
      ],
      "text/plain": [
       "  old ambulance code  ambulance code  site number          y         x  \\\n",
       "0                167              35         3511  51.119490  4.667580   \n",
       "1                255              35         3522  50.743246  4.241075   \n",
       "2                315              35         3531  51.002498  3.322729   \n",
       "3                735              35         3571  51.248576  5.525886   \n",
       "4                225              36         3621  50.660384  4.567357   \n",
       "\n",
       "                 address      locality     ZIP         Province  \n",
       "0      Pastorijstraat 25       BERLAAR  2590.0        Antwerpen  \n",
       "1  Brusselsesteenweg 183         HALLE  1500.0   Vlaams-Brabant  \n",
       "2        Bruggestraat 84         TIELT  8700.0  West-Vlaanderen  \n",
       "3          Steenstraat 5  HAMONT-ACHEL  3930.0          Limburg  \n",
       "4  Rue De Franquenies 10     OTTIGNIES  1341.0   Brabant Wallon  "
      ]
     },
     "execution_count": 11,
     "metadata": {},
     "output_type": "execute_result"
    }
   ],
   "source": [
    "# Specify the file path\n",
    "file_path = \"/Users/camillecu/Downloads/KUL/MDA/MDA_project/project/variables_ambureg.xlsx\"\n",
    "\n",
    "# Read the xlsx file into a DataFrame\n",
    "ambureg = pd.read_excel(file_path, header=0)\n",
    "\n",
    "# Display the DataFrame\n",
    "ambureg.head()"
>>>>>>> origin
   ]
  },
  {
   "cell_type": "code",
<<<<<<< HEAD
   "execution_count": 25,
   "metadata": {},
   "outputs": [],
   "source": [
    "# Create a map centered around Belgium\n",
    "map_amb_belgium = folium.Map(location=[50.8503, 4.3517], zoom_start=8)\n",
    "\n",
    "# Add markers for each location\n",
    "for _, row in amb_loc.iterrows():\n",
    "    folium.Marker([row['latitude'], row['longitude']]).add_to(map_amb_belgium)\n",
    "\n",
    "# Save the map to an HTML file\n",
    "map_amb_belgium.save(\"/Users/hy/StaDS/23-24 spring/mda/project/MDA1/map_amb_belgium.html\")"
=======
   "execution_count": 15,
   "metadata": {},
   "outputs": [],
   "source": [
    "# merge x, y, address from ambureg to pit_loc where ambusitecode is the same as site number in ambureg\n",
    "# only keep the columns x, y, address from ambureg\n",
    "pit_loc = pd.merge(pit_loc, ambureg, left_on='ambusitecode', right_on='site number', how='left')\n"
   ]
  },
  {
   "cell_type": "code",
   "execution_count": 16,
   "metadata": {},
   "outputs": [
    {
     "data": {
      "text/plain": [
       "Index(['unit', 'campus', 'province', 'region', 'unit_id', 'ambucode',\n",
       "       'ambusitecode', 'link', 'old ambulance code', 'ambulance code',\n",
       "       'site number', 'y', 'x', 'address', 'locality', 'ZIP', 'Province'],\n",
       "      dtype='object')"
      ]
     },
     "execution_count": 16,
     "metadata": {},
     "output_type": "execute_result"
    }
   ],
   "source": [
    "pit_loc.columns"
   ]
  },
  {
   "cell_type": "code",
   "execution_count": 17,
   "metadata": {},
   "outputs": [],
   "source": [
    "# only keep the columns that are needed: unit, campus, province, region, unit_id, ambucode, ambusitecode, x, y, address\n",
    "pit_loc = pit_loc[['unit', 'campus', 'province', 'region', 'unit_id', 'ambucode', 'ambusitecode', 'x', 'y', 'address']]"
   ]
  },
  {
   "cell_type": "code",
   "execution_count": 18,
   "metadata": {},
   "outputs": [],
   "source": [
    "# Change column names from 'x' to 'latitude' and 'y' to 'longitude'\n",
    "pit_loc = pit_loc.rename(columns={'x': 'latitude', 'y': 'longitude'})"
   ]
  },
  {
   "cell_type": "code",
   "execution_count": null,
   "metadata": {},
   "outputs": [],
   "source": [
    "\n",
    "\n",
    "\n"
>>>>>>> origin
   ]
  }
 ],
 "metadata": {
  "kernelspec": {
<<<<<<< HEAD
   "display_name": ".venv",
=======
   "display_name": "waffle",
>>>>>>> origin
   "language": "python",
   "name": "python3"
  },
  "language_info": {
   "codemirror_mode": {
    "name": "ipython",
    "version": 3
   },
   "file_extension": ".py",
   "mimetype": "text/x-python",
   "name": "python",
   "nbconvert_exporter": "python",
   "pygments_lexer": "ipython3",
   "version": "3.11.5"
  }
 },
 "nbformat": 4,
 "nbformat_minor": 2
}
