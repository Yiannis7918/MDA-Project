{
 "cells": [
  {
   "cell_type": "code",
   "execution_count": 1,
   "metadata": {},
   "outputs": [
    {
     "name": "stderr",
     "output_type": "stream",
     "text": [
      "/Users/camillecu/waffle/lib/python3.11/site-packages/tqdm/auto.py:21: TqdmWarning: IProgress not found. Please update jupyter and ipywidgets. See https://ipywidgets.readthedocs.io/en/stable/user_install.html\n",
      "  from .autonotebook import tqdm as notebook_tqdm\n"
     ]
    }
   ],
   "source": [
    "import pandas as pd\n",
    "import gzip\n",
    "import sweetviz as sv\n",
    "import os\n",
    "import glob"
   ]
  },
  {
   "cell_type": "markdown",
   "metadata": {},
   "source": [
    "# Camille -- PIT"
   ]
  },
  {
   "cell_type": "code",
   "execution_count": 8,
   "metadata": {},
   "outputs": [],
   "source": [
    "\n",
    "pit_loc = \"/Users/camillecu/Downloads/KUL/MDA/MDA_project/project/pit_locations.parquet.gzip\"\n",
    "pit_loc = pd.read_parquet(pit_loc)\n"
   ]
  },
  {
   "cell_type": "code",
   "execution_count": 9,
   "metadata": {},
   "outputs": [
    {
     "data": {
      "text/html": [
       "<div>\n",
       "<style scoped>\n",
       "    .dataframe tbody tr th:only-of-type {\n",
       "        vertical-align: middle;\n",
       "    }\n",
       "\n",
       "    .dataframe tbody tr th {\n",
       "        vertical-align: top;\n",
       "    }\n",
       "\n",
       "    .dataframe thead th {\n",
       "        text-align: right;\n",
       "    }\n",
       "</style>\n",
       "<table border=\"1\" class=\"dataframe\">\n",
       "  <thead>\n",
       "    <tr style=\"text-align: right;\">\n",
       "      <th></th>\n",
       "      <th>unit</th>\n",
       "      <th>campus</th>\n",
       "      <th>province</th>\n",
       "      <th>region</th>\n",
       "      <th>unit_id</th>\n",
       "      <th>ambucode</th>\n",
       "      <th>ambusitecode</th>\n",
       "      <th>link</th>\n",
       "    </tr>\n",
       "  </thead>\n",
       "  <tbody>\n",
       "    <tr>\n",
       "      <th>0</th>\n",
       "      <td>100001: PIT Rumst, AZ Rivierland</td>\n",
       "      <td>Ziekenhuis/Hôpital: 104 - AZ RIVIERENLAND --- ...</td>\n",
       "      <td>Antwerpen/Anvers</td>\n",
       "      <td>Vlaanderen/Flandre</td>\n",
       "      <td>PARUMS01A</td>\n",
       "      <td>191</td>\n",
       "      <td>19101</td>\n",
       "      <td>None</td>\n",
       "    </tr>\n",
       "    <tr>\n",
       "      <th>1</th>\n",
       "      <td>102001: PIT Deinze, St Vincentius</td>\n",
       "      <td>Ziekenhuis/Hôpital: 134 - AZ SINT-VINCENTIUS -...</td>\n",
       "      <td>Oost-Vlaanderen/Flandre orientale</td>\n",
       "      <td>Vlaanderen/Flandre</td>\n",
       "      <td>PODEIN01A</td>\n",
       "      <td>413</td>\n",
       "      <td>41301</td>\n",
       "      <td>None</td>\n",
       "    </tr>\n",
       "    <tr>\n",
       "      <th>2</th>\n",
       "      <td>102101: PIT Stuivenberg</td>\n",
       "      <td>Ziekenhuis/Hôpital: 009 - ZIEKENHUISNETWERK AN...</td>\n",
       "      <td>Antwerpen/Anvers</td>\n",
       "      <td>Vlaanderen/Flandre</td>\n",
       "      <td>PAANTW01A</td>\n",
       "      <td>117</td>\n",
       "      <td>11704</td>\n",
       "      <td>None</td>\n",
       "    </tr>\n",
       "    <tr>\n",
       "      <th>3</th>\n",
       "      <td>110001: PIT Lier, Heilig Hart</td>\n",
       "      <td>Ziekenhuis/Hôpital: 097 - HEILIG HART ZIEKENHU...</td>\n",
       "      <td>Antwerpen/Anvers</td>\n",
       "      <td>Vlaanderen/Flandre</td>\n",
       "      <td>PALIER01A</td>\n",
       "      <td>171</td>\n",
       "      <td>17101</td>\n",
       "      <td>None</td>\n",
       "    </tr>\n",
       "    <tr>\n",
       "      <th>4</th>\n",
       "      <td>113001: PIT HEILIG HART ZIEKENHUIS</td>\n",
       "      <td>Ziekenhuis/Hôpital: 102 - HEILIG HART ZIEKENHU...</td>\n",
       "      <td>Antwerpen/Anvers</td>\n",
       "      <td>Vlaanderen/Flandre</td>\n",
       "      <td>PAMOL_01A</td>\n",
       "      <td>190</td>\n",
       "      <td>19001</td>\n",
       "      <td>None</td>\n",
       "    </tr>\n",
       "  </tbody>\n",
       "</table>\n",
       "</div>"
      ],
      "text/plain": [
       "                                 unit  \\\n",
       "0    100001: PIT Rumst, AZ Rivierland   \n",
       "1  102001: PIT Deinze, St Vincentius    \n",
       "2             102101: PIT Stuivenberg   \n",
       "3       110001: PIT Lier, Heilig Hart   \n",
       "4  113001: PIT HEILIG HART ZIEKENHUIS   \n",
       "\n",
       "                                              campus  \\\n",
       "0  Ziekenhuis/Hôpital: 104 - AZ RIVIERENLAND --- ...   \n",
       "1  Ziekenhuis/Hôpital: 134 - AZ SINT-VINCENTIUS -...   \n",
       "2  Ziekenhuis/Hôpital: 009 - ZIEKENHUISNETWERK AN...   \n",
       "3  Ziekenhuis/Hôpital: 097 - HEILIG HART ZIEKENHU...   \n",
       "4  Ziekenhuis/Hôpital: 102 - HEILIG HART ZIEKENHU...   \n",
       "\n",
       "                            province              region    unit_id  ambucode  \\\n",
       "0                   Antwerpen/Anvers  Vlaanderen/Flandre  PARUMS01A       191   \n",
       "1  Oost-Vlaanderen/Flandre orientale  Vlaanderen/Flandre  PODEIN01A       413   \n",
       "2                   Antwerpen/Anvers  Vlaanderen/Flandre  PAANTW01A       117   \n",
       "3                   Antwerpen/Anvers  Vlaanderen/Flandre  PALIER01A       171   \n",
       "4                   Antwerpen/Anvers  Vlaanderen/Flandre  PAMOL_01A       190   \n",
       "\n",
       "   ambusitecode  link  \n",
       "0         19101  None  \n",
       "1         41301  None  \n",
       "2         11704  None  \n",
       "3         17101  None  \n",
       "4         19001  None  "
      ]
     },
     "execution_count": 9,
     "metadata": {},
     "output_type": "execute_result"
    }
   ],
   "source": [
    "pit_loc.head()"
   ]
  },
  {
   "cell_type": "code",
   "execution_count": 10,
   "metadata": {},
   "outputs": [
    {
     "name": "stdout",
     "output_type": "stream",
     "text": [
      "Number of rows in pit dataset: 24\n"
     ]
    }
   ],
   "source": [
    "num_rows = pit_loc.shape[0]\n",
    "print(\"Number of rows in pit dataset:\", num_rows)"
   ]
  },
  {
   "cell_type": "code",
   "execution_count": 11,
   "metadata": {},
   "outputs": [
    {
     "data": {
      "text/html": [
       "<div>\n",
       "<style scoped>\n",
       "    .dataframe tbody tr th:only-of-type {\n",
       "        vertical-align: middle;\n",
       "    }\n",
       "\n",
       "    .dataframe tbody tr th {\n",
       "        vertical-align: top;\n",
       "    }\n",
       "\n",
       "    .dataframe thead th {\n",
       "        text-align: right;\n",
       "    }\n",
       "</style>\n",
       "<table border=\"1\" class=\"dataframe\">\n",
       "  <thead>\n",
       "    <tr style=\"text-align: right;\">\n",
       "      <th></th>\n",
       "      <th>old ambulance code</th>\n",
       "      <th>ambulance code</th>\n",
       "      <th>site number</th>\n",
       "      <th>y</th>\n",
       "      <th>x</th>\n",
       "      <th>address</th>\n",
       "      <th>locality</th>\n",
       "      <th>ZIP</th>\n",
       "      <th>Province</th>\n",
       "    </tr>\n",
       "  </thead>\n",
       "  <tbody>\n",
       "    <tr>\n",
       "      <th>0</th>\n",
       "      <td>167</td>\n",
       "      <td>35</td>\n",
       "      <td>3511</td>\n",
       "      <td>51.119490</td>\n",
       "      <td>4.667580</td>\n",
       "      <td>Pastorijstraat 25</td>\n",
       "      <td>BERLAAR</td>\n",
       "      <td>2590.0</td>\n",
       "      <td>Antwerpen</td>\n",
       "    </tr>\n",
       "    <tr>\n",
       "      <th>1</th>\n",
       "      <td>255</td>\n",
       "      <td>35</td>\n",
       "      <td>3522</td>\n",
       "      <td>50.743246</td>\n",
       "      <td>4.241075</td>\n",
       "      <td>Brusselsesteenweg 183</td>\n",
       "      <td>HALLE</td>\n",
       "      <td>1500.0</td>\n",
       "      <td>Vlaams-Brabant</td>\n",
       "    </tr>\n",
       "    <tr>\n",
       "      <th>2</th>\n",
       "      <td>315</td>\n",
       "      <td>35</td>\n",
       "      <td>3531</td>\n",
       "      <td>51.002498</td>\n",
       "      <td>3.322729</td>\n",
       "      <td>Bruggestraat 84</td>\n",
       "      <td>TIELT</td>\n",
       "      <td>8700.0</td>\n",
       "      <td>West-Vlaanderen</td>\n",
       "    </tr>\n",
       "    <tr>\n",
       "      <th>3</th>\n",
       "      <td>735</td>\n",
       "      <td>35</td>\n",
       "      <td>3571</td>\n",
       "      <td>51.248576</td>\n",
       "      <td>5.525886</td>\n",
       "      <td>Steenstraat 5</td>\n",
       "      <td>HAMONT-ACHEL</td>\n",
       "      <td>3930.0</td>\n",
       "      <td>Limburg</td>\n",
       "    </tr>\n",
       "    <tr>\n",
       "      <th>4</th>\n",
       "      <td>225</td>\n",
       "      <td>36</td>\n",
       "      <td>3621</td>\n",
       "      <td>50.660384</td>\n",
       "      <td>4.567357</td>\n",
       "      <td>Rue De Franquenies 10</td>\n",
       "      <td>OTTIGNIES</td>\n",
       "      <td>1341.0</td>\n",
       "      <td>Brabant Wallon</td>\n",
       "    </tr>\n",
       "  </tbody>\n",
       "</table>\n",
       "</div>"
      ],
      "text/plain": [
       "  old ambulance code  ambulance code  site number          y         x  \\\n",
       "0                167              35         3511  51.119490  4.667580   \n",
       "1                255              35         3522  50.743246  4.241075   \n",
       "2                315              35         3531  51.002498  3.322729   \n",
       "3                735              35         3571  51.248576  5.525886   \n",
       "4                225              36         3621  50.660384  4.567357   \n",
       "\n",
       "                 address      locality     ZIP         Province  \n",
       "0      Pastorijstraat 25       BERLAAR  2590.0        Antwerpen  \n",
       "1  Brusselsesteenweg 183         HALLE  1500.0   Vlaams-Brabant  \n",
       "2        Bruggestraat 84         TIELT  8700.0  West-Vlaanderen  \n",
       "3          Steenstraat 5  HAMONT-ACHEL  3930.0          Limburg  \n",
       "4  Rue De Franquenies 10     OTTIGNIES  1341.0   Brabant Wallon  "
      ]
     },
     "execution_count": 11,
     "metadata": {},
     "output_type": "execute_result"
    }
   ],
   "source": [
    "# Specify the file path\n",
    "file_path = \"/Users/camillecu/Downloads/KUL/MDA/MDA_project/project/variables_ambureg.xlsx\"\n",
    "\n",
    "# Read the xlsx file into a DataFrame\n",
    "ambureg = pd.read_excel(file_path, header=0)\n",
    "\n",
    "# Display the DataFrame\n",
    "ambureg.head()"
   ]
  },
  {
   "cell_type": "code",
   "execution_count": 15,
   "metadata": {},
   "outputs": [],
   "source": [
    "# merge x, y, address from ambureg to pit_loc where ambusitecode is the same as site number in ambureg\n",
    "# only keep the columns x, y, address from ambureg\n",
    "pit_loc = pd.merge(pit_loc, ambureg, left_on='ambusitecode', right_on='site number', how='left')\n"
   ]
  },
  {
   "cell_type": "code",
   "execution_count": 16,
   "metadata": {},
   "outputs": [
    {
     "data": {
      "text/plain": [
       "Index(['unit', 'campus', 'province', 'region', 'unit_id', 'ambucode',\n",
       "       'ambusitecode', 'link', 'old ambulance code', 'ambulance code',\n",
       "       'site number', 'y', 'x', 'address', 'locality', 'ZIP', 'Province'],\n",
       "      dtype='object')"
      ]
     },
     "execution_count": 16,
     "metadata": {},
     "output_type": "execute_result"
    }
   ],
   "source": [
    "pit_loc.columns"
   ]
  },
  {
   "cell_type": "code",
   "execution_count": 17,
   "metadata": {},
   "outputs": [],
   "source": [
    "# only keep the columns that are needed: unit, campus, province, region, unit_id, ambucode, ambusitecode, x, y, address\n",
    "pit_loc = pit_loc[['unit', 'campus', 'province', 'region', 'unit_id', 'ambucode', 'ambusitecode', 'x', 'y', 'address']]"
   ]
  },
  {
   "cell_type": "code",
   "execution_count": 18,
   "metadata": {},
   "outputs": [],
   "source": [
    "# Change column names from 'x' to 'latitude' and 'y' to 'longitude'\n",
    "pit_loc = pit_loc.rename(columns={'x': 'latitude', 'y': 'longitude'})"
   ]
  },
  {
   "cell_type": "markdown",
   "metadata": {},
   "source": [
<<<<<<< HEAD
    "# Linwei AMB"
=======
    "Linwei AMB"
>>>>>>> refs/remotes/origin/main
   ]
  },
  {
   "cell_type": "code",
   "execution_count": null,
   "metadata": {},
   "outputs": [],
   "source": [
    "\n",
    "\n",
    "folder_path = \"/Users/hy/StaDS/23-24 spring/mda/project/MDA1\"\n",
    "files = os.listdir(folder_path)\n",
    "amb_loc = pd.read_parquet(f\"{folder_path}/ambulance_locations.parquet.gzip\", engine=\"pyarrow\")\n",
    "# Add markers for each location\n",
    "for _, row in amb_loc.iterrows():\n",
    "    folium.Marker([row['latitude'], row['longitude']]).add_to(map_belgium)\n",
    "\n",
    "# Save the map to an HTML file\n",
    "map_belgium.save(\"/Users/hy/StaDS/23-24 spring/mda/project/MDA1/map_belgium.html\")\n"
   ]
  },
  {
   "cell_type": "code",
   "execution_count": null,
   "metadata": {},
   "outputs": [],
   "source": [
    "# Create a map centered around Belgium\n",
    "map_amb_belgium = folium.Map(location=[50.8503, 4.3517], zoom_start=8)\n",
    "\n",
    "# Add markers for each location\n",
    "for _, row in amb_loc.iterrows():\n",
    "    folium.Marker([row['latitude'], row['longitude']]).add_to(map_amb_belgium)\n",
    "\n",
    "# Save the map to an HTML file\n",
    "map_amb_belgium.save(\"/Users/hy/StaDS/23-24 spring/mda/project/MDA1/map_amb_belgium.html\")"
   ]
  }
 ],
 "metadata": {
  "kernelspec": {
   "display_name": "waffle",
   "language": "python",
   "name": "python3"
  },
  "language_info": {
   "codemirror_mode": {
    "name": "ipython",
    "version": 3
   },
   "file_extension": ".py",
   "mimetype": "text/x-python",
   "name": "python",
   "nbconvert_exporter": "python",
   "pygments_lexer": "ipython3",
   "version": "3.11.5"
  }
 },
 "nbformat": 4,
 "nbformat_minor": 2
}
