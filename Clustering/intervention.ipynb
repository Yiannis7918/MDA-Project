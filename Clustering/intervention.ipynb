{
 "cells": [
  {
   "cell_type": "markdown",
   "metadata": {},
   "source": [
    "http://www.geo-ref.net/ph/bel.htm"
   ]
  },
  {
   "cell_type": "markdown",
   "metadata": {},
   "source": []
  },
  {
   "cell_type": "code",
   "execution_count": 2,
   "metadata": {},
   "outputs": [],
   "source": [
    "import geopandas as gpd\n",
    "import pandas as pd\n",
    "import matplotlib.pyplot as plt"
   ]
  },
  {
   "cell_type": "code",
   "execution_count": 22,
   "metadata": {},
   "outputs": [],
   "source": [
    "# Load the shapefile\n",
    "vectors = gpd.read_file(\"/Users/camillecu/Downloads/KUL/MDA/project/clustering/vector_shape/be.shp\")\n",
    "# intervention is parquet file\n",
    "intervention = pd.read_parquet(\"/Users/camillecu/Downloads/KUL/MDA/project/preprocess_intervention/intvn_clean.parquet\")\n",
    "\n",
    "cad9 = pd.read_parquet(\"/Users/camillecu/Downloads/KUL/MDA/project/preprocess_intervention/cad9_clean.parquet\")"
   ]
  },
  {
   "cell_type": "code",
   "execution_count": 9,
   "metadata": {},
   "outputs": [
    {
     "data": {
      "text/html": [
       "<div>\n",
       "<style scoped>\n",
       "    .dataframe tbody tr th:only-of-type {\n",
       "        vertical-align: middle;\n",
       "    }\n",
       "\n",
       "    .dataframe tbody tr th {\n",
       "        vertical-align: top;\n",
       "    }\n",
       "\n",
       "    .dataframe thead th {\n",
       "        text-align: right;\n",
       "    }\n",
       "</style>\n",
       "<table border=\"1\" class=\"dataframe\">\n",
       "  <thead>\n",
       "    <tr style=\"text-align: right;\">\n",
       "      <th></th>\n",
       "      <th>mun_code</th>\n",
       "      <th>smun_code</th>\n",
       "      <th>prov_name_</th>\n",
       "      <th>arr_name_n</th>\n",
       "      <th>mun_name_n</th>\n",
       "      <th>aed_count</th>\n",
       "      <th>ambulance_</th>\n",
       "      <th>pit_count</th>\n",
       "      <th>mug_count</th>\n",
       "      <th>vectors</th>\n",
       "      <th>geometry</th>\n",
       "    </tr>\n",
       "  </thead>\n",
       "  <tbody>\n",
       "    <tr>\n",
       "      <th>0</th>\n",
       "      <td>31005</td>\n",
       "      <td>31005G</td>\n",
       "      <td>Provincie West-Vlaanderen</td>\n",
       "      <td>Arrondissement Brugge</td>\n",
       "      <td>Brugge</td>\n",
       "      <td>119.0</td>\n",
       "      <td>2.0</td>\n",
       "      <td>0.0</td>\n",
       "      <td>1.0</td>\n",
       "      <td>122.0</td>\n",
       "      <td>POLYGON ((3.21386 51.16520, 3.19908 51.16144, ...</td>\n",
       "    </tr>\n",
       "    <tr>\n",
       "      <th>1</th>\n",
       "      <td>31006</td>\n",
       "      <td>31006-Z</td>\n",
       "      <td>Provincie West-Vlaanderen</td>\n",
       "      <td>Arrondissement Brugge</td>\n",
       "      <td>Damme</td>\n",
       "      <td>2.0</td>\n",
       "      <td>0.0</td>\n",
       "      <td>0.0</td>\n",
       "      <td>0.0</td>\n",
       "      <td>2.0</td>\n",
       "      <td>POLYGON ((3.30594 51.22328, 3.30363 51.22391, ...</td>\n",
       "    </tr>\n",
       "    <tr>\n",
       "      <th>2</th>\n",
       "      <td>31012</td>\n",
       "      <td>31012E</td>\n",
       "      <td>Provincie West-Vlaanderen</td>\n",
       "      <td>Arrondissement Brugge</td>\n",
       "      <td>Jabbeke</td>\n",
       "      <td>7.0</td>\n",
       "      <td>1.0</td>\n",
       "      <td>0.0</td>\n",
       "      <td>0.0</td>\n",
       "      <td>8.0</td>\n",
       "      <td>POLYGON ((3.09117 51.14577, 3.09044 51.14634, ...</td>\n",
       "    </tr>\n",
       "    <tr>\n",
       "      <th>3</th>\n",
       "      <td>31040</td>\n",
       "      <td>31040D</td>\n",
       "      <td>Provincie West-Vlaanderen</td>\n",
       "      <td>Arrondissement Brugge</td>\n",
       "      <td>Zedelgem</td>\n",
       "      <td>12.0</td>\n",
       "      <td>0.0</td>\n",
       "      <td>0.0</td>\n",
       "      <td>0.0</td>\n",
       "      <td>12.0</td>\n",
       "      <td>POLYGON ((3.06641 51.10243, 3.06618 51.10360, ...</td>\n",
       "    </tr>\n",
       "    <tr>\n",
       "      <th>4</th>\n",
       "      <td>31043</td>\n",
       "      <td>31043B</td>\n",
       "      <td>Provincie West-Vlaanderen</td>\n",
       "      <td>Arrondissement Brugge</td>\n",
       "      <td>Knokke-Heist</td>\n",
       "      <td>25.0</td>\n",
       "      <td>1.0</td>\n",
       "      <td>0.0</td>\n",
       "      <td>1.0</td>\n",
       "      <td>27.0</td>\n",
       "      <td>POLYGON ((3.26466 51.32048, 3.26421 51.32104, ...</td>\n",
       "    </tr>\n",
       "  </tbody>\n",
       "</table>\n",
       "</div>"
      ],
      "text/plain": [
       "  mun_code smun_code                 prov_name_             arr_name_n  \\\n",
       "0    31005    31005G  Provincie West-Vlaanderen  Arrondissement Brugge   \n",
       "1    31006   31006-Z  Provincie West-Vlaanderen  Arrondissement Brugge   \n",
       "2    31012    31012E  Provincie West-Vlaanderen  Arrondissement Brugge   \n",
       "3    31040    31040D  Provincie West-Vlaanderen  Arrondissement Brugge   \n",
       "4    31043    31043B  Provincie West-Vlaanderen  Arrondissement Brugge   \n",
       "\n",
       "     mun_name_n  aed_count  ambulance_  pit_count  mug_count  vectors  \\\n",
       "0        Brugge      119.0         2.0        0.0        1.0    122.0   \n",
       "1         Damme        2.0         0.0        0.0        0.0      2.0   \n",
       "2       Jabbeke        7.0         1.0        0.0        0.0      8.0   \n",
       "3      Zedelgem       12.0         0.0        0.0        0.0     12.0   \n",
       "4  Knokke-Heist       25.0         1.0        0.0        1.0     27.0   \n",
       "\n",
       "                                            geometry  \n",
       "0  POLYGON ((3.21386 51.16520, 3.19908 51.16144, ...  \n",
       "1  POLYGON ((3.30594 51.22328, 3.30363 51.22391, ...  \n",
       "2  POLYGON ((3.09117 51.14577, 3.09044 51.14634, ...  \n",
       "3  POLYGON ((3.06641 51.10243, 3.06618 51.10360, ...  \n",
       "4  POLYGON ((3.26466 51.32048, 3.26421 51.32104, ...  "
      ]
     },
     "execution_count": 9,
     "metadata": {},
     "output_type": "execute_result"
    }
   ],
   "source": [
    "vectors.head()"
   ]
  },
  {
   "cell_type": "code",
   "execution_count": 11,
   "metadata": {},
   "outputs": [
    {
     "data": {
      "text/html": [
       "<div>\n",
       "<style scoped>\n",
       "    .dataframe tbody tr th:only-of-type {\n",
       "        vertical-align: middle;\n",
       "    }\n",
       "\n",
       "    .dataframe tbody tr th {\n",
       "        vertical-align: top;\n",
       "    }\n",
       "\n",
       "    .dataframe thead th {\n",
       "        text-align: right;\n",
       "    }\n",
       "</style>\n",
       "<table border=\"1\" class=\"dataframe\">\n",
       "  <thead>\n",
       "    <tr style=\"text-align: right;\">\n",
       "      <th></th>\n",
       "      <th>mission id</th>\n",
       "      <th>service name</th>\n",
       "      <th>postalcode permanence</th>\n",
       "      <th>cityname permanence</th>\n",
       "      <th>streetname permanence</th>\n",
       "      <th>latitude permanence</th>\n",
       "      <th>longitude permanence</th>\n",
       "      <th>permanence short name</th>\n",
       "      <th>permanence long name</th>\n",
       "      <th>vector type</th>\n",
       "      <th>...</th>\n",
       "      <th>streetname destination hospital</th>\n",
       "      <th>calculated traveltime destinatio</th>\n",
       "      <th>calculated distance destination</th>\n",
       "      <th>number of transported persons</th>\n",
       "      <th>abandon reason</th>\n",
       "      <th>time period</th>\n",
       "      <th>time intervention</th>\n",
       "      <th>eventlevel firstcall percentage</th>\n",
       "      <th>same event type</th>\n",
       "      <th>smae event level</th>\n",
       "    </tr>\n",
       "  </thead>\n",
       "  <tbody>\n",
       "    <tr>\n",
       "      <th>0</th>\n",
       "      <td>10221520001</td>\n",
       "      <td>HA UR MECH AZ St Maarten</td>\n",
       "      <td>2800.0</td>\n",
       "      <td>Mechelen (Mechelen)</td>\n",
       "      <td>Liersesteenweg</td>\n",
       "      <td>51.05102</td>\n",
       "      <td>4.47803</td>\n",
       "      <td>AAMECH01A</td>\n",
       "      <td>ZW MECHELEN 1</td>\n",
       "      <td>Ambulance</td>\n",
       "      <td>...</td>\n",
       "      <td>None</td>\n",
       "      <td>NaN</td>\n",
       "      <td>NaN</td>\n",
       "      <td>NaN</td>\n",
       "      <td>Verzorgd ter plaatse</td>\n",
       "      <td>midnight</td>\n",
       "      <td>26.0</td>\n",
       "      <td>79.033900</td>\n",
       "      <td>1</td>\n",
       "      <td>1</td>\n",
       "    </tr>\n",
       "    <tr>\n",
       "      <th>1</th>\n",
       "      <td>10221520002</td>\n",
       "      <td>HA UR ANTW Stuivenberg</td>\n",
       "      <td>2060.0</td>\n",
       "      <td>Antwerpen (Antwerpen)</td>\n",
       "      <td>Lange Beeldekensstraat</td>\n",
       "      <td>51.22249</td>\n",
       "      <td>4.43629</td>\n",
       "      <td>UAANTW01A</td>\n",
       "      <td>MUG ANTWERPEN 1</td>\n",
       "      <td>MUG</td>\n",
       "      <td>...</td>\n",
       "      <td>None</td>\n",
       "      <td>NaN</td>\n",
       "      <td>NaN</td>\n",
       "      <td>NaN</td>\n",
       "      <td>None</td>\n",
       "      <td>midnight</td>\n",
       "      <td>63.0</td>\n",
       "      <td>79.033900</td>\n",
       "      <td>1</td>\n",
       "      <td>0</td>\n",
       "    </tr>\n",
       "    <tr>\n",
       "      <th>2</th>\n",
       "      <td>10221520004</td>\n",
       "      <td>BA ANTW [Borgerhout] AMBUCE</td>\n",
       "      <td>2140.0</td>\n",
       "      <td>Antwerpen (Borgerhout)</td>\n",
       "      <td>Gijselsstraat</td>\n",
       "      <td>51.21562</td>\n",
       "      <td>4.44392</td>\n",
       "      <td>AAANTW07A</td>\n",
       "      <td>ZW ANTWERPEN 7</td>\n",
       "      <td>Ambulance</td>\n",
       "      <td>...</td>\n",
       "      <td>None</td>\n",
       "      <td>NaN</td>\n",
       "      <td>NaN</td>\n",
       "      <td>NaN</td>\n",
       "      <td>Zonder patient</td>\n",
       "      <td>midnight</td>\n",
       "      <td>32.0</td>\n",
       "      <td>79.033900</td>\n",
       "      <td>1</td>\n",
       "      <td>1</td>\n",
       "    </tr>\n",
       "    <tr>\n",
       "      <th>3</th>\n",
       "      <td>10221520005</td>\n",
       "      <td>BA WIJN AMBUCE</td>\n",
       "      <td>2110.0</td>\n",
       "      <td>Wijnegem (Wijnegem)</td>\n",
       "      <td>Bijkhoevelaan</td>\n",
       "      <td>51.23355</td>\n",
       "      <td>4.49318</td>\n",
       "      <td>AAWIJN01A</td>\n",
       "      <td>ZW WIJNEGEM 1</td>\n",
       "      <td>Ambulance</td>\n",
       "      <td>...</td>\n",
       "      <td>Lange Bremstraat</td>\n",
       "      <td>530.0</td>\n",
       "      <td>5468.0</td>\n",
       "      <td>1.0</td>\n",
       "      <td>None</td>\n",
       "      <td>midnight</td>\n",
       "      <td>72.0</td>\n",
       "      <td>79.033900</td>\n",
       "      <td>1</td>\n",
       "      <td>1</td>\n",
       "    </tr>\n",
       "    <tr>\n",
       "      <th>4</th>\n",
       "      <td>10221520006</td>\n",
       "      <td>FA HVP BEER Taxandria</td>\n",
       "      <td>2340.0</td>\n",
       "      <td>Beerse (Beerse)</td>\n",
       "      <td>Bisschopslaan</td>\n",
       "      <td>51.31482</td>\n",
       "      <td>4.85623</td>\n",
       "      <td>AABEER01A</td>\n",
       "      <td>ZW BEERSE 1</td>\n",
       "      <td>Ambulance</td>\n",
       "      <td>...</td>\n",
       "      <td>Rubensstraat</td>\n",
       "      <td>859.0</td>\n",
       "      <td>13231.0</td>\n",
       "      <td>1.0</td>\n",
       "      <td>None</td>\n",
       "      <td>midnight</td>\n",
       "      <td>49.0</td>\n",
       "      <td>0.831988</td>\n",
       "      <td>1</td>\n",
       "      <td>1</td>\n",
       "    </tr>\n",
       "  </tbody>\n",
       "</table>\n",
       "<p>5 rows × 37 columns</p>\n",
       "</div>"
      ],
      "text/plain": [
       "    mission id                 service name  postalcode permanence  \\\n",
       "0  10221520001     HA UR MECH AZ St Maarten                 2800.0   \n",
       "1  10221520002       HA UR ANTW Stuivenberg                 2060.0   \n",
       "2  10221520004  BA ANTW [Borgerhout] AMBUCE                 2140.0   \n",
       "3  10221520005               BA WIJN AMBUCE                 2110.0   \n",
       "4  10221520006        FA HVP BEER Taxandria                 2340.0   \n",
       "\n",
       "      cityname permanence   streetname permanence  latitude permanence  \\\n",
       "0     Mechelen (Mechelen)          Liersesteenweg             51.05102   \n",
       "1   Antwerpen (Antwerpen)  Lange Beeldekensstraat             51.22249   \n",
       "2  Antwerpen (Borgerhout)           Gijselsstraat             51.21562   \n",
       "3     Wijnegem (Wijnegem)           Bijkhoevelaan             51.23355   \n",
       "4         Beerse (Beerse)           Bisschopslaan             51.31482   \n",
       "\n",
       "   longitude permanence permanence short name permanence long name  \\\n",
       "0               4.47803             AAMECH01A        ZW MECHELEN 1   \n",
       "1               4.43629             UAANTW01A      MUG ANTWERPEN 1   \n",
       "2               4.44392             AAANTW07A       ZW ANTWERPEN 7   \n",
       "3               4.49318             AAWIJN01A        ZW WIJNEGEM 1   \n",
       "4               4.85623             AABEER01A          ZW BEERSE 1   \n",
       "\n",
       "  vector type  ... streetname destination hospital  \\\n",
       "0   Ambulance  ...                            None   \n",
       "1         MUG  ...                            None   \n",
       "2   Ambulance  ...                            None   \n",
       "3   Ambulance  ...                Lange Bremstraat   \n",
       "4   Ambulance  ...                    Rubensstraat   \n",
       "\n",
       "  calculated traveltime destinatio calculated distance destination  \\\n",
       "0                              NaN                             NaN   \n",
       "1                              NaN                             NaN   \n",
       "2                              NaN                             NaN   \n",
       "3                            530.0                          5468.0   \n",
       "4                            859.0                         13231.0   \n",
       "\n",
       "  number of transported persons        abandon reason time period  \\\n",
       "0                           NaN  Verzorgd ter plaatse    midnight   \n",
       "1                           NaN                  None    midnight   \n",
       "2                           NaN        Zonder patient    midnight   \n",
       "3                           1.0                  None    midnight   \n",
       "4                           1.0                  None    midnight   \n",
       "\n",
       "   time intervention  eventlevel firstcall percentage same event type  \\\n",
       "0               26.0                        79.033900               1   \n",
       "1               63.0                        79.033900               1   \n",
       "2               32.0                        79.033900               1   \n",
       "3               72.0                        79.033900               1   \n",
       "4               49.0                         0.831988               1   \n",
       "\n",
       "  smae event level  \n",
       "0                1  \n",
       "1                0  \n",
       "2                1  \n",
       "3                1  \n",
       "4                1  \n",
       "\n",
       "[5 rows x 37 columns]"
      ]
     },
     "execution_count": 11,
     "metadata": {},
     "output_type": "execute_result"
    }
   ],
   "source": [
    "intervention.head()"
   ]
  },
  {
   "cell_type": "markdown",
   "metadata": {},
   "source": [
    "P039 - Cardiac problem (other than thoracic pain)"
   ]
  },
  {
   "cell_type": "code",
   "execution_count": 11,
   "metadata": {},
   "outputs": [
    {
     "data": {
      "text/plain": [
       "Index(['service name', 'postalcode permanence', 'latitude permanence',\n",
       "       'longitude permanence', 'vector type', 'eventtype firstcall',\n",
       "       'eventlevel firstcall', 'eventtype trip', 'eventlevel trip',\n",
       "       'latitude intervention', 'longitude intervention',\n",
       "       'province intervention', 't0', 't6', 'waiting time',\n",
       "       'intervention duration', 'departure time (t1reported)',\n",
       "       'departure time (t1confirmed)', 'calculated traveltime destinatio',\n",
       "       'calculated distance destination', 'number of transported persons',\n",
       "       'time period', 'time intervention', 'eventlevel firstcall percentage',\n",
       "       'same event type', 'smae event level'],\n",
       "      dtype='object')"
      ]
     },
     "execution_count": 11,
     "metadata": {},
     "output_type": "execute_result"
    }
   ],
   "source": [
    "intervention.columns"
   ]
  },
  {
   "cell_type": "code",
   "execution_count": 10,
   "metadata": {},
   "outputs": [],
   "source": [
    "# drop the columns that are not needed:\n",
    "#  mission id, cityname permanence, streetname permanence, 'permanence short name', 'permanence long name','postalcode intervention'\n",
    "# 'cityname intervention', 'name destination hospital','cityname destination hospital', 'streetname destination hospital', 'abandon reason'\n",
    "intervention = intervention.drop(columns=['mission id', 'cityname permanence', 'streetname permanence', 'permanence short name', \n",
    "                                          'permanence long name', 'postalcode intervention', 'cityname intervention', \n",
    "                                          'name destination hospital', 'cityname destination hospital', 'streetname destination hospital', \n",
    "                                          'abandon reason'])"
   ]
  },
  {
   "cell_type": "code",
   "execution_count": 13,
   "metadata": {},
   "outputs": [],
   "source": [
    "interv_event_level = intervention[['eventlevel firstcall', 'eventlevel trip', 'latitude intervention', 'longitude intervention',\n",
    "    'province intervention', 'eventlevel firstcall percentage', 'smae event level']]\n",
    "\n",
    "interv_event_type = intervention[['eventtype firstcall', 'eventtype trip', 'latitude intervention', 'longitude intervention','same event type']]\n",
    "\n",
    "interv_time = intervention[['t0', 't6', 'waiting time',\n",
    "       'intervention duration', 'departure time (t1reported)',\n",
    "       'departure time (t1confirmed)', 'calculated traveltime destinatio',\n",
    "       'calculated distance destination', 'number of transported persons',\n",
    "       'time period', 'time intervention']]\n",
    "\n",
    "interv_location = intervention[['latitude intervention', 'longitude intervention', 'latitude permanence', 'longitude permanence']]"
   ]
  },
  {
   "cell_type": "markdown",
   "metadata": {},
   "source": [
    "# interv_event_type"
   ]
  },
  {
   "cell_type": "code",
   "execution_count": 19,
   "metadata": {},
   "outputs": [
    {
     "data": {
      "text/plain": [
       "same event type\n",
       "1    320520\n",
       "0     17967\n",
       "Name: count, dtype: int64"
      ]
     },
     "execution_count": 19,
     "metadata": {},
     "output_type": "execute_result"
    }
   ],
   "source": [
    "# frequency of 'same event type' in interv_event_type\n",
    "interv_event_type['same event type'].value_counts()"
   ]
  },
  {
   "cell_type": "markdown",
   "metadata": {},
   "source": [
    "### which type was most frequently mislabel? "
   ]
  },
  {
   "cell_type": "code",
   "execution_count": 21,
   "metadata": {},
   "outputs": [],
   "source": [
    "# list distinct values of eventtype firstcall\n",
    "# interv_event_type['eventtype firstcall'].unique()\n",
    "# interv_event_type['eventtype trip'].unique()"
   ]
  },
  {
   "cell_type": "markdown",
   "metadata": {},
   "source": [
    "# interv_event_level"
   ]
  },
  {
   "cell_type": "code",
   "execution_count": 20,
   "metadata": {},
   "outputs": [
    {
     "data": {
      "text/plain": [
       "smae event level\n",
       "1    320298\n",
       "0     18189\n",
       "Name: count, dtype: int64"
      ]
     },
     "execution_count": 20,
     "metadata": {},
     "output_type": "execute_result"
    }
   ],
   "source": [
    "# frequency of 'smae event level' in interv_event_level\n",
    "interv_event_level['smae event level'].value_counts()"
   ]
  },
  {
   "cell_type": "markdown",
   "metadata": {},
   "source": [
    "### which region has more severe cases?"
   ]
  },
  {
   "cell_type": "code",
   "execution_count": null,
   "metadata": {},
   "outputs": [],
   "source": []
  }
 ],
 "metadata": {
  "kernelspec": {
   "display_name": "waffle",
   "language": "python",
   "name": "python3"
  },
  "language_info": {
   "codemirror_mode": {
    "name": "ipython",
    "version": 3
   },
   "file_extension": ".py",
   "mimetype": "text/x-python",
   "name": "python",
   "nbconvert_exporter": "python",
   "pygments_lexer": "ipython3",
   "version": "3.11.5"
  }
 },
 "nbformat": 4,
 "nbformat_minor": 2
}
